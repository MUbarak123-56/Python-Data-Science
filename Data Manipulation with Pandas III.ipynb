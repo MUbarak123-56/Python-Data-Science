{
    "cells": [
        {
            "metadata": {
                "collapsed": true
            },
            "cell_type": "markdown",
            "source": "# Data Manipulation with Pandas III"
        },
        {
            "metadata": {},
            "cell_type": "markdown",
            "source": "## Pivot Tables"
        },
        {
            "metadata": {},
            "cell_type": "markdown",
            "source": "### Motivating Pivot Tables"
        },
        {
            "metadata": {},
            "cell_type": "code",
            "source": "import numpy as np\nimport pandas as pd\nimport seaborn as sns\ntitanic = sns.load_dataset('titanic')",
            "execution_count": 1,
            "outputs": []
        },
        {
            "metadata": {},
            "cell_type": "code",
            "source": "titanic.head()",
            "execution_count": 2,
            "outputs": [
                {
                    "output_type": "execute_result",
                    "execution_count": 2,
                    "data": {
                        "text/plain": "   survived  pclass     sex   age  sibsp  parch     fare embarked  class  \\\n0         0       3    male  22.0      1      0   7.2500        S  Third   \n1         1       1  female  38.0      1      0  71.2833        C  First   \n2         1       3  female  26.0      0      0   7.9250        S  Third   \n3         1       1  female  35.0      1      0  53.1000        S  First   \n4         0       3    male  35.0      0      0   8.0500        S  Third   \n\n     who  adult_male deck  embark_town alive  alone  \n0    man        True  NaN  Southampton    no  False  \n1  woman       False    C    Cherbourg   yes  False  \n2  woman       False  NaN  Southampton   yes   True  \n3  woman       False    C  Southampton   yes  False  \n4    man        True  NaN  Southampton    no   True  ",
                        "text/html": "<div>\n<style scoped>\n    .dataframe tbody tr th:only-of-type {\n        vertical-align: middle;\n    }\n\n    .dataframe tbody tr th {\n        vertical-align: top;\n    }\n\n    .dataframe thead th {\n        text-align: right;\n    }\n</style>\n<table border=\"1\" class=\"dataframe\">\n  <thead>\n    <tr style=\"text-align: right;\">\n      <th></th>\n      <th>survived</th>\n      <th>pclass</th>\n      <th>sex</th>\n      <th>age</th>\n      <th>sibsp</th>\n      <th>parch</th>\n      <th>fare</th>\n      <th>embarked</th>\n      <th>class</th>\n      <th>who</th>\n      <th>adult_male</th>\n      <th>deck</th>\n      <th>embark_town</th>\n      <th>alive</th>\n      <th>alone</th>\n    </tr>\n  </thead>\n  <tbody>\n    <tr>\n      <th>0</th>\n      <td>0</td>\n      <td>3</td>\n      <td>male</td>\n      <td>22.0</td>\n      <td>1</td>\n      <td>0</td>\n      <td>7.2500</td>\n      <td>S</td>\n      <td>Third</td>\n      <td>man</td>\n      <td>True</td>\n      <td>NaN</td>\n      <td>Southampton</td>\n      <td>no</td>\n      <td>False</td>\n    </tr>\n    <tr>\n      <th>1</th>\n      <td>1</td>\n      <td>1</td>\n      <td>female</td>\n      <td>38.0</td>\n      <td>1</td>\n      <td>0</td>\n      <td>71.2833</td>\n      <td>C</td>\n      <td>First</td>\n      <td>woman</td>\n      <td>False</td>\n      <td>C</td>\n      <td>Cherbourg</td>\n      <td>yes</td>\n      <td>False</td>\n    </tr>\n    <tr>\n      <th>2</th>\n      <td>1</td>\n      <td>3</td>\n      <td>female</td>\n      <td>26.0</td>\n      <td>0</td>\n      <td>0</td>\n      <td>7.9250</td>\n      <td>S</td>\n      <td>Third</td>\n      <td>woman</td>\n      <td>False</td>\n      <td>NaN</td>\n      <td>Southampton</td>\n      <td>yes</td>\n      <td>True</td>\n    </tr>\n    <tr>\n      <th>3</th>\n      <td>1</td>\n      <td>1</td>\n      <td>female</td>\n      <td>35.0</td>\n      <td>1</td>\n      <td>0</td>\n      <td>53.1000</td>\n      <td>S</td>\n      <td>First</td>\n      <td>woman</td>\n      <td>False</td>\n      <td>C</td>\n      <td>Southampton</td>\n      <td>yes</td>\n      <td>False</td>\n    </tr>\n    <tr>\n      <th>4</th>\n      <td>0</td>\n      <td>3</td>\n      <td>male</td>\n      <td>35.0</td>\n      <td>0</td>\n      <td>0</td>\n      <td>8.0500</td>\n      <td>S</td>\n      <td>Third</td>\n      <td>man</td>\n      <td>True</td>\n      <td>NaN</td>\n      <td>Southampton</td>\n      <td>no</td>\n      <td>True</td>\n    </tr>\n  </tbody>\n</table>\n</div>"
                    },
                    "metadata": {}
                }
            ]
        },
        {
            "metadata": {},
            "cell_type": "markdown",
            "source": "### Pivot Tables by Hand"
        },
        {
            "metadata": {},
            "cell_type": "code",
            "source": "titanic.groupby('sex')[['survived']].mean()",
            "execution_count": 3,
            "outputs": [
                {
                    "output_type": "execute_result",
                    "execution_count": 3,
                    "data": {
                        "text/plain": "        survived\nsex             \nfemale  0.742038\nmale    0.188908",
                        "text/html": "<div>\n<style scoped>\n    .dataframe tbody tr th:only-of-type {\n        vertical-align: middle;\n    }\n\n    .dataframe tbody tr th {\n        vertical-align: top;\n    }\n\n    .dataframe thead th {\n        text-align: right;\n    }\n</style>\n<table border=\"1\" class=\"dataframe\">\n  <thead>\n    <tr style=\"text-align: right;\">\n      <th></th>\n      <th>survived</th>\n    </tr>\n    <tr>\n      <th>sex</th>\n      <th></th>\n    </tr>\n  </thead>\n  <tbody>\n    <tr>\n      <th>female</th>\n      <td>0.742038</td>\n    </tr>\n    <tr>\n      <th>male</th>\n      <td>0.188908</td>\n    </tr>\n  </tbody>\n</table>\n</div>"
                    },
                    "metadata": {}
                }
            ]
        },
        {
            "metadata": {},
            "cell_type": "code",
            "source": "titanic.groupby(['sex', 'class'])['survived'].aggregate('mean').unstack()",
            "execution_count": 4,
            "outputs": [
                {
                    "output_type": "execute_result",
                    "execution_count": 4,
                    "data": {
                        "text/plain": "class      First    Second     Third\nsex                                 \nfemale  0.968085  0.921053  0.500000\nmale    0.368852  0.157407  0.135447",
                        "text/html": "<div>\n<style scoped>\n    .dataframe tbody tr th:only-of-type {\n        vertical-align: middle;\n    }\n\n    .dataframe tbody tr th {\n        vertical-align: top;\n    }\n\n    .dataframe thead th {\n        text-align: right;\n    }\n</style>\n<table border=\"1\" class=\"dataframe\">\n  <thead>\n    <tr style=\"text-align: right;\">\n      <th>class</th>\n      <th>First</th>\n      <th>Second</th>\n      <th>Third</th>\n    </tr>\n    <tr>\n      <th>sex</th>\n      <th></th>\n      <th></th>\n      <th></th>\n    </tr>\n  </thead>\n  <tbody>\n    <tr>\n      <th>female</th>\n      <td>0.968085</td>\n      <td>0.921053</td>\n      <td>0.500000</td>\n    </tr>\n    <tr>\n      <th>male</th>\n      <td>0.368852</td>\n      <td>0.157407</td>\n      <td>0.135447</td>\n    </tr>\n  </tbody>\n</table>\n</div>"
                    },
                    "metadata": {}
                }
            ]
        },
        {
            "metadata": {},
            "cell_type": "markdown",
            "source": "### Pivot Table Syntax"
        },
        {
            "metadata": {},
            "cell_type": "code",
            "source": "titanic.pivot_table('survived', index='sex', columns='class')",
            "execution_count": 5,
            "outputs": [
                {
                    "output_type": "execute_result",
                    "execution_count": 5,
                    "data": {
                        "text/plain": "class      First    Second     Third\nsex                                 \nfemale  0.968085  0.921053  0.500000\nmale    0.368852  0.157407  0.135447",
                        "text/html": "<div>\n<style scoped>\n    .dataframe tbody tr th:only-of-type {\n        vertical-align: middle;\n    }\n\n    .dataframe tbody tr th {\n        vertical-align: top;\n    }\n\n    .dataframe thead th {\n        text-align: right;\n    }\n</style>\n<table border=\"1\" class=\"dataframe\">\n  <thead>\n    <tr style=\"text-align: right;\">\n      <th>class</th>\n      <th>First</th>\n      <th>Second</th>\n      <th>Third</th>\n    </tr>\n    <tr>\n      <th>sex</th>\n      <th></th>\n      <th></th>\n      <th></th>\n    </tr>\n  </thead>\n  <tbody>\n    <tr>\n      <th>female</th>\n      <td>0.968085</td>\n      <td>0.921053</td>\n      <td>0.500000</td>\n    </tr>\n    <tr>\n      <th>male</th>\n      <td>0.368852</td>\n      <td>0.157407</td>\n      <td>0.135447</td>\n    </tr>\n  </tbody>\n</table>\n</div>"
                    },
                    "metadata": {}
                }
            ]
        },
        {
            "metadata": {},
            "cell_type": "markdown",
            "source": "#### Multi-level pivot tables"
        },
        {
            "metadata": {},
            "cell_type": "code",
            "source": "age = pd.cut(titanic['age'], [0,18,80])\ntitanic.pivot_table('survived', ['sex', age], 'class')",
            "execution_count": 6,
            "outputs": [
                {
                    "output_type": "execute_result",
                    "execution_count": 6,
                    "data": {
                        "text/plain": "class               First    Second     Third\nsex    age                                   \nfemale (0, 18]   0.909091  1.000000  0.511628\n       (18, 80]  0.972973  0.900000  0.423729\nmale   (0, 18]   0.800000  0.600000  0.215686\n       (18, 80]  0.375000  0.071429  0.133663",
                        "text/html": "<div>\n<style scoped>\n    .dataframe tbody tr th:only-of-type {\n        vertical-align: middle;\n    }\n\n    .dataframe tbody tr th {\n        vertical-align: top;\n    }\n\n    .dataframe thead th {\n        text-align: right;\n    }\n</style>\n<table border=\"1\" class=\"dataframe\">\n  <thead>\n    <tr style=\"text-align: right;\">\n      <th></th>\n      <th>class</th>\n      <th>First</th>\n      <th>Second</th>\n      <th>Third</th>\n    </tr>\n    <tr>\n      <th>sex</th>\n      <th>age</th>\n      <th></th>\n      <th></th>\n      <th></th>\n    </tr>\n  </thead>\n  <tbody>\n    <tr>\n      <th rowspan=\"2\" valign=\"top\">female</th>\n      <th>(0, 18]</th>\n      <td>0.909091</td>\n      <td>1.000000</td>\n      <td>0.511628</td>\n    </tr>\n    <tr>\n      <th>(18, 80]</th>\n      <td>0.972973</td>\n      <td>0.900000</td>\n      <td>0.423729</td>\n    </tr>\n    <tr>\n      <th rowspan=\"2\" valign=\"top\">male</th>\n      <th>(0, 18]</th>\n      <td>0.800000</td>\n      <td>0.600000</td>\n      <td>0.215686</td>\n    </tr>\n    <tr>\n      <th>(18, 80]</th>\n      <td>0.375000</td>\n      <td>0.071429</td>\n      <td>0.133663</td>\n    </tr>\n  </tbody>\n</table>\n</div>"
                    },
                    "metadata": {}
                }
            ]
        },
        {
            "metadata": {},
            "cell_type": "code",
            "source": "fare = pd.qcut(titanic['fare'], 2)\ntitanic.pivot_table('survived', ['sex', age], [fare, 'class'])",
            "execution_count": 7,
            "outputs": [
                {
                    "output_type": "execute_result",
                    "execution_count": 7,
                    "data": {
                        "text/plain": "fare            (-0.001, 14.454]                     (14.454, 512.329]  \\\nclass                      First    Second     Third             First   \nsex    age                                                               \nfemale (0, 18]               NaN  1.000000  0.714286          0.909091   \n       (18, 80]              NaN  0.880000  0.444444          0.972973   \nmale   (0, 18]               NaN  0.000000  0.260870          0.800000   \n       (18, 80]              0.0  0.098039  0.125000          0.391304   \n\nfare                                 \nclass              Second     Third  \nsex    age                           \nfemale (0, 18]   1.000000  0.318182  \n       (18, 80]  0.914286  0.391304  \nmale   (0, 18]   0.818182  0.178571  \n       (18, 80]  0.030303  0.192308  ",
                        "text/html": "<div>\n<style scoped>\n    .dataframe tbody tr th:only-of-type {\n        vertical-align: middle;\n    }\n\n    .dataframe tbody tr th {\n        vertical-align: top;\n    }\n\n    .dataframe thead tr th {\n        text-align: left;\n    }\n\n    .dataframe thead tr:last-of-type th {\n        text-align: right;\n    }\n</style>\n<table border=\"1\" class=\"dataframe\">\n  <thead>\n    <tr>\n      <th></th>\n      <th>fare</th>\n      <th colspan=\"3\" halign=\"left\">(-0.001, 14.454]</th>\n      <th colspan=\"3\" halign=\"left\">(14.454, 512.329]</th>\n    </tr>\n    <tr>\n      <th></th>\n      <th>class</th>\n      <th>First</th>\n      <th>Second</th>\n      <th>Third</th>\n      <th>First</th>\n      <th>Second</th>\n      <th>Third</th>\n    </tr>\n    <tr>\n      <th>sex</th>\n      <th>age</th>\n      <th></th>\n      <th></th>\n      <th></th>\n      <th></th>\n      <th></th>\n      <th></th>\n    </tr>\n  </thead>\n  <tbody>\n    <tr>\n      <th rowspan=\"2\" valign=\"top\">female</th>\n      <th>(0, 18]</th>\n      <td>NaN</td>\n      <td>1.000000</td>\n      <td>0.714286</td>\n      <td>0.909091</td>\n      <td>1.000000</td>\n      <td>0.318182</td>\n    </tr>\n    <tr>\n      <th>(18, 80]</th>\n      <td>NaN</td>\n      <td>0.880000</td>\n      <td>0.444444</td>\n      <td>0.972973</td>\n      <td>0.914286</td>\n      <td>0.391304</td>\n    </tr>\n    <tr>\n      <th rowspan=\"2\" valign=\"top\">male</th>\n      <th>(0, 18]</th>\n      <td>NaN</td>\n      <td>0.000000</td>\n      <td>0.260870</td>\n      <td>0.800000</td>\n      <td>0.818182</td>\n      <td>0.178571</td>\n    </tr>\n    <tr>\n      <th>(18, 80]</th>\n      <td>0.0</td>\n      <td>0.098039</td>\n      <td>0.125000</td>\n      <td>0.391304</td>\n      <td>0.030303</td>\n      <td>0.192308</td>\n    </tr>\n  </tbody>\n</table>\n</div>"
                    },
                    "metadata": {}
                }
            ]
        },
        {
            "metadata": {},
            "cell_type": "markdown",
            "source": "#### Additional pivot table options"
        },
        {
            "metadata": {},
            "cell_type": "code",
            "source": "titanic.pivot_table(index = 'sex', columns = 'class', aggfunc = {'survived':sum, 'fare':'mean'})",
            "execution_count": 8,
            "outputs": [
                {
                    "output_type": "execute_result",
                    "execution_count": 8,
                    "data": {
                        "text/plain": "              fare                       survived             \nclass        First     Second      Third    First Second Third\nsex                                                           \nfemale  106.125798  21.970121  16.118810       91     70    72\nmale     67.226127  19.741782  12.661633       45     17    47",
                        "text/html": "<div>\n<style scoped>\n    .dataframe tbody tr th:only-of-type {\n        vertical-align: middle;\n    }\n\n    .dataframe tbody tr th {\n        vertical-align: top;\n    }\n\n    .dataframe thead tr th {\n        text-align: left;\n    }\n\n    .dataframe thead tr:last-of-type th {\n        text-align: right;\n    }\n</style>\n<table border=\"1\" class=\"dataframe\">\n  <thead>\n    <tr>\n      <th></th>\n      <th colspan=\"3\" halign=\"left\">fare</th>\n      <th colspan=\"3\" halign=\"left\">survived</th>\n    </tr>\n    <tr>\n      <th>class</th>\n      <th>First</th>\n      <th>Second</th>\n      <th>Third</th>\n      <th>First</th>\n      <th>Second</th>\n      <th>Third</th>\n    </tr>\n    <tr>\n      <th>sex</th>\n      <th></th>\n      <th></th>\n      <th></th>\n      <th></th>\n      <th></th>\n      <th></th>\n    </tr>\n  </thead>\n  <tbody>\n    <tr>\n      <th>female</th>\n      <td>106.125798</td>\n      <td>21.970121</td>\n      <td>16.118810</td>\n      <td>91</td>\n      <td>70</td>\n      <td>72</td>\n    </tr>\n    <tr>\n      <th>male</th>\n      <td>67.226127</td>\n      <td>19.741782</td>\n      <td>12.661633</td>\n      <td>45</td>\n      <td>17</td>\n      <td>47</td>\n    </tr>\n  </tbody>\n</table>\n</div>"
                    },
                    "metadata": {}
                }
            ]
        },
        {
            "metadata": {},
            "cell_type": "code",
            "source": "titanic.pivot_table('survived', index='sex', columns='class', margins=True)",
            "execution_count": 9,
            "outputs": [
                {
                    "output_type": "execute_result",
                    "execution_count": 9,
                    "data": {
                        "text/plain": "class      First    Second     Third       All\nsex                                           \nfemale  0.968085  0.921053  0.500000  0.742038\nmale    0.368852  0.157407  0.135447  0.188908\nAll     0.629630  0.472826  0.242363  0.383838",
                        "text/html": "<div>\n<style scoped>\n    .dataframe tbody tr th:only-of-type {\n        vertical-align: middle;\n    }\n\n    .dataframe tbody tr th {\n        vertical-align: top;\n    }\n\n    .dataframe thead th {\n        text-align: right;\n    }\n</style>\n<table border=\"1\" class=\"dataframe\">\n  <thead>\n    <tr style=\"text-align: right;\">\n      <th>class</th>\n      <th>First</th>\n      <th>Second</th>\n      <th>Third</th>\n      <th>All</th>\n    </tr>\n    <tr>\n      <th>sex</th>\n      <th></th>\n      <th></th>\n      <th></th>\n      <th></th>\n    </tr>\n  </thead>\n  <tbody>\n    <tr>\n      <th>female</th>\n      <td>0.968085</td>\n      <td>0.921053</td>\n      <td>0.500000</td>\n      <td>0.742038</td>\n    </tr>\n    <tr>\n      <th>male</th>\n      <td>0.368852</td>\n      <td>0.157407</td>\n      <td>0.135447</td>\n      <td>0.188908</td>\n    </tr>\n    <tr>\n      <th>All</th>\n      <td>0.629630</td>\n      <td>0.472826</td>\n      <td>0.242363</td>\n      <td>0.383838</td>\n    </tr>\n  </tbody>\n</table>\n</div>"
                    },
                    "metadata": {}
                }
            ]
        },
        {
            "metadata": {},
            "cell_type": "markdown",
            "source": "## Vectorized String Operations"
        },
        {
            "metadata": {},
            "cell_type": "markdown",
            "source": "### Introducing Pandas String Operations"
        },
        {
            "metadata": {},
            "cell_type": "code",
            "source": "x = np.array([2,3,5,7,11,13])\nx * 2",
            "execution_count": 10,
            "outputs": [
                {
                    "output_type": "execute_result",
                    "execution_count": 10,
                    "data": {
                        "text/plain": "array([ 4,  6, 10, 14, 22, 26])"
                    },
                    "metadata": {}
                }
            ]
        },
        {
            "metadata": {},
            "cell_type": "code",
            "source": "data = ['peter', 'Paul', 'MARY', 'gUIDO']\n[s.capitalize() for s in data]",
            "execution_count": 11,
            "outputs": [
                {
                    "output_type": "execute_result",
                    "execution_count": 11,
                    "data": {
                        "text/plain": "['Peter', 'Paul', 'Mary', 'Guido']"
                    },
                    "metadata": {}
                }
            ]
        },
        {
            "metadata": {},
            "cell_type": "code",
            "source": "names = pd.Series(data)\nnames",
            "execution_count": 12,
            "outputs": [
                {
                    "output_type": "execute_result",
                    "execution_count": 12,
                    "data": {
                        "text/plain": "0    peter\n1     Paul\n2     MARY\n3    gUIDO\ndtype: object"
                    },
                    "metadata": {}
                }
            ]
        },
        {
            "metadata": {},
            "cell_type": "code",
            "source": "names.str.capitalize()",
            "execution_count": 13,
            "outputs": [
                {
                    "output_type": "execute_result",
                    "execution_count": 13,
                    "data": {
                        "text/plain": "0    Peter\n1     Paul\n2     Mary\n3    Guido\ndtype: object"
                    },
                    "metadata": {}
                }
            ]
        },
        {
            "metadata": {},
            "cell_type": "markdown",
            "source": "### Tables of Pandas String methods"
        },
        {
            "metadata": {},
            "cell_type": "code",
            "source": "monte = pd.Series(['Graham Chapman', 'John Cleese', 'Terry Gilliam', 'Eric Idle', 'Terry Jones', 'Michael Palin'])",
            "execution_count": 14,
            "outputs": []
        },
        {
            "metadata": {},
            "cell_type": "markdown",
            "source": "#### Methods similar to Python string methods"
        },
        {
            "metadata": {},
            "cell_type": "code",
            "source": "monte.str.lower()",
            "execution_count": 15,
            "outputs": [
                {
                    "output_type": "execute_result",
                    "execution_count": 15,
                    "data": {
                        "text/plain": "0    graham chapman\n1       john cleese\n2     terry gilliam\n3         eric idle\n4       terry jones\n5     michael palin\ndtype: object"
                    },
                    "metadata": {}
                }
            ]
        },
        {
            "metadata": {},
            "cell_type": "code",
            "source": "monte.str.len()",
            "execution_count": 16,
            "outputs": [
                {
                    "output_type": "execute_result",
                    "execution_count": 16,
                    "data": {
                        "text/plain": "0    14\n1    11\n2    13\n3     9\n4    11\n5    13\ndtype: int64"
                    },
                    "metadata": {}
                }
            ]
        },
        {
            "metadata": {},
            "cell_type": "code",
            "source": "monte.str.startswith('T')",
            "execution_count": 17,
            "outputs": [
                {
                    "output_type": "execute_result",
                    "execution_count": 17,
                    "data": {
                        "text/plain": "0    False\n1    False\n2     True\n3    False\n4     True\n5    False\ndtype: bool"
                    },
                    "metadata": {}
                }
            ]
        },
        {
            "metadata": {},
            "cell_type": "code",
            "source": "monte.str.split()",
            "execution_count": 18,
            "outputs": [
                {
                    "output_type": "execute_result",
                    "execution_count": 18,
                    "data": {
                        "text/plain": "0    [Graham, Chapman]\n1       [John, Cleese]\n2     [Terry, Gilliam]\n3         [Eric, Idle]\n4       [Terry, Jones]\n5     [Michael, Palin]\ndtype: object"
                    },
                    "metadata": {}
                }
            ]
        },
        {
            "metadata": {},
            "cell_type": "markdown",
            "source": "#### Methods using regular expressions"
        },
        {
            "metadata": {},
            "cell_type": "code",
            "source": "monte.str.extract('([A-Za-z]+)', expand=False)",
            "execution_count": 19,
            "outputs": [
                {
                    "output_type": "execute_result",
                    "execution_count": 19,
                    "data": {
                        "text/plain": "0     Graham\n1       John\n2      Terry\n3       Eric\n4      Terry\n5    Michael\ndtype: object"
                    },
                    "metadata": {}
                }
            ]
        },
        {
            "metadata": {},
            "cell_type": "code",
            "source": "monte.str.findall(r'^[^AEIOU].*[^aeiou]$')",
            "execution_count": 20,
            "outputs": [
                {
                    "output_type": "execute_result",
                    "execution_count": 20,
                    "data": {
                        "text/plain": "0    [Graham Chapman]\n1                  []\n2     [Terry Gilliam]\n3                  []\n4       [Terry Jones]\n5     [Michael Palin]\ndtype: object"
                    },
                    "metadata": {}
                }
            ]
        },
        {
            "metadata": {},
            "cell_type": "markdown",
            "source": "#### Miscellanous methods"
        },
        {
            "metadata": {},
            "cell_type": "code",
            "source": "## Vectorized item access and slicing\nmonte.str[0:3]",
            "execution_count": 21,
            "outputs": [
                {
                    "output_type": "execute_result",
                    "execution_count": 21,
                    "data": {
                        "text/plain": "0    Gra\n1    Joh\n2    Ter\n3    Eri\n4    Ter\n5    Mic\ndtype: object"
                    },
                    "metadata": {}
                }
            ]
        },
        {
            "metadata": {},
            "cell_type": "code",
            "source": "monte.str.split().str.get(-1)",
            "execution_count": 22,
            "outputs": [
                {
                    "output_type": "execute_result",
                    "execution_count": 22,
                    "data": {
                        "text/plain": "0    Chapman\n1     Cleese\n2    Gilliam\n3       Idle\n4      Jones\n5      Palin\ndtype: object"
                    },
                    "metadata": {}
                }
            ]
        },
        {
            "metadata": {},
            "cell_type": "code",
            "source": "## Indicator Variables\nfull_monte = pd.DataFrame({'name': monte,\n                           'info': ['B|C|D', 'B|D', 'A|C',\n                                    'B|D', 'B|C', 'B|C|D']})\nfull_monte",
            "execution_count": 23,
            "outputs": [
                {
                    "output_type": "execute_result",
                    "execution_count": 23,
                    "data": {
                        "text/plain": "             name   info\n0  Graham Chapman  B|C|D\n1     John Cleese    B|D\n2   Terry Gilliam    A|C\n3       Eric Idle    B|D\n4     Terry Jones    B|C\n5   Michael Palin  B|C|D",
                        "text/html": "<div>\n<style scoped>\n    .dataframe tbody tr th:only-of-type {\n        vertical-align: middle;\n    }\n\n    .dataframe tbody tr th {\n        vertical-align: top;\n    }\n\n    .dataframe thead th {\n        text-align: right;\n    }\n</style>\n<table border=\"1\" class=\"dataframe\">\n  <thead>\n    <tr style=\"text-align: right;\">\n      <th></th>\n      <th>name</th>\n      <th>info</th>\n    </tr>\n  </thead>\n  <tbody>\n    <tr>\n      <th>0</th>\n      <td>Graham Chapman</td>\n      <td>B|C|D</td>\n    </tr>\n    <tr>\n      <th>1</th>\n      <td>John Cleese</td>\n      <td>B|D</td>\n    </tr>\n    <tr>\n      <th>2</th>\n      <td>Terry Gilliam</td>\n      <td>A|C</td>\n    </tr>\n    <tr>\n      <th>3</th>\n      <td>Eric Idle</td>\n      <td>B|D</td>\n    </tr>\n    <tr>\n      <th>4</th>\n      <td>Terry Jones</td>\n      <td>B|C</td>\n    </tr>\n    <tr>\n      <th>5</th>\n      <td>Michael Palin</td>\n      <td>B|C|D</td>\n    </tr>\n  </tbody>\n</table>\n</div>"
                    },
                    "metadata": {}
                }
            ]
        },
        {
            "metadata": {},
            "cell_type": "code",
            "source": "full_monte['info'].str.get_dummies('|')",
            "execution_count": 24,
            "outputs": [
                {
                    "output_type": "execute_result",
                    "execution_count": 24,
                    "data": {
                        "text/plain": "   A  B  C  D\n0  0  1  1  1\n1  0  1  0  1\n2  1  0  1  0\n3  0  1  0  1\n4  0  1  1  0\n5  0  1  1  1",
                        "text/html": "<div>\n<style scoped>\n    .dataframe tbody tr th:only-of-type {\n        vertical-align: middle;\n    }\n\n    .dataframe tbody tr th {\n        vertical-align: top;\n    }\n\n    .dataframe thead th {\n        text-align: right;\n    }\n</style>\n<table border=\"1\" class=\"dataframe\">\n  <thead>\n    <tr style=\"text-align: right;\">\n      <th></th>\n      <th>A</th>\n      <th>B</th>\n      <th>C</th>\n      <th>D</th>\n    </tr>\n  </thead>\n  <tbody>\n    <tr>\n      <th>0</th>\n      <td>0</td>\n      <td>1</td>\n      <td>1</td>\n      <td>1</td>\n    </tr>\n    <tr>\n      <th>1</th>\n      <td>0</td>\n      <td>1</td>\n      <td>0</td>\n      <td>1</td>\n    </tr>\n    <tr>\n      <th>2</th>\n      <td>1</td>\n      <td>0</td>\n      <td>1</td>\n      <td>0</td>\n    </tr>\n    <tr>\n      <th>3</th>\n      <td>0</td>\n      <td>1</td>\n      <td>0</td>\n      <td>1</td>\n    </tr>\n    <tr>\n      <th>4</th>\n      <td>0</td>\n      <td>1</td>\n      <td>1</td>\n      <td>0</td>\n    </tr>\n    <tr>\n      <th>5</th>\n      <td>0</td>\n      <td>1</td>\n      <td>1</td>\n      <td>1</td>\n    </tr>\n  </tbody>\n</table>\n</div>"
                    },
                    "metadata": {}
                }
            ]
        },
        {
            "metadata": {},
            "cell_type": "markdown",
            "source": "## Working with Time Series"
        },
        {
            "metadata": {},
            "cell_type": "markdown",
            "source": "### Dates and Times in Python"
        },
        {
            "metadata": {},
            "cell_type": "markdown",
            "source": "#### Native Python dates and times: datetime and dateutil"
        },
        {
            "metadata": {},
            "cell_type": "code",
            "source": "from datetime import datetime\ndatetime(year = 2015, month = 7, day = 4)",
            "execution_count": 25,
            "outputs": [
                {
                    "output_type": "execute_result",
                    "execution_count": 25,
                    "data": {
                        "text/plain": "datetime.datetime(2015, 7, 4, 0, 0)"
                    },
                    "metadata": {}
                }
            ]
        },
        {
            "metadata": {},
            "cell_type": "code",
            "source": "from dateutil import parser\ndate = parser.parse('4th of July, 2015')\ndate",
            "execution_count": 26,
            "outputs": [
                {
                    "output_type": "execute_result",
                    "execution_count": 26,
                    "data": {
                        "text/plain": "datetime.datetime(2015, 7, 4, 0, 0)"
                    },
                    "metadata": {}
                }
            ]
        },
        {
            "metadata": {},
            "cell_type": "code",
            "source": "date.strftime('%A')",
            "execution_count": 27,
            "outputs": [
                {
                    "output_type": "execute_result",
                    "execution_count": 27,
                    "data": {
                        "text/plain": "'Saturday'"
                    },
                    "metadata": {}
                }
            ]
        },
        {
            "metadata": {},
            "cell_type": "markdown",
            "source": "#### Typed arrays of times: NumPy's datetime64"
        },
        {
            "metadata": {},
            "cell_type": "code",
            "source": "date = np.array('2015-07-04', dtype = np.datetime64)\ndate",
            "execution_count": 28,
            "outputs": [
                {
                    "output_type": "execute_result",
                    "execution_count": 28,
                    "data": {
                        "text/plain": "array('2015-07-04', dtype='datetime64[D]')"
                    },
                    "metadata": {}
                }
            ]
        },
        {
            "metadata": {},
            "cell_type": "code",
            "source": "date + np.arange(12)",
            "execution_count": 29,
            "outputs": [
                {
                    "output_type": "execute_result",
                    "execution_count": 29,
                    "data": {
                        "text/plain": "array(['2015-07-04', '2015-07-05', '2015-07-06', '2015-07-07',\n       '2015-07-08', '2015-07-09', '2015-07-10', '2015-07-11',\n       '2015-07-12', '2015-07-13', '2015-07-14', '2015-07-15'],\n      dtype='datetime64[D]')"
                    },
                    "metadata": {}
                }
            ]
        },
        {
            "metadata": {},
            "cell_type": "code",
            "source": "np.datetime64('2015-07-04')",
            "execution_count": 30,
            "outputs": [
                {
                    "output_type": "execute_result",
                    "execution_count": 30,
                    "data": {
                        "text/plain": "numpy.datetime64('2015-07-04')"
                    },
                    "metadata": {}
                }
            ]
        },
        {
            "metadata": {},
            "cell_type": "code",
            "source": "np.datetime64('2015-07-04 12:00')",
            "execution_count": 31,
            "outputs": [
                {
                    "output_type": "execute_result",
                    "execution_count": 31,
                    "data": {
                        "text/plain": "numpy.datetime64('2015-07-04T12:00')"
                    },
                    "metadata": {}
                }
            ]
        },
        {
            "metadata": {},
            "cell_type": "code",
            "source": "np.datetime64('2015-07-04 12:59:59.50', 'ns')",
            "execution_count": 32,
            "outputs": [
                {
                    "output_type": "execute_result",
                    "execution_count": 32,
                    "data": {
                        "text/plain": "numpy.datetime64('2015-07-04T12:59:59.500000000')"
                    },
                    "metadata": {}
                }
            ]
        },
        {
            "metadata": {},
            "cell_type": "markdown",
            "source": "### Date and time in pandas: best of both worlds"
        },
        {
            "metadata": {},
            "cell_type": "code",
            "source": "import pandas as pd\ndate = pd.to_datetime(\"4th of July, 2015\")\ndate",
            "execution_count": 33,
            "outputs": [
                {
                    "output_type": "execute_result",
                    "execution_count": 33,
                    "data": {
                        "text/plain": "Timestamp('2015-07-04 00:00:00')"
                    },
                    "metadata": {}
                }
            ]
        },
        {
            "metadata": {},
            "cell_type": "code",
            "source": "date.strftime('%A')",
            "execution_count": 36,
            "outputs": [
                {
                    "output_type": "execute_result",
                    "execution_count": 36,
                    "data": {
                        "text/plain": "'Saturday'"
                    },
                    "metadata": {}
                }
            ]
        },
        {
            "metadata": {},
            "cell_type": "code",
            "source": "date + pd.to_timedelta(np.arange(12), 'D')",
            "execution_count": 37,
            "outputs": [
                {
                    "output_type": "execute_result",
                    "execution_count": 37,
                    "data": {
                        "text/plain": "DatetimeIndex(['2015-07-04', '2015-07-05', '2015-07-06', '2015-07-07',\n               '2015-07-08', '2015-07-09', '2015-07-10', '2015-07-11',\n               '2015-07-12', '2015-07-13', '2015-07-14', '2015-07-15'],\n              dtype='datetime64[ns]', freq=None)"
                    },
                    "metadata": {}
                }
            ]
        },
        {
            "metadata": {},
            "cell_type": "markdown",
            "source": "### Pandas Time Series: Indexing by time"
        },
        {
            "metadata": {},
            "cell_type": "code",
            "source": "index = pd.DatetimeIndex(['2014-07-04', '2014-08-04',\n                          '2015-07-04', '2015-08-04'])\ndata = pd.Series([0, 1, 2, 3], index=index)\ndata",
            "execution_count": 38,
            "outputs": [
                {
                    "output_type": "execute_result",
                    "execution_count": 38,
                    "data": {
                        "text/plain": "2014-07-04    0\n2014-08-04    1\n2015-07-04    2\n2015-08-04    3\ndtype: int64"
                    },
                    "metadata": {}
                }
            ]
        },
        {
            "metadata": {},
            "cell_type": "code",
            "source": "data['2014-07-04':'2015-07-04']",
            "execution_count": 39,
            "outputs": [
                {
                    "output_type": "execute_result",
                    "execution_count": 39,
                    "data": {
                        "text/plain": "2014-07-04    0\n2014-08-04    1\n2015-07-04    2\ndtype: int64"
                    },
                    "metadata": {}
                }
            ]
        },
        {
            "metadata": {},
            "cell_type": "code",
            "source": "data['2015']",
            "execution_count": 40,
            "outputs": [
                {
                    "output_type": "execute_result",
                    "execution_count": 40,
                    "data": {
                        "text/plain": "2015-07-04    2\n2015-08-04    3\ndtype: int64"
                    },
                    "metadata": {}
                }
            ]
        },
        {
            "metadata": {},
            "cell_type": "markdown",
            "source": "### Pandas Time Series Data Structures"
        },
        {
            "metadata": {},
            "cell_type": "code",
            "source": "dates = pd.to_datetime([datetime(2015, 7, 3), '4th of July, 2015',\n                       '2015-Jul-6', '07-07-2015', '20150708'])\ndates",
            "execution_count": 41,
            "outputs": [
                {
                    "output_type": "execute_result",
                    "execution_count": 41,
                    "data": {
                        "text/plain": "DatetimeIndex(['2015-07-03', '2015-07-04', '2015-07-06', '2015-07-07',\n               '2015-07-08'],\n              dtype='datetime64[ns]', freq=None)"
                    },
                    "metadata": {}
                }
            ]
        },
        {
            "metadata": {},
            "cell_type": "code",
            "source": "dates.to_period('D')",
            "execution_count": 42,
            "outputs": [
                {
                    "output_type": "execute_result",
                    "execution_count": 42,
                    "data": {
                        "text/plain": "PeriodIndex(['2015-07-03', '2015-07-04', '2015-07-06', '2015-07-07',\n             '2015-07-08'],\n            dtype='period[D]', freq='D')"
                    },
                    "metadata": {}
                }
            ]
        },
        {
            "metadata": {},
            "cell_type": "code",
            "source": "dates - dates[0]",
            "execution_count": 43,
            "outputs": [
                {
                    "output_type": "execute_result",
                    "execution_count": 43,
                    "data": {
                        "text/plain": "TimedeltaIndex(['0 days', '1 days', '3 days', '4 days', '5 days'], dtype='timedelta64[ns]', freq=None)"
                    },
                    "metadata": {}
                }
            ]
        },
        {
            "metadata": {},
            "cell_type": "markdown",
            "source": "### Regular sequences: pd.date_range()"
        },
        {
            "metadata": {},
            "cell_type": "code",
            "source": "pd.date_range('2015-07-03','2015-07-10')",
            "execution_count": 44,
            "outputs": [
                {
                    "output_type": "execute_result",
                    "execution_count": 44,
                    "data": {
                        "text/plain": "DatetimeIndex(['2015-07-03', '2015-07-04', '2015-07-05', '2015-07-06',\n               '2015-07-07', '2015-07-08', '2015-07-09', '2015-07-10'],\n              dtype='datetime64[ns]', freq='D')"
                    },
                    "metadata": {}
                }
            ]
        },
        {
            "metadata": {},
            "cell_type": "code",
            "source": "pd.date_range('2015-07-03', periods = 8)",
            "execution_count": 45,
            "outputs": [
                {
                    "output_type": "execute_result",
                    "execution_count": 45,
                    "data": {
                        "text/plain": "DatetimeIndex(['2015-07-03', '2015-07-04', '2015-07-05', '2015-07-06',\n               '2015-07-07', '2015-07-08', '2015-07-09', '2015-07-10'],\n              dtype='datetime64[ns]', freq='D')"
                    },
                    "metadata": {}
                }
            ]
        },
        {
            "metadata": {},
            "cell_type": "code",
            "source": "pd.date_range('2015-07-03', periods=8, freq='H')",
            "execution_count": 46,
            "outputs": [
                {
                    "output_type": "execute_result",
                    "execution_count": 46,
                    "data": {
                        "text/plain": "DatetimeIndex(['2015-07-03 00:00:00', '2015-07-03 01:00:00',\n               '2015-07-03 02:00:00', '2015-07-03 03:00:00',\n               '2015-07-03 04:00:00', '2015-07-03 05:00:00',\n               '2015-07-03 06:00:00', '2015-07-03 07:00:00'],\n              dtype='datetime64[ns]', freq='H')"
                    },
                    "metadata": {}
                }
            ]
        },
        {
            "metadata": {},
            "cell_type": "code",
            "source": "pd.period_range('2015-07', periods=8, freq='M')",
            "execution_count": 47,
            "outputs": [
                {
                    "output_type": "execute_result",
                    "execution_count": 47,
                    "data": {
                        "text/plain": "PeriodIndex(['2015-07', '2015-08', '2015-09', '2015-10', '2015-11', '2015-12',\n             '2016-01', '2016-02'],\n            dtype='period[M]', freq='M')"
                    },
                    "metadata": {}
                }
            ]
        },
        {
            "metadata": {},
            "cell_type": "code",
            "source": "pd.timedelta_range(0, periods=10, freq='H')",
            "execution_count": 48,
            "outputs": [
                {
                    "output_type": "execute_result",
                    "execution_count": 48,
                    "data": {
                        "text/plain": "TimedeltaIndex(['00:00:00', '01:00:00', '02:00:00', '03:00:00', '04:00:00',\n                '05:00:00', '06:00:00', '07:00:00', '08:00:00', '09:00:00'],\n               dtype='timedelta64[ns]', freq='H')"
                    },
                    "metadata": {}
                }
            ]
        },
        {
            "metadata": {},
            "cell_type": "markdown",
            "source": "### FREQUENCIES AND OFFSETS"
        },
        {
            "metadata": {},
            "cell_type": "code",
            "source": "pd.timedelta_range(0, periods=9, freq=\"2H30T\")",
            "execution_count": 49,
            "outputs": [
                {
                    "output_type": "execute_result",
                    "execution_count": 49,
                    "data": {
                        "text/plain": "TimedeltaIndex(['00:00:00', '02:30:00', '05:00:00', '07:30:00', '10:00:00',\n                '12:30:00', '15:00:00', '17:30:00', '20:00:00'],\n               dtype='timedelta64[ns]', freq='150T')"
                    },
                    "metadata": {}
                }
            ]
        },
        {
            "metadata": {},
            "cell_type": "code",
            "source": "from pandas.tseries.offsets import BDay\npd.date_range('2015-07-01', periods=5, freq=BDay())",
            "execution_count": 50,
            "outputs": [
                {
                    "output_type": "execute_result",
                    "execution_count": 50,
                    "data": {
                        "text/plain": "DatetimeIndex(['2015-07-01', '2015-07-02', '2015-07-03', '2015-07-06',\n               '2015-07-07'],\n              dtype='datetime64[ns]', freq='B')"
                    },
                    "metadata": {}
                }
            ]
        },
        {
            "metadata": {},
            "cell_type": "markdown",
            "source": "## High Performance Pandas: eval() and query()"
        },
        {
            "metadata": {},
            "cell_type": "code",
            "source": "import numpy as np\nrng = np.random.RandomState(42)\nx = rng.rand(1000000)\ny = rng.rand(1000000)\n%timeit x + y",
            "execution_count": 52,
            "outputs": [
                {
                    "output_type": "stream",
                    "text": "1.1 ms \u00b1 95.4 \u00b5s per loop (mean \u00b1 std. dev. of 7 runs, 1000 loops each)\n",
                    "name": "stdout"
                }
            ]
        },
        {
            "metadata": {},
            "cell_type": "code",
            "source": "%timeit np.fromiter((xi + yi for xi, yi in zip(x, y)), dtype=x.dtype, count=len(x))",
            "execution_count": 53,
            "outputs": [
                {
                    "output_type": "stream",
                    "text": "333 ms \u00b1 3.63 ms per loop (mean \u00b1 std. dev. of 7 runs, 1 loop each)\n",
                    "name": "stdout"
                }
            ]
        },
        {
            "metadata": {},
            "cell_type": "code",
            "source": "tmp1 = (x > 0.5)\ntmp2 = (y < 0.5)\nmask = tmp1 & tmp2",
            "execution_count": 54,
            "outputs": []
        },
        {
            "metadata": {},
            "cell_type": "code",
            "source": "import numexpr\nmask_numexpr = numexpr.evaluate('(x > 0.5) & (y < 0.5)')\nnp.allclose(mask, mask_numexpr)",
            "execution_count": 55,
            "outputs": [
                {
                    "output_type": "execute_result",
                    "execution_count": 55,
                    "data": {
                        "text/plain": "True"
                    },
                    "metadata": {}
                }
            ]
        },
        {
            "metadata": {},
            "cell_type": "markdown",
            "source": "### pandas.eval() for Efficient Operations"
        },
        {
            "metadata": {},
            "cell_type": "code",
            "source": "import pandas as pd\nnrows, ncols = 100000, 100\nrng = np.random.RandomState(42)\ndf1, df2, df3, df4 = (pd.DataFrame(rng.rand(nrows, ncols))\n                      for i in range(4))",
            "execution_count": 56,
            "outputs": []
        },
        {
            "metadata": {},
            "cell_type": "code",
            "source": "%timeit df1 + df2 + df3 + df4",
            "execution_count": 57,
            "outputs": [
                {
                    "output_type": "stream",
                    "text": "230 ms \u00b1 27.7 ms per loop (mean \u00b1 std. dev. of 7 runs, 1 loop each)\n",
                    "name": "stdout"
                }
            ]
        },
        {
            "metadata": {},
            "cell_type": "code",
            "source": "%timeit pd.eval('df1 + df2 + df3 + df4')",
            "execution_count": 58,
            "outputs": [
                {
                    "output_type": "stream",
                    "text": "87.7 ms \u00b1 3.51 ms per loop (mean \u00b1 std. dev. of 7 runs, 10 loops each)\n",
                    "name": "stdout"
                }
            ]
        },
        {
            "metadata": {},
            "cell_type": "code",
            "source": "np.allclose(df1 + df2 + df3 + df4,\n            pd.eval('df1 + df2 + df3 + df4'))",
            "execution_count": 59,
            "outputs": [
                {
                    "output_type": "execute_result",
                    "execution_count": 59,
                    "data": {
                        "text/plain": "True"
                    },
                    "metadata": {}
                }
            ]
        },
        {
            "metadata": {},
            "cell_type": "markdown",
            "source": "### Operations supported by pd.eval()"
        },
        {
            "metadata": {},
            "cell_type": "code",
            "source": "df1, df2, df3, df4, df5 = (pd.DataFrame(rng.randint(0, 1000, (100, 3)))\n                           for i in range(5))",
            "execution_count": 60,
            "outputs": []
        },
        {
            "metadata": {},
            "cell_type": "code",
            "source": "## Arithmetic operators\nresult1 = -df1 * df2 / (df3 + df4) - df5\nresult2 = pd.eval('-df1 * df2 / (df3 + df4) - df5')\nnp.allclose(result1, result2)",
            "execution_count": 61,
            "outputs": [
                {
                    "output_type": "execute_result",
                    "execution_count": 61,
                    "data": {
                        "text/plain": "True"
                    },
                    "metadata": {}
                }
            ]
        },
        {
            "metadata": {},
            "cell_type": "code",
            "source": "## Comparison Operators\nresult1 = (df1 < df2) & (df2 <= df3) & (df3 != df4)\nresult2 = pd.eval('df1 < df2 <= df3 != df4')\nnp.allclose(result1, result2)",
            "execution_count": 62,
            "outputs": [
                {
                    "output_type": "execute_result",
                    "execution_count": 62,
                    "data": {
                        "text/plain": "True"
                    },
                    "metadata": {}
                }
            ]
        },
        {
            "metadata": {},
            "cell_type": "code",
            "source": "## Bitwise Operators\nresult1 = (df1 < 0.5) & (df2 < 0.5) | (df3 < df4)\nresult2 = pd.eval('(df1 < 0.5) & (df2 < 0.5) | (df3 < df4)')\nnp.allclose(result1, result2)",
            "execution_count": 63,
            "outputs": [
                {
                    "output_type": "execute_result",
                    "execution_count": 63,
                    "data": {
                        "text/plain": "True"
                    },
                    "metadata": {}
                }
            ]
        },
        {
            "metadata": {},
            "cell_type": "code",
            "source": "result3 = pd.eval('(df1 < 0.5) and (df2 < 0.5) or (df3 < df4)') ## also supports and or or\nnp.allclose(result1, result3)",
            "execution_count": 64,
            "outputs": [
                {
                    "output_type": "execute_result",
                    "execution_count": 64,
                    "data": {
                        "text/plain": "True"
                    },
                    "metadata": {}
                }
            ]
        },
        {
            "metadata": {},
            "cell_type": "code",
            "source": "## Object attributes and indices\nresult1 = df2.T[0] + df3.iloc[1]\nresult2 = pd.eval('df2.T[0] + df3.iloc[1]')\nnp.allclose(result1, result2)",
            "execution_count": 65,
            "outputs": [
                {
                    "output_type": "execute_result",
                    "execution_count": 65,
                    "data": {
                        "text/plain": "True"
                    },
                    "metadata": {}
                }
            ]
        },
        {
            "metadata": {},
            "cell_type": "markdown",
            "source": "### DataFrame.eval() for Column-Wise Operations"
        },
        {
            "metadata": {},
            "cell_type": "code",
            "source": "df = pd.DataFrame(rng.rand(1000, 3), columns=['A', 'B', 'C'])\ndf.head()",
            "execution_count": 66,
            "outputs": [
                {
                    "output_type": "execute_result",
                    "execution_count": 66,
                    "data": {
                        "text/plain": "          A         B         C\n0  0.375506  0.406939  0.069938\n1  0.069087  0.235615  0.154374\n2  0.677945  0.433839  0.652324\n3  0.264038  0.808055  0.347197\n4  0.589161  0.252418  0.557789",
                        "text/html": "<div>\n<style scoped>\n    .dataframe tbody tr th:only-of-type {\n        vertical-align: middle;\n    }\n\n    .dataframe tbody tr th {\n        vertical-align: top;\n    }\n\n    .dataframe thead th {\n        text-align: right;\n    }\n</style>\n<table border=\"1\" class=\"dataframe\">\n  <thead>\n    <tr style=\"text-align: right;\">\n      <th></th>\n      <th>A</th>\n      <th>B</th>\n      <th>C</th>\n    </tr>\n  </thead>\n  <tbody>\n    <tr>\n      <th>0</th>\n      <td>0.375506</td>\n      <td>0.406939</td>\n      <td>0.069938</td>\n    </tr>\n    <tr>\n      <th>1</th>\n      <td>0.069087</td>\n      <td>0.235615</td>\n      <td>0.154374</td>\n    </tr>\n    <tr>\n      <th>2</th>\n      <td>0.677945</td>\n      <td>0.433839</td>\n      <td>0.652324</td>\n    </tr>\n    <tr>\n      <th>3</th>\n      <td>0.264038</td>\n      <td>0.808055</td>\n      <td>0.347197</td>\n    </tr>\n    <tr>\n      <th>4</th>\n      <td>0.589161</td>\n      <td>0.252418</td>\n      <td>0.557789</td>\n    </tr>\n  </tbody>\n</table>\n</div>"
                    },
                    "metadata": {}
                }
            ]
        },
        {
            "metadata": {},
            "cell_type": "code",
            "source": "result1 = (df['A'] + df['B']) / (df['C'] - 1)\nresult2 = pd.eval(\"(df.A + df.B) / (df.C - 1)\")\nnp.allclose(result1, result2)",
            "execution_count": 67,
            "outputs": [
                {
                    "output_type": "execute_result",
                    "execution_count": 67,
                    "data": {
                        "text/plain": "True"
                    },
                    "metadata": {}
                }
            ]
        },
        {
            "metadata": {},
            "cell_type": "code",
            "source": "result3 = df.eval('(A + B) / (C - 1)')\nnp.allclose(result1, result3)",
            "execution_count": 68,
            "outputs": [
                {
                    "output_type": "execute_result",
                    "execution_count": 68,
                    "data": {
                        "text/plain": "True"
                    },
                    "metadata": {}
                }
            ]
        },
        {
            "metadata": {},
            "cell_type": "markdown",
            "source": "## Assignment in DataFrame.eval()"
        },
        {
            "metadata": {},
            "cell_type": "code",
            "source": "df.head()",
            "execution_count": 70,
            "outputs": [
                {
                    "output_type": "execute_result",
                    "execution_count": 70,
                    "data": {
                        "text/plain": "          A         B         C\n0  0.375506  0.406939  0.069938\n1  0.069087  0.235615  0.154374\n2  0.677945  0.433839  0.652324\n3  0.264038  0.808055  0.347197\n4  0.589161  0.252418  0.557789",
                        "text/html": "<div>\n<style scoped>\n    .dataframe tbody tr th:only-of-type {\n        vertical-align: middle;\n    }\n\n    .dataframe tbody tr th {\n        vertical-align: top;\n    }\n\n    .dataframe thead th {\n        text-align: right;\n    }\n</style>\n<table border=\"1\" class=\"dataframe\">\n  <thead>\n    <tr style=\"text-align: right;\">\n      <th></th>\n      <th>A</th>\n      <th>B</th>\n      <th>C</th>\n    </tr>\n  </thead>\n  <tbody>\n    <tr>\n      <th>0</th>\n      <td>0.375506</td>\n      <td>0.406939</td>\n      <td>0.069938</td>\n    </tr>\n    <tr>\n      <th>1</th>\n      <td>0.069087</td>\n      <td>0.235615</td>\n      <td>0.154374</td>\n    </tr>\n    <tr>\n      <th>2</th>\n      <td>0.677945</td>\n      <td>0.433839</td>\n      <td>0.652324</td>\n    </tr>\n    <tr>\n      <th>3</th>\n      <td>0.264038</td>\n      <td>0.808055</td>\n      <td>0.347197</td>\n    </tr>\n    <tr>\n      <th>4</th>\n      <td>0.589161</td>\n      <td>0.252418</td>\n      <td>0.557789</td>\n    </tr>\n  </tbody>\n</table>\n</div>"
                    },
                    "metadata": {}
                }
            ]
        },
        {
            "metadata": {},
            "cell_type": "code",
            "source": "df.eval('D = (A + B)/C', inplace = True)\ndf.head()",
            "execution_count": 71,
            "outputs": [
                {
                    "output_type": "execute_result",
                    "execution_count": 71,
                    "data": {
                        "text/plain": "          A         B         C          D\n0  0.375506  0.406939  0.069938  11.187620\n1  0.069087  0.235615  0.154374   1.973796\n2  0.677945  0.433839  0.652324   1.704344\n3  0.264038  0.808055  0.347197   3.087857\n4  0.589161  0.252418  0.557789   1.508776",
                        "text/html": "<div>\n<style scoped>\n    .dataframe tbody tr th:only-of-type {\n        vertical-align: middle;\n    }\n\n    .dataframe tbody tr th {\n        vertical-align: top;\n    }\n\n    .dataframe thead th {\n        text-align: right;\n    }\n</style>\n<table border=\"1\" class=\"dataframe\">\n  <thead>\n    <tr style=\"text-align: right;\">\n      <th></th>\n      <th>A</th>\n      <th>B</th>\n      <th>C</th>\n      <th>D</th>\n    </tr>\n  </thead>\n  <tbody>\n    <tr>\n      <th>0</th>\n      <td>0.375506</td>\n      <td>0.406939</td>\n      <td>0.069938</td>\n      <td>11.187620</td>\n    </tr>\n    <tr>\n      <th>1</th>\n      <td>0.069087</td>\n      <td>0.235615</td>\n      <td>0.154374</td>\n      <td>1.973796</td>\n    </tr>\n    <tr>\n      <th>2</th>\n      <td>0.677945</td>\n      <td>0.433839</td>\n      <td>0.652324</td>\n      <td>1.704344</td>\n    </tr>\n    <tr>\n      <th>3</th>\n      <td>0.264038</td>\n      <td>0.808055</td>\n      <td>0.347197</td>\n      <td>3.087857</td>\n    </tr>\n    <tr>\n      <th>4</th>\n      <td>0.589161</td>\n      <td>0.252418</td>\n      <td>0.557789</td>\n      <td>1.508776</td>\n    </tr>\n  </tbody>\n</table>\n</div>"
                    },
                    "metadata": {}
                }
            ]
        },
        {
            "metadata": {},
            "cell_type": "code",
            "source": "df.eval('D = (A-B)/C', inplace = True)\ndf.head()",
            "execution_count": 72,
            "outputs": [
                {
                    "output_type": "execute_result",
                    "execution_count": 72,
                    "data": {
                        "text/plain": "          A         B         C         D\n0  0.375506  0.406939  0.069938 -0.449425\n1  0.069087  0.235615  0.154374 -1.078728\n2  0.677945  0.433839  0.652324  0.374209\n3  0.264038  0.808055  0.347197 -1.566886\n4  0.589161  0.252418  0.557789  0.603708",
                        "text/html": "<div>\n<style scoped>\n    .dataframe tbody tr th:only-of-type {\n        vertical-align: middle;\n    }\n\n    .dataframe tbody tr th {\n        vertical-align: top;\n    }\n\n    .dataframe thead th {\n        text-align: right;\n    }\n</style>\n<table border=\"1\" class=\"dataframe\">\n  <thead>\n    <tr style=\"text-align: right;\">\n      <th></th>\n      <th>A</th>\n      <th>B</th>\n      <th>C</th>\n      <th>D</th>\n    </tr>\n  </thead>\n  <tbody>\n    <tr>\n      <th>0</th>\n      <td>0.375506</td>\n      <td>0.406939</td>\n      <td>0.069938</td>\n      <td>-0.449425</td>\n    </tr>\n    <tr>\n      <th>1</th>\n      <td>0.069087</td>\n      <td>0.235615</td>\n      <td>0.154374</td>\n      <td>-1.078728</td>\n    </tr>\n    <tr>\n      <th>2</th>\n      <td>0.677945</td>\n      <td>0.433839</td>\n      <td>0.652324</td>\n      <td>0.374209</td>\n    </tr>\n    <tr>\n      <th>3</th>\n      <td>0.264038</td>\n      <td>0.808055</td>\n      <td>0.347197</td>\n      <td>-1.566886</td>\n    </tr>\n    <tr>\n      <th>4</th>\n      <td>0.589161</td>\n      <td>0.252418</td>\n      <td>0.557789</td>\n      <td>0.603708</td>\n    </tr>\n  </tbody>\n</table>\n</div>"
                    },
                    "metadata": {}
                }
            ]
        },
        {
            "metadata": {},
            "cell_type": "markdown",
            "source": "### Local Variables in DataFrame.eval()"
        },
        {
            "metadata": {},
            "cell_type": "code",
            "source": "column_mean = df.mean(1)\nresult1 = df['A'] + column_mean\nresult2 = df.eval('A + @column_mean')\nnp.allclose(result1,result2)",
            "execution_count": 74,
            "outputs": [
                {
                    "output_type": "execute_result",
                    "execution_count": 74,
                    "data": {
                        "text/plain": "True"
                    },
                    "metadata": {}
                }
            ]
        },
        {
            "metadata": {},
            "cell_type": "markdown",
            "source": "### DataFrame.query()"
        },
        {
            "metadata": {},
            "cell_type": "code",
            "source": "result1 = df[(df.A < 0.5) & (df.B < 0.5)]\nresult2 = pd.eval('df[(df.A < 0.5) & (df.B < 0.5)]')\nnp.allclose(result1, result2)",
            "execution_count": 75,
            "outputs": [
                {
                    "output_type": "execute_result",
                    "execution_count": 75,
                    "data": {
                        "text/plain": "True"
                    },
                    "metadata": {}
                }
            ]
        },
        {
            "metadata": {},
            "cell_type": "code",
            "source": "result2 = df.query('A < 0.5 and B < 0.5')\nnp.allclose(result1, result2)",
            "execution_count": 76,
            "outputs": [
                {
                    "output_type": "execute_result",
                    "execution_count": 76,
                    "data": {
                        "text/plain": "True"
                    },
                    "metadata": {}
                }
            ]
        },
        {
            "metadata": {},
            "cell_type": "code",
            "source": "Cmean = df['C'].mean()\nresult1 = df[(df.A < Cmean) & (df.B < Cmean)]\nresult2 = df.query('A < @Cmean and B < @Cmean')\nnp.allclose(result1, result2)",
            "execution_count": 77,
            "outputs": [
                {
                    "output_type": "execute_result",
                    "execution_count": 77,
                    "data": {
                        "text/plain": "True"
                    },
                    "metadata": {}
                }
            ]
        },
        {
            "metadata": {},
            "cell_type": "markdown",
            "source": "### Performance: When to use these functions"
        },
        {
            "metadata": {},
            "cell_type": "code",
            "source": "x = df[(df.A < 0.5) & (df.B < 0.5)]",
            "execution_count": 78,
            "outputs": []
        },
        {
            "metadata": {},
            "cell_type": "code",
            "source": "tmp1 = df.A < 0.5\ntmp2 = df.B < 0.5\ntmp3 = tmp1 & tmp2\nx = df[tmp3]",
            "execution_count": 79,
            "outputs": []
        },
        {
            "metadata": {},
            "cell_type": "code",
            "source": "df.values.nbytes",
            "execution_count": 80,
            "outputs": [
                {
                    "output_type": "execute_result",
                    "execution_count": 80,
                    "data": {
                        "text/plain": "32000"
                    },
                    "metadata": {}
                }
            ]
        },
        {
            "metadata": {},
            "cell_type": "code",
            "source": "",
            "execution_count": null,
            "outputs": []
        }
    ],
    "metadata": {
        "kernelspec": {
            "name": "python3",
            "display_name": "Python 3.6",
            "language": "python"
        },
        "language_info": {
            "name": "python",
            "version": "3.6.9",
            "mimetype": "text/x-python",
            "codemirror_mode": {
                "name": "ipython",
                "version": 3
            },
            "pygments_lexer": "ipython3",
            "nbconvert_exporter": "python",
            "file_extension": ".py"
        }
    },
    "nbformat": 4,
    "nbformat_minor": 1
}