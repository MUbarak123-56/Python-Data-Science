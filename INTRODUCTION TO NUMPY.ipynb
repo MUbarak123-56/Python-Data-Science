{
    "cells": [
        {
            "metadata": {
                "collapsed": true
            },
            "cell_type": "markdown",
            "source": "# Introduction to NumPy"
        },
        {
            "metadata": {},
            "cell_type": "code",
            "source": "import numpy as np",
            "execution_count": 1,
            "outputs": []
        },
        {
            "metadata": {},
            "cell_type": "code",
            "source": "np.__version__",
            "execution_count": 2,
            "outputs": [
                {
                    "output_type": "execute_result",
                    "execution_count": 2,
                    "data": {
                        "text/plain": "'1.15.4'"
                    },
                    "metadata": {}
                }
            ]
        },
        {
            "metadata": {},
            "cell_type": "code",
            "source": "## An example of a python code\nresult = 0 \nfor i in range(100):    \n    result += i ",
            "execution_count": 3,
            "outputs": []
        },
        {
            "metadata": {},
            "cell_type": "markdown",
            "source": "## A Python List Is More Than Just a List"
        },
        {
            "metadata": {},
            "cell_type": "code",
            "source": "L = list(range(10))",
            "execution_count": 4,
            "outputs": []
        },
        {
            "metadata": {},
            "cell_type": "code",
            "source": "L",
            "execution_count": 5,
            "outputs": [
                {
                    "output_type": "execute_result",
                    "execution_count": 5,
                    "data": {
                        "text/plain": "[0, 1, 2, 3, 4, 5, 6, 7, 8, 9]"
                    },
                    "metadata": {}
                }
            ]
        },
        {
            "metadata": {},
            "cell_type": "code",
            "source": "type(L[0])",
            "execution_count": 6,
            "outputs": [
                {
                    "output_type": "execute_result",
                    "execution_count": 6,
                    "data": {
                        "text/plain": "int"
                    },
                    "metadata": {}
                }
            ]
        },
        {
            "metadata": {},
            "cell_type": "code",
            "source": "L2 = [str(c) for c in L]\nL2",
            "execution_count": 7,
            "outputs": [
                {
                    "output_type": "execute_result",
                    "execution_count": 7,
                    "data": {
                        "text/plain": "['0', '1', '2', '3', '4', '5', '6', '7', '8', '9']"
                    },
                    "metadata": {}
                }
            ]
        },
        {
            "metadata": {},
            "cell_type": "code",
            "source": "type(L2[0])",
            "execution_count": 8,
            "outputs": [
                {
                    "output_type": "execute_result",
                    "execution_count": 8,
                    "data": {
                        "text/plain": "str"
                    },
                    "metadata": {}
                }
            ]
        },
        {
            "metadata": {},
            "cell_type": "code",
            "source": "## Creating a heterogenous lists\nL3 = [True, \"2\", 3.0, 4]\n[type(item) for item in L3]",
            "execution_count": 9,
            "outputs": [
                {
                    "output_type": "execute_result",
                    "execution_count": 9,
                    "data": {
                        "text/plain": "[bool, str, float, int]"
                    },
                    "metadata": {}
                }
            ]
        },
        {
            "metadata": {},
            "cell_type": "markdown",
            "source": "## Fixed Type Arrays in Python"
        },
        {
            "metadata": {},
            "cell_type": "code",
            "source": "import array",
            "execution_count": 10,
            "outputs": []
        },
        {
            "metadata": {},
            "cell_type": "code",
            "source": "L = list(range(10))\nA = array.array('i', L)\nA",
            "execution_count": 11,
            "outputs": [
                {
                    "output_type": "execute_result",
                    "execution_count": 11,
                    "data": {
                        "text/plain": "array('i', [0, 1, 2, 3, 4, 5, 6, 7, 8, 9])"
                    },
                    "metadata": {}
                }
            ]
        },
        {
            "metadata": {},
            "cell_type": "markdown",
            "source": "### Creating Arrays from Python Lists"
        },
        {
            "metadata": {},
            "cell_type": "code",
            "source": "np.array([1,2,3,4,5])",
            "execution_count": 12,
            "outputs": [
                {
                    "output_type": "execute_result",
                    "execution_count": 12,
                    "data": {
                        "text/plain": "array([1, 2, 3, 4, 5])"
                    },
                    "metadata": {}
                }
            ]
        },
        {
            "metadata": {},
            "cell_type": "code",
            "source": "np.array([3.14,5,6,3]) ## np.array can only store elements in one data type",
            "execution_count": 13,
            "outputs": [
                {
                    "output_type": "execute_result",
                    "execution_count": 13,
                    "data": {
                        "text/plain": "array([3.14, 5.  , 6.  , 3.  ])"
                    },
                    "metadata": {}
                }
            ]
        },
        {
            "metadata": {},
            "cell_type": "code",
            "source": "np.array([1,2,3,4], dtype = \"float32\")",
            "execution_count": 14,
            "outputs": [
                {
                    "output_type": "execute_result",
                    "execution_count": 14,
                    "data": {
                        "text/plain": "array([1., 2., 3., 4.], dtype=float32)"
                    },
                    "metadata": {}
                }
            ]
        },
        {
            "metadata": {},
            "cell_type": "code",
            "source": "np.array([range(i, i + 3) for i in [2,4,6]])",
            "execution_count": 15,
            "outputs": [
                {
                    "output_type": "execute_result",
                    "execution_count": 15,
                    "data": {
                        "text/plain": "array([[2, 3, 4],\n       [4, 5, 6],\n       [6, 7, 8]])"
                    },
                    "metadata": {}
                }
            ]
        },
        {
            "metadata": {},
            "cell_type": "markdown",
            "source": "### Creating Arrays from Scratch"
        },
        {
            "metadata": {},
            "cell_type": "code",
            "source": "np.zeros(10, dtype = int)",
            "execution_count": 16,
            "outputs": [
                {
                    "output_type": "execute_result",
                    "execution_count": 16,
                    "data": {
                        "text/plain": "array([0, 0, 0, 0, 0, 0, 0, 0, 0, 0])"
                    },
                    "metadata": {}
                }
            ]
        },
        {
            "metadata": {},
            "cell_type": "code",
            "source": "np.ones((3,5), dtype = float) ## (3,5) specifies the number of rows and the number of columns.",
            "execution_count": 17,
            "outputs": [
                {
                    "output_type": "execute_result",
                    "execution_count": 17,
                    "data": {
                        "text/plain": "array([[1., 1., 1., 1., 1.],\n       [1., 1., 1., 1., 1.],\n       [1., 1., 1., 1., 1.]])"
                    },
                    "metadata": {}
                }
            ]
        },
        {
            "metadata": {},
            "cell_type": "code",
            "source": "np.full((3,5), 3.14) ## np.full fills up the array with that number",
            "execution_count": 18,
            "outputs": [
                {
                    "output_type": "execute_result",
                    "execution_count": 18,
                    "data": {
                        "text/plain": "array([[3.14, 3.14, 3.14, 3.14, 3.14],\n       [3.14, 3.14, 3.14, 3.14, 3.14],\n       [3.14, 3.14, 3.14, 3.14, 3.14]])"
                    },
                    "metadata": {}
                }
            ]
        },
        {
            "metadata": {},
            "cell_type": "code",
            "source": " np.arange(0, 20, 2) ## This creates a sequantial array in increasing order of 2",
            "execution_count": 18,
            "outputs": [
                {
                    "output_type": "execute_result",
                    "execution_count": 18,
                    "data": {
                        "text/plain": "array([ 0,  2,  4,  6,  8, 10, 12, 14, 16, 18])"
                    },
                    "metadata": {}
                }
            ]
        },
        {
            "metadata": {},
            "cell_type": "code",
            "source": "np.linspace(0, 1, 5) ## This creates an array of five equally spaced values spaced between 0 and 1",
            "execution_count": 20,
            "outputs": [
                {
                    "output_type": "execute_result",
                    "execution_count": 20,
                    "data": {
                        "text/plain": "array([0.  , 0.25, 0.5 , 0.75, 1.  ])"
                    },
                    "metadata": {}
                }
            ]
        },
        {
            "metadata": {},
            "cell_type": "code",
            "source": "np.random.random((3,3)) ## This creates a three-by-three randomly generated array that are uniformly distributed between 0 and 1",
            "execution_count": 21,
            "outputs": [
                {
                    "output_type": "execute_result",
                    "execution_count": 21,
                    "data": {
                        "text/plain": "array([[0.77842165, 0.62948225, 0.00691378],\n       [0.08384796, 0.9005218 , 0.76296815],\n       [0.0272459 , 0.84079478, 0.07875959]])"
                    },
                    "metadata": {}
                }
            ]
        },
        {
            "metadata": {},
            "cell_type": "code",
            "source": "np.random.normal(0,1,(3,3)) ## This creates a three-by-three randomly generated array that is normally distributed with a mean of 0 and stdev of 1",
            "execution_count": 22,
            "outputs": [
                {
                    "output_type": "execute_result",
                    "execution_count": 22,
                    "data": {
                        "text/plain": "array([[ 0.85583826,  0.76488567, -0.63674161],\n       [-0.06877905, -2.15774848, -0.30973492],\n       [-1.02329494, -0.28162672, -0.50904452]])"
                    },
                    "metadata": {}
                }
            ]
        },
        {
            "metadata": {},
            "cell_type": "code",
            "source": "np.random.randint(0,10,(3,3)) ## This creates a three-by-three array of random integers from 0 to 10",
            "execution_count": 23,
            "outputs": [
                {
                    "output_type": "execute_result",
                    "execution_count": 23,
                    "data": {
                        "text/plain": "array([[0, 0, 2],\n       [3, 2, 2],\n       [2, 1, 5]])"
                    },
                    "metadata": {}
                }
            ]
        },
        {
            "metadata": {},
            "cell_type": "code",
            "source": "np.eye(3) ## creates an identity matrix",
            "execution_count": 24,
            "outputs": [
                {
                    "output_type": "execute_result",
                    "execution_count": 24,
                    "data": {
                        "text/plain": "array([[1., 0., 0.],\n       [0., 1., 0.],\n       [0., 0., 1.]])"
                    },
                    "metadata": {}
                }
            ]
        },
        {
            "metadata": {},
            "cell_type": "code",
            "source": "np.empty(4) ## creates and unutilized array of n integers",
            "execution_count": 25,
            "outputs": [
                {
                    "output_type": "execute_result",
                    "execution_count": 25,
                    "data": {
                        "text/plain": "array([0.25, 0.5 , 0.75, 1.  ])"
                    },
                    "metadata": {}
                }
            ]
        },
        {
            "metadata": {},
            "cell_type": "markdown",
            "source": "## NumPy Standard Data Types"
        },
        {
            "metadata": {},
            "cell_type": "code",
            "source": "np.zeros(10, dtype = 'int16')",
            "execution_count": 26,
            "outputs": [
                {
                    "output_type": "execute_result",
                    "execution_count": 26,
                    "data": {
                        "text/plain": "array([0, 0, 0, 0, 0, 0, 0, 0, 0, 0], dtype=int16)"
                    },
                    "metadata": {}
                }
            ]
        },
        {
            "metadata": {},
            "cell_type": "code",
            "source": "np.zeros(10, dtype=np.int16)",
            "execution_count": 27,
            "outputs": [
                {
                    "output_type": "execute_result",
                    "execution_count": 27,
                    "data": {
                        "text/plain": "array([0, 0, 0, 0, 0, 0, 0, 0, 0, 0], dtype=int16)"
                    },
                    "metadata": {}
                }
            ]
        },
        {
            "metadata": {},
            "cell_type": "markdown",
            "source": "## The Basics of NumPy arrays"
        },
        {
            "metadata": {},
            "cell_type": "markdown",
            "source": "### NumPy Array Attributes"
        },
        {
            "metadata": {},
            "cell_type": "code",
            "source": "np.random.seed(0)\nx1 = np.random.randint(10, size=6)  # One-dimensional array     \nx2 = np.random.randint(10, size=(3, 4))  # Two-dimensional array       \nx3 = np.random.randint(10, size=(3, 4, 5))  # Three-dimensional array ",
            "execution_count": 26,
            "outputs": []
        },
        {
            "metadata": {},
            "cell_type": "code",
            "source": "x1",
            "execution_count": 27,
            "outputs": [
                {
                    "output_type": "execute_result",
                    "execution_count": 27,
                    "data": {
                        "text/plain": "array([5, 0, 3, 3, 7, 9])"
                    },
                    "metadata": {}
                }
            ]
        },
        {
            "metadata": {},
            "cell_type": "code",
            "source": "x2",
            "execution_count": 28,
            "outputs": [
                {
                    "output_type": "execute_result",
                    "execution_count": 28,
                    "data": {
                        "text/plain": "array([[3, 5, 2, 4],\n       [7, 6, 8, 8],\n       [1, 6, 7, 7]])"
                    },
                    "metadata": {}
                }
            ]
        },
        {
            "metadata": {},
            "cell_type": "code",
            "source": "x3",
            "execution_count": 29,
            "outputs": [
                {
                    "output_type": "execute_result",
                    "execution_count": 29,
                    "data": {
                        "text/plain": "array([[[8, 1, 5, 9, 8],\n        [9, 4, 3, 0, 3],\n        [5, 0, 2, 3, 8],\n        [1, 3, 3, 3, 7]],\n\n       [[0, 1, 9, 9, 0],\n        [4, 7, 3, 2, 7],\n        [2, 0, 0, 4, 5],\n        [5, 6, 8, 4, 1]],\n\n       [[4, 9, 8, 1, 1],\n        [7, 9, 9, 3, 6],\n        [7, 2, 0, 3, 5],\n        [9, 4, 4, 6, 4]]])"
                    },
                    "metadata": {}
                }
            ]
        },
        {
            "metadata": {},
            "cell_type": "code",
            "source": "print(\"x3 ndim: \", x3.ndim)       \nprint(\"x3 shape:\", x3.shape)       \nprint(\"x3 size: \", x3.size)",
            "execution_count": 32,
            "outputs": [
                {
                    "output_type": "stream",
                    "text": "x3 ndim:  3\nx3 shape: (3, 4, 5)\nx3 size:  60\n",
                    "name": "stdout"
                }
            ]
        },
        {
            "metadata": {},
            "cell_type": "code",
            "source": "print(\"dtype:\", x3.dtype)",
            "execution_count": 30,
            "outputs": [
                {
                    "output_type": "stream",
                    "text": "dtype: int64\n",
                    "name": "stdout"
                }
            ]
        },
        {
            "metadata": {},
            "cell_type": "code",
            "source": "print(\"itemsize:\", x3.itemsize, \"bytes\") ## outputs the size of bytes of each array element\nprint(\"nbytes:\", x3.nbytes, \"bytes\") ## outputs the total size of bytes of all the array element",
            "execution_count": 31,
            "outputs": [
                {
                    "output_type": "stream",
                    "text": "itemsize: 8 bytes\nnbytes: 480 bytes\n",
                    "name": "stdout"
                }
            ]
        },
        {
            "metadata": {},
            "cell_type": "markdown",
            "source": "### Array Indexing: Accessing Single Elements"
        },
        {
            "metadata": {},
            "cell_type": "code",
            "source": "x1[0] ## for accessing a one dimensional array",
            "execution_count": 32,
            "outputs": [
                {
                    "output_type": "execute_result",
                    "execution_count": 32,
                    "data": {
                        "text/plain": "5"
                    },
                    "metadata": {}
                }
            ]
        },
        {
            "metadata": {},
            "cell_type": "code",
            "source": "x2[2,3] ## for accessing a two dimensional array",
            "execution_count": 33,
            "outputs": [
                {
                    "output_type": "execute_result",
                    "execution_count": 33,
                    "data": {
                        "text/plain": "7"
                    },
                    "metadata": {}
                }
            ]
        },
        {
            "metadata": {},
            "cell_type": "code",
            "source": "x3[1,2,3] ## for accessing a three dimensional array",
            "execution_count": 34,
            "outputs": [
                {
                    "output_type": "execute_result",
                    "execution_count": 34,
                    "data": {
                        "text/plain": "4"
                    },
                    "metadata": {}
                }
            ]
        },
        {
            "metadata": {},
            "cell_type": "code",
            "source": "x2[2,3] = 3 ## values can be modified\nx2",
            "execution_count": 35,
            "outputs": [
                {
                    "output_type": "execute_result",
                    "execution_count": 35,
                    "data": {
                        "text/plain": "array([[3, 5, 2, 4],\n       [7, 6, 8, 8],\n       [1, 6, 7, 3]])"
                    },
                    "metadata": {}
                }
            ]
        },
        {
            "metadata": {},
            "cell_type": "code",
            "source": "x3[1,2,3] = 5\nx3",
            "execution_count": 36,
            "outputs": [
                {
                    "output_type": "execute_result",
                    "execution_count": 36,
                    "data": {
                        "text/plain": "array([[[8, 1, 5, 9, 8],\n        [9, 4, 3, 0, 3],\n        [5, 0, 2, 3, 8],\n        [1, 3, 3, 3, 7]],\n\n       [[0, 1, 9, 9, 0],\n        [4, 7, 3, 2, 7],\n        [2, 0, 0, 5, 5],\n        [5, 6, 8, 4, 1]],\n\n       [[4, 9, 8, 1, 1],\n        [7, 9, 9, 3, 6],\n        [7, 2, 0, 3, 5],\n        [9, 4, 4, 6, 4]]])"
                    },
                    "metadata": {}
                }
            ]
        },
        {
            "metadata": {},
            "cell_type": "markdown",
            "source": "### Array Slicing: Accessing Subarrays"
        },
        {
            "metadata": {},
            "cell_type": "markdown",
            "source": "#### One dimensional subarrays"
        },
        {
            "metadata": {},
            "cell_type": "code",
            "source": "x = np.arange(10)\nx",
            "execution_count": 37,
            "outputs": [
                {
                    "output_type": "execute_result",
                    "execution_count": 37,
                    "data": {
                        "text/plain": "array([0, 1, 2, 3, 4, 5, 6, 7, 8, 9])"
                    },
                    "metadata": {}
                }
            ]
        },
        {
            "metadata": {},
            "cell_type": "code",
            "source": "x[:5]",
            "execution_count": 38,
            "outputs": [
                {
                    "output_type": "execute_result",
                    "execution_count": 38,
                    "data": {
                        "text/plain": "array([0, 1, 2, 3, 4])"
                    },
                    "metadata": {}
                }
            ]
        },
        {
            "metadata": {},
            "cell_type": "code",
            "source": "x[5:]",
            "execution_count": 39,
            "outputs": [
                {
                    "output_type": "execute_result",
                    "execution_count": 39,
                    "data": {
                        "text/plain": "array([5, 6, 7, 8, 9])"
                    },
                    "metadata": {}
                }
            ]
        },
        {
            "metadata": {},
            "cell_type": "code",
            "source": "x[4:7]",
            "execution_count": 40,
            "outputs": [
                {
                    "output_type": "execute_result",
                    "execution_count": 40,
                    "data": {
                        "text/plain": "array([4, 5, 6])"
                    },
                    "metadata": {}
                }
            ]
        },
        {
            "metadata": {},
            "cell_type": "code",
            "source": "x[::2] ## creating a sequential subarray",
            "execution_count": 41,
            "outputs": [
                {
                    "output_type": "execute_result",
                    "execution_count": 41,
                    "data": {
                        "text/plain": "array([0, 2, 4, 6, 8])"
                    },
                    "metadata": {}
                }
            ]
        },
        {
            "metadata": {},
            "cell_type": "code",
            "source": "x[1::2]",
            "execution_count": 42,
            "outputs": [
                {
                    "output_type": "execute_result",
                    "execution_count": 42,
                    "data": {
                        "text/plain": "array([1, 3, 5, 7, 9])"
                    },
                    "metadata": {}
                }
            ]
        },
        {
            "metadata": {},
            "cell_type": "code",
            "source": "x[::-1] ## all elements reversed",
            "execution_count": 43,
            "outputs": [
                {
                    "output_type": "execute_result",
                    "execution_count": 43,
                    "data": {
                        "text/plain": "array([9, 8, 7, 6, 5, 4, 3, 2, 1, 0])"
                    },
                    "metadata": {}
                }
            ]
        },
        {
            "metadata": {},
            "cell_type": "code",
            "source": "x[5::-2]",
            "execution_count": 44,
            "outputs": [
                {
                    "output_type": "execute_result",
                    "execution_count": 44,
                    "data": {
                        "text/plain": "array([5, 3, 1])"
                    },
                    "metadata": {}
                }
            ]
        },
        {
            "metadata": {},
            "cell_type": "markdown",
            "source": "#### Multidimensional arrays"
        },
        {
            "metadata": {},
            "cell_type": "code",
            "source": "x2",
            "execution_count": 45,
            "outputs": [
                {
                    "output_type": "execute_result",
                    "execution_count": 45,
                    "data": {
                        "text/plain": "array([[3, 5, 2, 4],\n       [7, 6, 8, 8],\n       [1, 6, 7, 3]])"
                    },
                    "metadata": {}
                }
            ]
        },
        {
            "metadata": {},
            "cell_type": "code",
            "source": "x2[:2,:3]",
            "execution_count": 46,
            "outputs": [
                {
                    "output_type": "execute_result",
                    "execution_count": 46,
                    "data": {
                        "text/plain": "array([[3, 5, 2],\n       [7, 6, 8]])"
                    },
                    "metadata": {}
                }
            ]
        },
        {
            "metadata": {},
            "cell_type": "markdown",
            "source": "##### Accessing array rows and columns"
        },
        {
            "metadata": {},
            "cell_type": "code",
            "source": "print(x2[:, 0]) ## first column of x2",
            "execution_count": 47,
            "outputs": [
                {
                    "output_type": "stream",
                    "text": "[3 7 1]\n",
                    "name": "stdout"
                }
            ]
        },
        {
            "metadata": {},
            "cell_type": "code",
            "source": "print(x2[0, :]) ## first row of x2",
            "execution_count": 48,
            "outputs": [
                {
                    "output_type": "stream",
                    "text": "[3 5 2 4]\n",
                    "name": "stdout"
                }
            ]
        },
        {
            "metadata": {},
            "cell_type": "markdown",
            "source": "#### Subarrays as no-copy views"
        },
        {
            "metadata": {},
            "cell_type": "code",
            "source": "print(x2)",
            "execution_count": 49,
            "outputs": [
                {
                    "output_type": "stream",
                    "text": "[[3 5 2 4]\n [7 6 8 8]\n [1 6 7 3]]\n",
                    "name": "stdout"
                }
            ]
        },
        {
            "metadata": {},
            "cell_type": "code",
            "source": "x2_sub = x2[:2,:2]\nprint(x2_sub)",
            "execution_count": 50,
            "outputs": [
                {
                    "output_type": "stream",
                    "text": "[[3 5]\n [7 6]]\n",
                    "name": "stdout"
                }
            ]
        },
        {
            "metadata": {},
            "cell_type": "code",
            "source": "x2_sub[0,0] = 69\nx2_sub",
            "execution_count": 51,
            "outputs": [
                {
                    "output_type": "execute_result",
                    "execution_count": 51,
                    "data": {
                        "text/plain": "array([[69,  5],\n       [ 7,  6]])"
                    },
                    "metadata": {}
                }
            ]
        },
        {
            "metadata": {},
            "cell_type": "code",
            "source": "x2",
            "execution_count": 52,
            "outputs": [
                {
                    "output_type": "execute_result",
                    "execution_count": 52,
                    "data": {
                        "text/plain": "array([[69,  5,  2,  4],\n       [ 7,  6,  8,  8],\n       [ 1,  6,  7,  3]])"
                    },
                    "metadata": {}
                }
            ]
        },
        {
            "metadata": {},
            "cell_type": "markdown",
            "source": "#### Creating copies of arrays"
        },
        {
            "metadata": {},
            "cell_type": "code",
            "source": "x2_sub_copy = x2[:2, :2].copy()        \nprint(x2_sub_copy)",
            "execution_count": 53,
            "outputs": [
                {
                    "output_type": "stream",
                    "text": "[[69  5]\n [ 7  6]]\n",
                    "name": "stdout"
                }
            ]
        },
        {
            "metadata": {},
            "cell_type": "code",
            "source": "x2_sub_copy[0,0] = 420 ## The original array is not modified\nx2_sub_copy",
            "execution_count": 54,
            "outputs": [
                {
                    "output_type": "execute_result",
                    "execution_count": 54,
                    "data": {
                        "text/plain": "array([[420,   5],\n       [  7,   6]])"
                    },
                    "metadata": {}
                }
            ]
        },
        {
            "metadata": {},
            "cell_type": "markdown",
            "source": "### Reshaping of Arrays"
        },
        {
            "metadata": {},
            "cell_type": "code",
            "source": "grid = np.arange(1, 10).reshape((3, 3))       \nprint(grid)",
            "execution_count": 55,
            "outputs": [
                {
                    "output_type": "stream",
                    "text": "[[1 2 3]\n [4 5 6]\n [7 8 9]]\n",
                    "name": "stdout"
                }
            ]
        },
        {
            "metadata": {},
            "cell_type": "code",
            "source": "x = np.array([1,2,3])\nx.reshape(1,3) ## row vector",
            "execution_count": 56,
            "outputs": [
                {
                    "output_type": "execute_result",
                    "execution_count": 56,
                    "data": {
                        "text/plain": "array([[1, 2, 3]])"
                    },
                    "metadata": {}
                }
            ]
        },
        {
            "metadata": {},
            "cell_type": "code",
            "source": "x[np.newaxis,:]",
            "execution_count": 57,
            "outputs": [
                {
                    "output_type": "execute_result",
                    "execution_count": 57,
                    "data": {
                        "text/plain": "array([[1, 2, 3]])"
                    },
                    "metadata": {}
                }
            ]
        },
        {
            "metadata": {},
            "cell_type": "code",
            "source": "x.reshape((3, 1)) ## column vector",
            "execution_count": 58,
            "outputs": [
                {
                    "output_type": "execute_result",
                    "execution_count": 58,
                    "data": {
                        "text/plain": "array([[1],\n       [2],\n       [3]])"
                    },
                    "metadata": {}
                }
            ]
        },
        {
            "metadata": {},
            "cell_type": "code",
            "source": "x[:, np.newaxis]",
            "execution_count": 59,
            "outputs": [
                {
                    "output_type": "execute_result",
                    "execution_count": 59,
                    "data": {
                        "text/plain": "array([[1],\n       [2],\n       [3]])"
                    },
                    "metadata": {}
                }
            ]
        },
        {
            "metadata": {},
            "cell_type": "markdown",
            "source": "### Array Concatenation and Splitting"
        },
        {
            "metadata": {},
            "cell_type": "markdown",
            "source": "#### Concatenation of arrays"
        },
        {
            "metadata": {},
            "cell_type": "code",
            "source": "x = np.array([1, 2, 3])        \ny = np.array([3, 2, 1])        \nnp.concatenate([x, y])",
            "execution_count": 60,
            "outputs": [
                {
                    "output_type": "execute_result",
                    "execution_count": 60,
                    "data": {
                        "text/plain": "array([1, 2, 3, 3, 2, 1])"
                    },
                    "metadata": {}
                }
            ]
        },
        {
            "metadata": {},
            "cell_type": "code",
            "source": "z = [99, 99, 99]        \nprint(np.concatenate([x, y, z]))",
            "execution_count": 61,
            "outputs": [
                {
                    "output_type": "stream",
                    "text": "[ 1  2  3  3  2  1 99 99 99]\n",
                    "name": "stdout"
                }
            ]
        },
        {
            "metadata": {},
            "cell_type": "code",
            "source": "grid = np.array([[1, 2, 3],[4, 5, 6]])",
            "execution_count": 62,
            "outputs": []
        },
        {
            "metadata": {},
            "cell_type": "code",
            "source": "np.concatenate([grid,grid])",
            "execution_count": 63,
            "outputs": [
                {
                    "output_type": "execute_result",
                    "execution_count": 63,
                    "data": {
                        "text/plain": "array([[1, 2, 3],\n       [4, 5, 6],\n       [1, 2, 3],\n       [4, 5, 6]])"
                    },
                    "metadata": {}
                }
            ]
        },
        {
            "metadata": {},
            "cell_type": "code",
            "source": "np.concatenate([grid, grid], axis=1) ## concatenate along the second axis (zero-indexed) ",
            "execution_count": 64,
            "outputs": [
                {
                    "output_type": "execute_result",
                    "execution_count": 64,
                    "data": {
                        "text/plain": "array([[1, 2, 3, 1, 2, 3],\n       [4, 5, 6, 4, 5, 6]])"
                    },
                    "metadata": {}
                }
            ]
        },
        {
            "metadata": {},
            "cell_type": "code",
            "source": "x = np.array([1, 2, 3])        \ngrid = np.array([[9, 8, 7],[6, 5, 4]])\nnp.vstack([x, grid]) ## vertically stacks the array",
            "execution_count": 65,
            "outputs": [
                {
                    "output_type": "execute_result",
                    "execution_count": 65,
                    "data": {
                        "text/plain": "array([[1, 2, 3],\n       [9, 8, 7],\n       [6, 5, 4]])"
                    },
                    "metadata": {}
                }
            ]
        },
        {
            "metadata": {},
            "cell_type": "code",
            "source": "y = np.array([[99],[99]])  \nnp.hstack([grid,y]) ## horizontally stacks the array",
            "execution_count": 66,
            "outputs": [
                {
                    "output_type": "execute_result",
                    "execution_count": 66,
                    "data": {
                        "text/plain": "array([[ 9,  8,  7, 99],\n       [ 6,  5,  4, 99]])"
                    },
                    "metadata": {}
                }
            ]
        },
        {
            "metadata": {},
            "cell_type": "markdown",
            "source": "#### Splitting of arrays"
        },
        {
            "metadata": {},
            "cell_type": "code",
            "source": "x = [1, 2, 3, 99, 99, 3, 2, 1]        \nx1, x2, x3 = np.split(x, [3, 5])        \nprint(x1, x2, x3)",
            "execution_count": 67,
            "outputs": [
                {
                    "output_type": "stream",
                    "text": "[1 2 3] [99 99] [3 2 1]\n",
                    "name": "stdout"
                }
            ]
        },
        {
            "metadata": {},
            "cell_type": "code",
            "source": "grid = np.arange(16).reshape((4, 4))        \ngrid",
            "execution_count": 68,
            "outputs": [
                {
                    "output_type": "execute_result",
                    "execution_count": 68,
                    "data": {
                        "text/plain": "array([[ 0,  1,  2,  3],\n       [ 4,  5,  6,  7],\n       [ 8,  9, 10, 11],\n       [12, 13, 14, 15]])"
                    },
                    "metadata": {}
                }
            ]
        },
        {
            "metadata": {},
            "cell_type": "code",
            "source": "upper, lower = np.vsplit(grid, [2]) ## Vertical splitting    \nprint(upper)        \nprint(lower)",
            "execution_count": 69,
            "outputs": [
                {
                    "output_type": "stream",
                    "text": "[[0 1 2 3]\n [4 5 6 7]]\n[[ 8  9 10 11]\n [12 13 14 15]]\n",
                    "name": "stdout"
                }
            ]
        },
        {
            "metadata": {},
            "cell_type": "code",
            "source": "left, right = np.hsplit(grid, [2]) ## Horizontal splitting\nprint(left)        \nprint(right)",
            "execution_count": 70,
            "outputs": [
                {
                    "output_type": "stream",
                    "text": "[[ 0  1]\n [ 4  5]\n [ 8  9]\n [12 13]]\n[[ 2  3]\n [ 6  7]\n [10 11]\n [14 15]]\n",
                    "name": "stdout"
                }
            ]
        },
        {
            "metadata": {},
            "cell_type": "markdown",
            "source": "## Computation of NumPy Arrays: Universal Functions"
        },
        {
            "metadata": {},
            "cell_type": "markdown",
            "source": "### The slowness of loop"
        },
        {
            "metadata": {},
            "cell_type": "code",
            "source": "np.random.seed(0)\ndef compute_reciprocals(values):           \n    output = np.empty(len(values))           \n    for i in range(len(values)):               \n        output[i] = 1.0 / values[i]           \n    return output\nvalues = np.random.randint(1, 10, size=5)       \ncompute_reciprocals(values)",
            "execution_count": 72,
            "outputs": [
                {
                    "output_type": "execute_result",
                    "execution_count": 72,
                    "data": {
                        "text/plain": "array([0.16666667, 1.        , 0.25      , 0.25      , 0.125     ])"
                    },
                    "metadata": {}
                }
            ]
        },
        {
            "metadata": {},
            "cell_type": "code",
            "source": "big_array = np.random.randint(1, 100, size=1000000) ## The operation turns out to be very slow\n%timeit compute_reciprocals(big_array)",
            "execution_count": 73,
            "outputs": [
                {
                    "output_type": "stream",
                    "text": "2.34 s \u00b1 54 ms per loop (mean \u00b1 std. dev. of 7 runs, 1 loop each)\n",
                    "name": "stdout"
                }
            ]
        },
        {
            "metadata": {},
            "cell_type": "markdown",
            "source": "## Introducing Ufuncs"
        },
        {
            "metadata": {},
            "cell_type": "code",
            "source": "np.random.seed(0)\nvalues = np.random.randint(1, 10, size=5)    \nprint(compute_reciprocals(values))\nprint(1/values)",
            "execution_count": 74,
            "outputs": [
                {
                    "output_type": "stream",
                    "text": "[0.16666667 1.         0.25       0.25       0.125     ]\n[0.16666667 1.         0.25       0.25       0.125     ]\n",
                    "name": "stdout"
                }
            ]
        },
        {
            "metadata": {},
            "cell_type": "code",
            "source": "%timeit (1.0/big_array) ## computes faster compared to the function",
            "execution_count": 75,
            "outputs": [
                {
                    "output_type": "stream",
                    "text": "3.45 ms \u00b1 232 \u00b5s per loop (mean \u00b1 std. dev. of 7 runs, 100 loops each)\n",
                    "name": "stdout"
                }
            ]
        },
        {
            "metadata": {},
            "cell_type": "code",
            "source": "np.arange(5)/np.arange(1, 6)",
            "execution_count": 76,
            "outputs": [
                {
                    "output_type": "execute_result",
                    "execution_count": 76,
                    "data": {
                        "text/plain": "array([0.        , 0.5       , 0.66666667, 0.75      , 0.8       ])"
                    },
                    "metadata": {}
                }
            ]
        },
        {
            "metadata": {},
            "cell_type": "code",
            "source": "x = np.arange(9).reshape((3, 3))       \n2 ** x",
            "execution_count": 77,
            "outputs": [
                {
                    "output_type": "execute_result",
                    "execution_count": 77,
                    "data": {
                        "text/plain": "array([[  1,   2,   4],\n       [  8,  16,  32],\n       [ 64, 128, 256]])"
                    },
                    "metadata": {}
                }
            ]
        },
        {
            "metadata": {},
            "cell_type": "markdown",
            "source": "### Exploring NumPy's Ufuncs"
        },
        {
            "metadata": {},
            "cell_type": "markdown",
            "source": "#### Array arithmetic"
        },
        {
            "metadata": {},
            "cell_type": "code",
            "source": "x = np.arange(4)       \nprint(\"x     =\", x)       \nprint(\"x + 5 =\", x + 5)       \nprint(\"x - 5 =\", x - 5)       \nprint(\"x * 2 =\", x * 2)\nprint(\"x / 2 =\", x / 2)       \nprint(\"x // 2 =\", x // 2) ",
            "execution_count": 78,
            "outputs": [
                {
                    "output_type": "stream",
                    "text": "x     = [0 1 2 3]\nx + 5 = [5 6 7 8]\nx - 5 = [-5 -4 -3 -2]\nx * 2 = [0 2 4 6]\nx / 2 = [0.  0.5 1.  1.5]\nx // 2 = [0 0 1 1]\n",
                    "name": "stdout"
                }
            ]
        },
        {
            "metadata": {},
            "cell_type": "code",
            "source": "print(\"-x     = \", -x)       \nprint(\"x ** 2 = \", x ** 2)       \nprint(\"x % 2  = \", x % 2)",
            "execution_count": 79,
            "outputs": [
                {
                    "output_type": "stream",
                    "text": "-x     =  [ 0 -1 -2 -3]\nx ** 2 =  [0 1 4 9]\nx % 2  =  [0 1 0 1]\n",
                    "name": "stdout"
                }
            ]
        },
        {
            "metadata": {},
            "cell_type": "code",
            "source": "-(0.5*x + 1) ** 2",
            "execution_count": 80,
            "outputs": [
                {
                    "output_type": "execute_result",
                    "execution_count": 80,
                    "data": {
                        "text/plain": "array([-1.  , -2.25, -4.  , -6.25])"
                    },
                    "metadata": {}
                }
            ]
        },
        {
            "metadata": {},
            "cell_type": "code",
            "source": "np.add(x, 2)",
            "execution_count": 81,
            "outputs": [
                {
                    "output_type": "execute_result",
                    "execution_count": 81,
                    "data": {
                        "text/plain": "array([2, 3, 4, 5])"
                    },
                    "metadata": {}
                }
            ]
        },
        {
            "metadata": {},
            "cell_type": "markdown",
            "source": "#### Absolute value"
        },
        {
            "metadata": {},
            "cell_type": "code",
            "source": "x = np.array([-2, -1, 0, 1, 2])        \nabs(x)",
            "execution_count": 82,
            "outputs": [
                {
                    "output_type": "execute_result",
                    "execution_count": 82,
                    "data": {
                        "text/plain": "array([2, 1, 0, 1, 2])"
                    },
                    "metadata": {}
                }
            ]
        },
        {
            "metadata": {},
            "cell_type": "code",
            "source": "np.absolute(x)",
            "execution_count": 83,
            "outputs": [
                {
                    "output_type": "execute_result",
                    "execution_count": 83,
                    "data": {
                        "text/plain": "array([2, 1, 0, 1, 2])"
                    },
                    "metadata": {}
                }
            ]
        },
        {
            "metadata": {},
            "cell_type": "code",
            "source": "np.abs(x)",
            "execution_count": 84,
            "outputs": [
                {
                    "output_type": "execute_result",
                    "execution_count": 84,
                    "data": {
                        "text/plain": "array([2, 1, 0, 1, 2])"
                    },
                    "metadata": {}
                }
            ]
        },
        {
            "metadata": {},
            "cell_type": "code",
            "source": "x = np.array([3 - 4j, 4 - 3j, 2 + 0j, 0 + 1j])      \nnp.abs(x)",
            "execution_count": 85,
            "outputs": [
                {
                    "output_type": "execute_result",
                    "execution_count": 85,
                    "data": {
                        "text/plain": "array([5., 5., 2., 1.])"
                    },
                    "metadata": {}
                }
            ]
        },
        {
            "metadata": {},
            "cell_type": "markdown",
            "source": "#### Trigonometric functions"
        },
        {
            "metadata": {},
            "cell_type": "code",
            "source": "theta = np.linspace(0, np.pi, 3)",
            "execution_count": 86,
            "outputs": []
        },
        {
            "metadata": {},
            "cell_type": "code",
            "source": "print(\"theta      = \", theta)        \nprint(\"sin(theta) = \", np.sin(theta))        \nprint(\"cos(theta) = \", np.cos(theta))        \nprint(\"tan(theta) = \", np.tan(theta))",
            "execution_count": 87,
            "outputs": [
                {
                    "output_type": "stream",
                    "text": "theta      =  [0.         1.57079633 3.14159265]\nsin(theta) =  [0.0000000e+00 1.0000000e+00 1.2246468e-16]\ncos(theta) =  [ 1.000000e+00  6.123234e-17 -1.000000e+00]\ntan(theta) =  [ 0.00000000e+00  1.63312394e+16 -1.22464680e-16]\n",
                    "name": "stdout"
                }
            ]
        },
        {
            "metadata": {},
            "cell_type": "code",
            "source": "x = [-1, 0, 1]        \nprint(\"x         = \", x)        \nprint(\"arcsin(x) = \", np.arcsin(x))        \nprint(\"arccos(x) = \", np.arccos(x))        \nprint(\"arctan(x) = \", np.arctan(x))",
            "execution_count": 88,
            "outputs": [
                {
                    "output_type": "stream",
                    "text": "x         =  [-1, 0, 1]\narcsin(x) =  [-1.57079633  0.          1.57079633]\narccos(x) =  [3.14159265 1.57079633 0.        ]\narctan(x) =  [-0.78539816  0.          0.78539816]\n",
                    "name": "stdout"
                }
            ]
        },
        {
            "metadata": {},
            "cell_type": "markdown",
            "source": "#### Exponents and logarithms"
        },
        {
            "metadata": {},
            "cell_type": "code",
            "source": "x = [1, 2, 3]        \nprint(\"x     =\", x)        \nprint(\"e^x   =\", np.exp(x))        \nprint(\"2^x   =\", np.exp2(x))        \nprint(\"3^x   =\", np.power(3, x))",
            "execution_count": 89,
            "outputs": [
                {
                    "output_type": "stream",
                    "text": "x     = [1, 2, 3]\ne^x   = [ 2.71828183  7.3890561  20.08553692]\n2^x   = [2. 4. 8.]\n3^x   = [ 3  9 27]\n",
                    "name": "stdout"
                }
            ]
        },
        {
            "metadata": {},
            "cell_type": "code",
            "source": "x = [1, 2, 4, 10]        \nprint(\"x        =\", x)        \nprint(\"ln(x)    =\", np.log(x))        \nprint(\"log2(x)  =\", np.log2(x))        \nprint(\"log10(x) =\", np.log10(x))",
            "execution_count": 90,
            "outputs": [
                {
                    "output_type": "stream",
                    "text": "x        = [1, 2, 4, 10]\nln(x)    = [0.         0.69314718 1.38629436 2.30258509]\nlog2(x)  = [0.         1.         2.         3.32192809]\nlog10(x) = [0.         0.30103    0.60205999 1.        ]\n",
                    "name": "stdout"
                }
            ]
        },
        {
            "metadata": {},
            "cell_type": "code",
            "source": "x = [0, 0.001, 0.01, 0.1]        \nprint(\"exp(x) - 1 =\", np.expm1(x))        \nprint(\"log(1 + x) =\", np.log1p(x))",
            "execution_count": 91,
            "outputs": [
                {
                    "output_type": "stream",
                    "text": "exp(x) - 1 = [0.         0.0010005  0.01005017 0.10517092]\nlog(1 + x) = [0.         0.0009995  0.00995033 0.09531018]\n",
                    "name": "stdout"
                }
            ]
        },
        {
            "metadata": {},
            "cell_type": "markdown",
            "source": "#### Specialized ufuncs"
        },
        {
            "metadata": {},
            "cell_type": "code",
            "source": "from scipy import special",
            "execution_count": 92,
            "outputs": []
        },
        {
            "metadata": {},
            "cell_type": "code",
            "source": "x = [1, 5, 10]\nprint(\"gamma(x)     =\", special.gamma(x))        \nprint(\"ln|gamma(x)| =\", special.gammaln(x))        \nprint(\"beta(x, 2)   =\", special.beta(x, 2))",
            "execution_count": 93,
            "outputs": [
                {
                    "output_type": "stream",
                    "text": "gamma(x)     = [1.0000e+00 2.4000e+01 3.6288e+05]\nln|gamma(x)| = [ 0.          3.17805383 12.80182748]\nbeta(x, 2)   = [0.5        0.03333333 0.00909091]\n",
                    "name": "stdout"
                }
            ]
        },
        {
            "metadata": {},
            "cell_type": "code",
            "source": "x = np.array([0, 0.3, 0.7, 1.0])        \nprint(\"erf(x)  =\", special.erf(x))        \nprint(\"erfc(x) =\", special.erfc(x))        \nprint(\"erfinv(x) =\", special.erfinv(x))",
            "execution_count": 94,
            "outputs": [
                {
                    "output_type": "stream",
                    "text": "erf(x)  = [0.         0.32862676 0.67780119 0.84270079]\nerfc(x) = [1.         0.67137324 0.32219881 0.15729921]\nerfinv(x) = [0.         0.27246271 0.73286908        inf]\n",
                    "name": "stdout"
                }
            ]
        },
        {
            "metadata": {},
            "cell_type": "markdown",
            "source": "### Advanced Ufuncs features"
        },
        {
            "metadata": {},
            "cell_type": "markdown",
            "source": "#### Specifying output"
        },
        {
            "metadata": {},
            "cell_type": "code",
            "source": "x = np.arange(5)        \ny = np.empty(5)        \nnp.multiply(x, 10, out=y)        \nprint(y)",
            "execution_count": 95,
            "outputs": [
                {
                    "output_type": "stream",
                    "text": "[ 0. 10. 20. 30. 40.]\n",
                    "name": "stdout"
                }
            ]
        },
        {
            "metadata": {},
            "cell_type": "code",
            "source": "y = np.zeros(10)        \nnp.power(2, x, out=y[::2])        \nprint(y)",
            "execution_count": 97,
            "outputs": [
                {
                    "output_type": "stream",
                    "text": "[ 1.  0.  2.  0.  4.  0.  8.  0. 16.  0.]\n",
                    "name": "stdout"
                }
            ]
        },
        {
            "metadata": {},
            "cell_type": "markdown",
            "source": "#### Aggregates"
        },
        {
            "metadata": {},
            "cell_type": "code",
            "source": "x = np.arange(1, 6)        \nnp.add.reduce(x)",
            "execution_count": 98,
            "outputs": [
                {
                    "output_type": "execute_result",
                    "execution_count": 98,
                    "data": {
                        "text/plain": "15"
                    },
                    "metadata": {}
                }
            ]
        },
        {
            "metadata": {},
            "cell_type": "code",
            "source": "np.multiply.reduce(x)",
            "execution_count": 99,
            "outputs": [
                {
                    "output_type": "execute_result",
                    "execution_count": 99,
                    "data": {
                        "text/plain": "120"
                    },
                    "metadata": {}
                }
            ]
        },
        {
            "metadata": {},
            "cell_type": "code",
            "source": "np.add.accumulate(x)",
            "execution_count": 100,
            "outputs": [
                {
                    "output_type": "execute_result",
                    "execution_count": 100,
                    "data": {
                        "text/plain": "array([ 1,  3,  6, 10, 15])"
                    },
                    "metadata": {}
                }
            ]
        },
        {
            "metadata": {},
            "cell_type": "code",
            "source": "np.multiply.accumulate(x)",
            "execution_count": 101,
            "outputs": [
                {
                    "output_type": "execute_result",
                    "execution_count": 101,
                    "data": {
                        "text/plain": "array([  1,   2,   6,  24, 120])"
                    },
                    "metadata": {}
                }
            ]
        },
        {
            "metadata": {},
            "cell_type": "markdown",
            "source": "#### Outer Products"
        },
        {
            "metadata": {},
            "cell_type": "code",
            "source": "x = np.arange(1, 6)        \nnp.multiply.outer(x, x)",
            "execution_count": 102,
            "outputs": [
                {
                    "output_type": "execute_result",
                    "execution_count": 102,
                    "data": {
                        "text/plain": "array([[ 1,  2,  3,  4,  5],\n       [ 2,  4,  6,  8, 10],\n       [ 3,  6,  9, 12, 15],\n       [ 4,  8, 12, 16, 20],\n       [ 5, 10, 15, 20, 25]])"
                    },
                    "metadata": {}
                }
            ]
        },
        {
            "metadata": {},
            "cell_type": "markdown",
            "source": "## Aggregations: Min, Max, and Everything in Between "
        },
        {
            "metadata": {},
            "cell_type": "markdown",
            "source": "### Summing the values in an array"
        },
        {
            "metadata": {},
            "cell_type": "code",
            "source": "L = np.random.random(100)\nsum(L)",
            "execution_count": 103,
            "outputs": [
                {
                    "output_type": "execute_result",
                    "execution_count": 103,
                    "data": {
                        "text/plain": "47.51294159911191"
                    },
                    "metadata": {}
                }
            ]
        },
        {
            "metadata": {},
            "cell_type": "code",
            "source": "np.sum(L)",
            "execution_count": 104,
            "outputs": [
                {
                    "output_type": "execute_result",
                    "execution_count": 104,
                    "data": {
                        "text/plain": "47.5129415991119"
                    },
                    "metadata": {}
                }
            ]
        },
        {
            "metadata": {},
            "cell_type": "code",
            "source": "big_array = np.random.rand(1000000)       \n%timeit sum(big_array)       \n%timeit np.sum(big_array)",
            "execution_count": 105,
            "outputs": [
                {
                    "output_type": "stream",
                    "text": "104 ms \u00b1 3.45 ms per loop (mean \u00b1 std. dev. of 7 runs, 10 loops each)\n484 \u00b5s \u00b1 15.1 \u00b5s per loop (mean \u00b1 std. dev. of 7 runs, 1000 loops each)\n",
                    "name": "stdout"
                }
            ]
        },
        {
            "metadata": {},
            "cell_type": "markdown",
            "source": "### Minimum and Maximum"
        },
        {
            "metadata": {},
            "cell_type": "code",
            "source": "min(big_array), max(big_array)",
            "execution_count": 106,
            "outputs": [
                {
                    "output_type": "execute_result",
                    "execution_count": 106,
                    "data": {
                        "text/plain": "(7.071203171893359e-07, 0.9999997207656334)"
                    },
                    "metadata": {}
                }
            ]
        },
        {
            "metadata": {},
            "cell_type": "code",
            "source": "np.min(big_array), np.max(big_array)",
            "execution_count": 107,
            "outputs": [
                {
                    "output_type": "execute_result",
                    "execution_count": 107,
                    "data": {
                        "text/plain": "(7.071203171893359e-07, 0.9999997207656334)"
                    },
                    "metadata": {}
                }
            ]
        },
        {
            "metadata": {},
            "cell_type": "code",
            "source": "%timeit min(big_array)       \n%timeit np.min(big_array)",
            "execution_count": 108,
            "outputs": [
                {
                    "output_type": "stream",
                    "text": "80.5 ms \u00b1 2.86 ms per loop (mean \u00b1 std. dev. of 7 runs, 10 loops each)\n465 \u00b5s \u00b1 20.3 \u00b5s per loop (mean \u00b1 std. dev. of 7 runs, 1000 loops each)\n",
                    "name": "stdout"
                }
            ]
        },
        {
            "metadata": {},
            "cell_type": "code",
            "source": "print(big_array.min(), big_array.max(), big_array.sum())",
            "execution_count": 109,
            "outputs": [
                {
                    "output_type": "stream",
                    "text": "7.071203171893359e-07 0.9999997207656334 500384.6391052089\n",
                    "name": "stdout"
                }
            ]
        },
        {
            "metadata": {},
            "cell_type": "markdown",
            "source": "#### Multidimensional aggregates"
        },
        {
            "metadata": {},
            "cell_type": "code",
            "source": "M = np.random.random((3,4))\nprint(M)",
            "execution_count": 110,
            "outputs": [
                {
                    "output_type": "stream",
                    "text": "[[0.78005386 0.29509276 0.23792159 0.36427966]\n [0.28696762 0.13911998 0.81564486 0.33446842]\n [0.08974411 0.44701982 0.34255858 0.82397382]]\n",
                    "name": "stdout"
                }
            ]
        },
        {
            "metadata": {},
            "cell_type": "code",
            "source": "M.sum()",
            "execution_count": 111,
            "outputs": [
                {
                    "output_type": "execute_result",
                    "execution_count": 111,
                    "data": {
                        "text/plain": "4.95684508810505"
                    },
                    "metadata": {}
                }
            ]
        },
        {
            "metadata": {},
            "cell_type": "code",
            "source": "M.min(axis = 0) ## minimum across each column",
            "execution_count": 112,
            "outputs": [
                {
                    "output_type": "execute_result",
                    "execution_count": 112,
                    "data": {
                        "text/plain": "array([0.08974411, 0.13911998, 0.23792159, 0.33446842])"
                    },
                    "metadata": {}
                }
            ]
        },
        {
            "metadata": {},
            "cell_type": "code",
            "source": "M.min(axis = 1) ## minimum across each row",
            "execution_count": 113,
            "outputs": [
                {
                    "output_type": "execute_result",
                    "execution_count": 113,
                    "data": {
                        "text/plain": "array([0.23792159, 0.13911998, 0.08974411])"
                    },
                    "metadata": {}
                }
            ]
        },
        {
            "metadata": {},
            "cell_type": "markdown",
            "source": "#### Other aggregate functions"
        },
        {
            "metadata": {},
            "cell_type": "code",
            "source": "big_array.mean()",
            "execution_count": 114,
            "outputs": [
                {
                    "output_type": "execute_result",
                    "execution_count": 114,
                    "data": {
                        "text/plain": "0.5003846391052089"
                    },
                    "metadata": {}
                }
            ]
        },
        {
            "metadata": {},
            "cell_type": "code",
            "source": "big_array.std()",
            "execution_count": 116,
            "outputs": [
                {
                    "output_type": "execute_result",
                    "execution_count": 116,
                    "data": {
                        "text/plain": "0.2886949454856943"
                    },
                    "metadata": {}
                }
            ]
        },
        {
            "metadata": {},
            "cell_type": "code",
            "source": "np.percentile(big_array,25)",
            "execution_count": 117,
            "outputs": [
                {
                    "output_type": "execute_result",
                    "execution_count": 117,
                    "data": {
                        "text/plain": "0.2503204663344487"
                    },
                    "metadata": {}
                }
            ]
        },
        {
            "metadata": {},
            "cell_type": "code",
            "source": "np.median(big_array)",
            "execution_count": 118,
            "outputs": [
                {
                    "output_type": "execute_result",
                    "execution_count": 118,
                    "data": {
                        "text/plain": "0.5008045892041464"
                    },
                    "metadata": {}
                }
            ]
        },
        {
            "metadata": {},
            "cell_type": "code",
            "source": "np.percentile(big_array,75)",
            "execution_count": 119,
            "outputs": [
                {
                    "output_type": "execute_result",
                    "execution_count": 119,
                    "data": {
                        "text/plain": "0.7508103400791966"
                    },
                    "metadata": {}
                }
            ]
        },
        {
            "metadata": {},
            "cell_type": "code",
            "source": "np.mean(big_array)",
            "execution_count": 120,
            "outputs": [
                {
                    "output_type": "execute_result",
                    "execution_count": 120,
                    "data": {
                        "text/plain": "0.5003846391052089"
                    },
                    "metadata": {}
                }
            ]
        },
        {
            "metadata": {},
            "cell_type": "code",
            "source": "",
            "execution_count": null,
            "outputs": []
        }
    ],
    "metadata": {
        "kernelspec": {
            "name": "python3",
            "display_name": "Python 3.6",
            "language": "python"
        },
        "language_info": {
            "name": "python",
            "version": "3.6.9",
            "mimetype": "text/x-python",
            "codemirror_mode": {
                "name": "ipython",
                "version": 3
            },
            "pygments_lexer": "ipython3",
            "nbconvert_exporter": "python",
            "file_extension": ".py"
        }
    },
    "nbformat": 4,
    "nbformat_minor": 1
}