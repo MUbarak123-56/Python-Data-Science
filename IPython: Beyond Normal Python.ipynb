{
    "cells": [
        {
            "metadata": {
                "collapsed": true
            },
            "cell_type": "markdown",
            "source": "# IPython: Beyond Normal Python"
        },
        {
            "metadata": {},
            "cell_type": "markdown",
            "source": "### Help and Documentation with IPython"
        },
        {
            "metadata": {},
            "cell_type": "markdown",
            "source": "### Accessing Documentation with ?"
        },
        {
            "metadata": {},
            "cell_type": "code",
            "source": "help(len)",
            "execution_count": 1,
            "outputs": [
                {
                    "output_type": "stream",
                    "text": "Help on built-in function len in module builtins:\n\nlen(obj, /)\n    Return the number of items in a container.\n\n",
                    "name": "stdout"
                }
            ]
        },
        {
            "metadata": {},
            "cell_type": "code",
            "source": "len?",
            "execution_count": 2,
            "outputs": []
        },
        {
            "metadata": {},
            "cell_type": "code",
            "source": "L = [1,2,3]\nL?",
            "execution_count": 3,
            "outputs": []
        },
        {
            "metadata": {},
            "cell_type": "code",
            "source": "L.insert?",
            "execution_count": 4,
            "outputs": []
        },
        {
            "metadata": {},
            "cell_type": "code",
            "source": "def square(a):\n    return a*a",
            "execution_count": 5,
            "outputs": []
        },
        {
            "metadata": {},
            "cell_type": "code",
            "source": "square?",
            "execution_count": 6,
            "outputs": []
        },
        {
            "metadata": {},
            "cell_type": "markdown",
            "source": "### Accessing the Source Code with ??"
        },
        {
            "metadata": {},
            "cell_type": "code",
            "source": "square??",
            "execution_count": 7,
            "outputs": []
        },
        {
            "metadata": {},
            "cell_type": "code",
            "source": "len??",
            "execution_count": 9,
            "outputs": []
        },
        {
            "metadata": {},
            "cell_type": "markdown",
            "source": "### Exploring Modules with Tab Completion"
        },
        {
            "metadata": {},
            "cell_type": "markdown",
            "source": "#### Tab completion of object contents"
        },
        {
            "metadata": {},
            "cell_type": "code",
            "source": "L.append('4') ## L.<TAB> provides a lot of functions that L could use",
            "execution_count": 10,
            "outputs": []
        },
        {
            "metadata": {},
            "cell_type": "code",
            "source": "L.count(1) ## L.c<TAB> focuses on functions that begin with c",
            "execution_count": 11,
            "outputs": [
                {
                    "output_type": "execute_result",
                    "execution_count": 11,
                    "data": {
                        "text/plain": "1"
                    },
                    "metadata": {}
                }
            ]
        },
        {
            "metadata": {},
            "cell_type": "code",
            "source": "L.__add__([1,3]) ## L.__<TAB> provides a list of private methods",
            "execution_count": 12,
            "outputs": [
                {
                    "output_type": "execute_result",
                    "execution_count": 12,
                    "data": {
                        "text/plain": "[1, 2, 3, '4', 1, 3]"
                    },
                    "metadata": {}
                }
            ]
        },
        {
            "metadata": {},
            "cell_type": "code",
            "source": "L.pop(1)",
            "execution_count": 13,
            "outputs": [
                {
                    "output_type": "execute_result",
                    "execution_count": 13,
                    "data": {
                        "text/plain": "2"
                    },
                    "metadata": {}
                }
            ]
        },
        {
            "metadata": {},
            "cell_type": "markdown",
            "source": "#### Tab completion when importing"
        },
        {
            "metadata": {},
            "cell_type": "code",
            "source": "from itertools import combinations ## <TAB> can also be used with import. for instance, from itertools import co<TAB>",
            "execution_count": 14,
            "outputs": []
        },
        {
            "metadata": {},
            "cell_type": "code",
            "source": "import abc ## import <TAB>",
            "execution_count": 15,
            "outputs": []
        },
        {
            "metadata": {},
            "cell_type": "code",
            "source": "import html ## import <TAB>",
            "execution_count": 16,
            "outputs": []
        },
        {
            "metadata": {},
            "cell_type": "markdown",
            "source": "#### Beyond tab completion: Wildcard matching"
        },
        {
            "metadata": {},
            "cell_type": "code",
            "source": "*Warning? ## * can be used to match any object that contains the following string. Combining it with ? lists out all the objects containing the string.",
            "execution_count": 19,
            "outputs": []
        },
        {
            "metadata": {},
            "cell_type": "code",
            "source": "str.*find*? ## It can also be applied to built-in functions",
            "execution_count": 21,
            "outputs": []
        },
        {
            "metadata": {},
            "cell_type": "markdown",
            "source": "### IPython Magic Commands"
        },
        {
            "metadata": {},
            "cell_type": "markdown",
            "source": "#### Timing Execution Code"
        },
        {
            "metadata": {},
            "cell_type": "code",
            "source": "## %timeit determines the execution time for a single line of code\n%timeit L = [n ** 2 for n in range(1000)]",
            "execution_count": 24,
            "outputs": [
                {
                    "output_type": "stream",
                    "text": "332 \u00b5s \u00b1 1.42 \u00b5s per loop (mean \u00b1 std. dev. of 7 runs, 1000 loops each)\n",
                    "name": "stdout"
                }
            ]
        },
        {
            "metadata": {},
            "cell_type": "code",
            "source": "## %%timeit determines the execution time for a cell\n%%timeit \nL = []\nfor n in range(1000):\n    n**2",
            "execution_count": 63,
            "outputs": [
                {
                    "output_type": "stream",
                    "text": "UsageError: Line magic function `%%timeit` not found.\n",
                    "name": "stderr"
                }
            ]
        },
        {
            "metadata": {},
            "cell_type": "code",
            "source": "%magic",
            "execution_count": 31,
            "outputs": []
        },
        {
            "metadata": {},
            "cell_type": "markdown",
            "source": "### Help on Magic functions"
        },
        {
            "metadata": {},
            "cell_type": "code",
            "source": "%timeit?",
            "execution_count": 32,
            "outputs": []
        },
        {
            "metadata": {},
            "cell_type": "code",
            "source": "%magic ## provides a lists of all magic functions and their capabilities",
            "execution_count": 33,
            "outputs": []
        },
        {
            "metadata": {},
            "cell_type": "code",
            "source": "%lsmagic ## lists out all the magic functions simpler",
            "execution_count": 34,
            "outputs": [
                {
                    "output_type": "execute_result",
                    "execution_count": 34,
                    "data": {
                        "text/plain": "Available line magics:\n%alias  %alias_magic  %autoawait  %autocall  %automagic  %autosave  %bookmark  %cat  %cd  %clear  %colors  %config  %connect_info  %cp  %debug  %dhist  %dirs  %doctest_mode  %ed  %edit  %env  %gui  %hist  %history  %killbgscripts  %ldir  %less  %lf  %lk  %ll  %load  %load_ext  %loadpy  %logoff  %logon  %logstart  %logstate  %logstop  %ls  %lsmagic  %lx  %macro  %magic  %man  %matplotlib  %mkdir  %more  %mv  %notebook  %page  %pastebin  %pdb  %pdef  %pdoc  %pfile  %pinfo  %pinfo2  %popd  %pprint  %precision  %prun  %psearch  %psource  %pushd  %pwd  %pycat  %pylab  %qtconsole  %quickref  %recall  %rehashx  %reload_ext  %rep  %rerun  %reset  %reset_selective  %rm  %rmdir  %run  %save  %sc  %set_env  %store  %sx  %system  %tb  %time  %timeit  %unalias  %unload_ext  %who  %who_ls  %whos  %xdel  %xmode\n\nAvailable cell magics:\n%%!  %%HTML  %%SVG  %%bash  %%capture  %%debug  %%file  %%html  %%javascript  %%js  %%latex  %%markdown  %%perl  %%prun  %%pypy  %%python  %%python2  %%python3  %%ruby  %%script  %%sh  %%svg  %%sx  %%system  %%time  %%timeit  %%writefile\n\nAutomagic is ON, % prefix IS NOT needed for line magics.",
                        "application/json": {
                            "line": {
                                "automagic": "AutoMagics",
                                "autocall": "AutoMagics",
                                "alias_magic": "BasicMagics",
                                "lsmagic": "BasicMagics",
                                "magic": "BasicMagics",
                                "page": "BasicMagics",
                                "pprint": "BasicMagics",
                                "colors": "BasicMagics",
                                "xmode": "BasicMagics",
                                "pip": "BasicMagics",
                                "quickref": "BasicMagics",
                                "doctest_mode": "BasicMagics",
                                "gui": "BasicMagics",
                                "precision": "BasicMagics",
                                "notebook": "BasicMagics",
                                "save": "CodeMagics",
                                "pastebin": "CodeMagics",
                                "loadpy": "CodeMagics",
                                "load": "CodeMagics",
                                "edit": "KernelMagics",
                                "config": "ConfigMagics",
                                "prun": "ExecutionMagics",
                                "pdb": "ExecutionMagics",
                                "debug": "ExecutionMagics",
                                "tb": "ExecutionMagics",
                                "run": "ExecutionMagics",
                                "timeit": "ExecutionMagics",
                                "time": "ExecutionMagics",
                                "macro": "ExecutionMagics",
                                "load_ext": "ExtensionMagics",
                                "unload_ext": "ExtensionMagics",
                                "reload_ext": "ExtensionMagics",
                                "history": "HistoryMagics",
                                "recall": "HistoryMagics",
                                "rerun": "HistoryMagics",
                                "logstart": "LoggingMagics",
                                "logstop": "LoggingMagics",
                                "logoff": "LoggingMagics",
                                "logon": "LoggingMagics",
                                "logstate": "LoggingMagics",
                                "pinfo": "NamespaceMagics",
                                "pinfo2": "NamespaceMagics",
                                "pdef": "NamespaceMagics",
                                "pdoc": "NamespaceMagics",
                                "psource": "NamespaceMagics",
                                "pfile": "NamespaceMagics",
                                "psearch": "NamespaceMagics",
                                "who_ls": "NamespaceMagics",
                                "who": "NamespaceMagics",
                                "whos": "NamespaceMagics",
                                "reset": "NamespaceMagics",
                                "reset_selective": "NamespaceMagics",
                                "xdel": "NamespaceMagics",
                                "alias": "OSMagics",
                                "unalias": "OSMagics",
                                "rehashx": "OSMagics",
                                "pwd": "OSMagics",
                                "cd": "OSMagics",
                                "env": "OSMagics",
                                "set_env": "OSMagics",
                                "pushd": "OSMagics",
                                "popd": "OSMagics",
                                "dirs": "OSMagics",
                                "dhist": "OSMagics",
                                "sc": "OSMagics",
                                "sx": "OSMagics",
                                "system": "OSMagics",
                                "bookmark": "OSMagics",
                                "pycat": "OSMagics",
                                "matplotlib": "PylabMagics",
                                "pylab": "PylabMagics",
                                "killbgscripts": "ScriptMagics",
                                "autoawait": "AsyncMagics",
                                "ed": "Other",
                                "hist": "Other",
                                "rep": "Other",
                                "clear": "KernelMagics",
                                "less": "KernelMagics",
                                "more": "KernelMagics",
                                "man": "KernelMagics",
                                "connect_info": "KernelMagics",
                                "qtconsole": "KernelMagics",
                                "autosave": "KernelMagics",
                                "mkdir": "Other",
                                "rmdir": "Other",
                                "mv": "Other",
                                "rm": "Other",
                                "cp": "Other",
                                "cat": "Other",
                                "ls": "Other",
                                "ll": "Other",
                                "lf": "Other",
                                "lk": "Other",
                                "ldir": "Other",
                                "lx": "Other",
                                "store": "StoreMagics"
                            },
                            "cell": {
                                "js": "DisplayMagics",
                                "javascript": "DisplayMagics",
                                "latex": "DisplayMagics",
                                "svg": "DisplayMagics",
                                "html": "DisplayMagics",
                                "markdown": "DisplayMagics",
                                "prun": "ExecutionMagics",
                                "debug": "ExecutionMagics",
                                "timeit": "ExecutionMagics",
                                "time": "ExecutionMagics",
                                "capture": "ExecutionMagics",
                                "sx": "OSMagics",
                                "system": "OSMagics",
                                "!": "OSMagics",
                                "writefile": "OSMagics",
                                "script": "ScriptMagics",
                                "sh": "Other",
                                "bash": "Other",
                                "perl": "Other",
                                "ruby": "Other",
                                "python": "Other",
                                "python2": "Other",
                                "python3": "Other",
                                "pypy": "Other",
                                "SVG": "Other",
                                "HTML": "Other",
                                "file": "Other"
                            }
                        }
                    },
                    "metadata": {}
                }
            ]
        },
        {
            "metadata": {},
            "cell_type": "markdown",
            "source": "### Input and Output Commands"
        },
        {
            "metadata": {},
            "cell_type": "code",
            "source": "import math",
            "execution_count": 35,
            "outputs": []
        },
        {
            "metadata": {},
            "cell_type": "code",
            "source": "math.sin(2)",
            "execution_count": 36,
            "outputs": [
                {
                    "output_type": "execute_result",
                    "execution_count": 36,
                    "data": {
                        "text/plain": "0.9092974268256817"
                    },
                    "metadata": {}
                }
            ]
        },
        {
            "metadata": {},
            "cell_type": "code",
            "source": "math.cos(1)",
            "execution_count": 37,
            "outputs": [
                {
                    "output_type": "execute_result",
                    "execution_count": 37,
                    "data": {
                        "text/plain": "0.5403023058681398"
                    },
                    "metadata": {}
                }
            ]
        },
        {
            "metadata": {},
            "cell_type": "code",
            "source": "print(In)",
            "execution_count": 39,
            "outputs": [
                {
                    "output_type": "stream",
                    "text": "['', 'help(len)', \"get_ipython().run_line_magic('pinfo', 'len')\", \"L = [1,2,3]\\nget_ipython().run_line_magic('pinfo', 'L')\", \"get_ipython().run_line_magic('pinfo', 'L.insert')\", 'def square(a):\\n    return a*a', \"get_ipython().run_line_magic('pinfo', 'square')\", \"get_ipython().run_line_magic('pinfo2', 'square')\", \"len?? ## There isn't that much of a difference with regards to python's built-in functions\", \"get_ipython().run_line_magic('pinfo2', 'len')\", \"L.append('4') ## L.<TAB> provides a lot of functions that L could use\", 'L.count(1) ## L.c<TAB> focuses on functions that begin with c', 'L.__add__([1,3]) ## L.__<TAB> provides a list of private methods', 'L.pop(1)', 'from itertools import combinations ## <TAB> can also be used with import. for instance, from itertools import co<TAB>', 'import abc ## import <TAB>', 'import html ## import <TAB>', '*Warning? ## * can be used to match any object that contains the following string. Combining it with ? lists out all the objects containing the string.', '*Warning? ## * can be used to match any object that contains the following string. Combining it with ? lists out all the objects containing the string.', \"get_ipython().run_line_magic('psearch', '*Warning')\", 'str.*find*? ## It can also be applied to built-in functions', \"get_ipython().run_line_magic('psearch', 'str.*find*')\", \"get_ipython().run_line_magic('timeit', 'L = [n ** 2 for n in range(1000)]')\", \"get_ipython().run_cell_magic('timeit', '', 'L = []\\\\nfor n in range(1000):\\\\n    n**2\\\\n')\", \"## %timeit determines the execution time for a single line of code\\nget_ipython().run_line_magic('timeit', 'L = [n ** 2 for n in range(1000)]')\", \"## %%timeit determines the execution time for a cell\\nget_ipython().run_line_magic('%timeit', '')\\nL = []\\nfor n in range(1000):\\n    n**2\", \"## %%timeit determines the execution time for a cell\\nget_ipython().run_line_magic('%timeit', '')\\nL = []\\nfor n in range(1000):\\n    n**2\", \"## %%timeit determines the execution time for a cell\\nget_ipython().run_line_magic('%timeit', '')\\nL = []\\nfor n in range(1000):\\n    L.append(n**2)\", \"get_ipython().run_line_magic('magic', '')\", \"get_ipython().run_line_magic('lsmagic', '## lists out all the magic functions simpler')\", \"## %%timeit determines the execution time for a cell\\nget_ipython().run_line_magic('%timeit', '')\\nL = []\\nfor n in range(1000):\\n    L.append(n**2)\", \"get_ipython().run_line_magic('magic', '')\", \"get_ipython().run_line_magic('pinfo', '%timeit')\", \"get_ipython().run_line_magic('magic', '## provides a lists of all magic functions and their capabilities')\", \"get_ipython().run_line_magic('lsmagic', '## lists out all the magic functions simpler')\", 'import math', 'math.sin(2)', 'math.cos(1)', 'print(In)', 'print(In)']\n",
                    "name": "stdout"
                }
            ]
        },
        {
            "metadata": {},
            "cell_type": "code",
            "source": "Out",
            "execution_count": 40,
            "outputs": [
                {
                    "output_type": "execute_result",
                    "execution_count": 40,
                    "data": {
                        "text/plain": "{11: 1,\n 12: [1, 2, 3, '4', 1, 3],\n 13: 2,\n 29: Available line magics:\n%alias  %alias_magic  %autoawait  %autocall  %automagic  %autosave  %bookmark  %cat  %cd  %clear  %colors  %config  %connect_info  %cp  %debug  %dhist  %dirs  %doctest_mode  %ed  %edit  %env  %gui  %hist  %history  %killbgscripts  %ldir  %less  %lf  %lk  %ll  %load  %load_ext  %loadpy  %logoff  %logon  %logstart  %logstate  %logstop  %ls  %lsmagic  %lx  %macro  %magic  %man  %matplotlib  %mkdir  %more  %mv  %notebook  %page  %pastebin  %pdb  %pdef  %pdoc  %pfile  %pinfo  %pinfo2  %popd  %pprint  %precision  %prun  %psearch  %psource  %pushd  %pwd  %pycat  %pylab  %qtconsole  %quickref  %recall  %rehashx  %reload_ext  %rep  %rerun  %reset  %reset_selective  %rm  %rmdir  %run  %save  %sc  %set_env  %store  %sx  %system  %tb  %time  %timeit  %unalias  %unload_ext  %who  %who_ls  %whos  %xdel  %xmode\n\nAvailable cell magics:\n%%!  %%HTML  %%SVG  %%bash  %%capture  %%debug  %%file  %%html  %%javascript  %%js  %%latex  %%markdown  %%perl  %%prun  %%pypy  %%python  %%python2  %%python3  %%ruby  %%script  %%sh  %%svg  %%sx  %%system  %%time  %%timeit  %%writefile\n\nAutomagic is ON, % prefix IS NOT needed for line magics.,\n 34: Available line magics:\n%alias  %alias_magic  %autoawait  %autocall  %automagic  %autosave  %bookmark  %cat  %cd  %clear  %colors  %config  %connect_info  %cp  %debug  %dhist  %dirs  %doctest_mode  %ed  %edit  %env  %gui  %hist  %history  %killbgscripts  %ldir  %less  %lf  %lk  %ll  %load  %load_ext  %loadpy  %logoff  %logon  %logstart  %logstate  %logstop  %ls  %lsmagic  %lx  %macro  %magic  %man  %matplotlib  %mkdir  %more  %mv  %notebook  %page  %pastebin  %pdb  %pdef  %pdoc  %pfile  %pinfo  %pinfo2  %popd  %pprint  %precision  %prun  %psearch  %psource  %pushd  %pwd  %pycat  %pylab  %qtconsole  %quickref  %recall  %rehashx  %reload_ext  %rep  %rerun  %reset  %reset_selective  %rm  %rmdir  %run  %save  %sc  %set_env  %store  %sx  %system  %tb  %time  %timeit  %unalias  %unload_ext  %who  %who_ls  %whos  %xdel  %xmode\n\nAvailable cell magics:\n%%!  %%HTML  %%SVG  %%bash  %%capture  %%debug  %%file  %%html  %%javascript  %%js  %%latex  %%markdown  %%perl  %%prun  %%pypy  %%python  %%python2  %%python3  %%ruby  %%script  %%sh  %%svg  %%sx  %%system  %%time  %%timeit  %%writefile\n\nAutomagic is ON, % prefix IS NOT needed for line magics.,\n 36: 0.9092974268256817,\n 37: 0.5403023058681398}"
                    },
                    "metadata": {}
                }
            ]
        },
        {
            "metadata": {},
            "cell_type": "code",
            "source": "print(In[1])",
            "execution_count": 41,
            "outputs": [
                {
                    "output_type": "stream",
                    "text": "help(len)\n",
                    "name": "stdout"
                }
            ]
        },
        {
            "metadata": {},
            "cell_type": "code",
            "source": "Out",
            "execution_count": 42,
            "outputs": [
                {
                    "output_type": "execute_result",
                    "execution_count": 42,
                    "data": {
                        "text/plain": "{11: 1,\n 12: [1, 2, 3, '4', 1, 3],\n 13: 2,\n 29: Available line magics:\n%alias  %alias_magic  %autoawait  %autocall  %automagic  %autosave  %bookmark  %cat  %cd  %clear  %colors  %config  %connect_info  %cp  %debug  %dhist  %dirs  %doctest_mode  %ed  %edit  %env  %gui  %hist  %history  %killbgscripts  %ldir  %less  %lf  %lk  %ll  %load  %load_ext  %loadpy  %logoff  %logon  %logstart  %logstate  %logstop  %ls  %lsmagic  %lx  %macro  %magic  %man  %matplotlib  %mkdir  %more  %mv  %notebook  %page  %pastebin  %pdb  %pdef  %pdoc  %pfile  %pinfo  %pinfo2  %popd  %pprint  %precision  %prun  %psearch  %psource  %pushd  %pwd  %pycat  %pylab  %qtconsole  %quickref  %recall  %rehashx  %reload_ext  %rep  %rerun  %reset  %reset_selective  %rm  %rmdir  %run  %save  %sc  %set_env  %store  %sx  %system  %tb  %time  %timeit  %unalias  %unload_ext  %who  %who_ls  %whos  %xdel  %xmode\n\nAvailable cell magics:\n%%!  %%HTML  %%SVG  %%bash  %%capture  %%debug  %%file  %%html  %%javascript  %%js  %%latex  %%markdown  %%perl  %%prun  %%pypy  %%python  %%python2  %%python3  %%ruby  %%script  %%sh  %%svg  %%sx  %%system  %%time  %%timeit  %%writefile\n\nAutomagic is ON, % prefix IS NOT needed for line magics.,\n 34: Available line magics:\n%alias  %alias_magic  %autoawait  %autocall  %automagic  %autosave  %bookmark  %cat  %cd  %clear  %colors  %config  %connect_info  %cp  %debug  %dhist  %dirs  %doctest_mode  %ed  %edit  %env  %gui  %hist  %history  %killbgscripts  %ldir  %less  %lf  %lk  %ll  %load  %load_ext  %loadpy  %logoff  %logon  %logstart  %logstate  %logstop  %ls  %lsmagic  %lx  %macro  %magic  %man  %matplotlib  %mkdir  %more  %mv  %notebook  %page  %pastebin  %pdb  %pdef  %pdoc  %pfile  %pinfo  %pinfo2  %popd  %pprint  %precision  %prun  %psearch  %psource  %pushd  %pwd  %pycat  %pylab  %qtconsole  %quickref  %recall  %rehashx  %reload_ext  %rep  %rerun  %reset  %reset_selective  %rm  %rmdir  %run  %save  %sc  %set_env  %store  %sx  %system  %tb  %time  %timeit  %unalias  %unload_ext  %who  %who_ls  %whos  %xdel  %xmode\n\nAvailable cell magics:\n%%!  %%HTML  %%SVG  %%bash  %%capture  %%debug  %%file  %%html  %%javascript  %%js  %%latex  %%markdown  %%perl  %%prun  %%pypy  %%python  %%python2  %%python3  %%ruby  %%script  %%sh  %%svg  %%sx  %%system  %%time  %%timeit  %%writefile\n\nAutomagic is ON, % prefix IS NOT needed for line magics.,\n 36: 0.9092974268256817,\n 37: 0.5403023058681398}"
                    },
                    "metadata": {}
                }
            ]
        },
        {
            "metadata": {},
            "cell_type": "code",
            "source": "print(Out[37])",
            "execution_count": 43,
            "outputs": [
                {
                    "output_type": "stream",
                    "text": "0.5403023058681398\n",
                    "name": "stdout"
                }
            ]
        },
        {
            "metadata": {},
            "cell_type": "code",
            "source": "Out[36]**2 + Out[37]**2",
            "execution_count": 44,
            "outputs": [
                {
                    "output_type": "execute_result",
                    "execution_count": 44,
                    "data": {
                        "text/plain": "1.1187483921582349"
                    },
                    "metadata": {}
                }
            ]
        },
        {
            "metadata": {},
            "cell_type": "markdown",
            "source": "### Underscore Shortcuts and Previous Outputs"
        },
        {
            "metadata": {},
            "cell_type": "code",
            "source": "print(_) ## used for printing previous output",
            "execution_count": 45,
            "outputs": [
                {
                    "output_type": "stream",
                    "text": "1.1187483921582349\n",
                    "name": "stdout"
                }
            ]
        },
        {
            "metadata": {},
            "cell_type": "code",
            "source": "print(__) ## second to last output",
            "execution_count": 46,
            "outputs": [
                {
                    "output_type": "stream",
                    "text": "0.5403023058681398\n",
                    "name": "stdout"
                }
            ]
        },
        {
            "metadata": {},
            "cell_type": "code",
            "source": "_37 ## is shorthand for Out[37]",
            "execution_count": 47,
            "outputs": [
                {
                    "output_type": "execute_result",
                    "execution_count": 47,
                    "data": {
                        "text/plain": "0.5403023058681398"
                    },
                    "metadata": {}
                }
            ]
        },
        {
            "metadata": {},
            "cell_type": "markdown",
            "source": "### Suppressing Output"
        },
        {
            "metadata": {},
            "cell_type": "code",
            "source": "math.sin(2) + math.cos(2); ## semicolon suppresses the output of a command",
            "execution_count": 48,
            "outputs": []
        },
        {
            "metadata": {},
            "cell_type": "code",
            "source": "14 in Out",
            "execution_count": 49,
            "outputs": [
                {
                    "output_type": "execute_result",
                    "execution_count": 49,
                    "data": {
                        "text/plain": "False"
                    },
                    "metadata": {}
                }
            ]
        },
        {
            "metadata": {},
            "cell_type": "markdown",
            "source": "### Related Magic Commands"
        },
        {
            "metadata": {},
            "cell_type": "code",
            "source": "%history -n 1-4",
            "execution_count": 50,
            "outputs": [
                {
                    "output_type": "stream",
                    "text": "   1: help(len)\n   2: len?\n   3:\nL = [1,2,3]\nL?\n   4: L.insert?\n",
                    "name": "stdout"
                }
            ]
        },
        {
            "metadata": {},
            "cell_type": "markdown",
            "source": "### Ipython and Shell Commands"
        },
        {
            "metadata": {},
            "cell_type": "markdown",
            "source": "#### Shell commands in python"
        },
        {
            "metadata": {},
            "cell_type": "code",
            "source": "!ls",
            "execution_count": 51,
            "outputs": []
        },
        {
            "metadata": {},
            "cell_type": "code",
            "source": "!pwd",
            "execution_count": 52,
            "outputs": [
                {
                    "output_type": "stream",
                    "text": "/home/dsxuser/work\r\n",
                    "name": "stdout"
                }
            ]
        },
        {
            "metadata": {},
            "cell_type": "code",
            "source": "!echo \"printing from the shell\"",
            "execution_count": 53,
            "outputs": [
                {
                    "output_type": "stream",
                    "text": "printing from the shell\r\n",
                    "name": "stdout"
                }
            ]
        },
        {
            "metadata": {},
            "cell_type": "markdown",
            "source": "#### Passing values to and from shell"
        },
        {
            "metadata": {},
            "cell_type": "code",
            "source": "open('output.txt', 'w')",
            "execution_count": 54,
            "outputs": [
                {
                    "output_type": "execute_result",
                    "execution_count": 54,
                    "data": {
                        "text/plain": "<_io.TextIOWrapper name='output.txt' mode='w' encoding='UTF-8'>"
                    },
                    "metadata": {}
                }
            ]
        },
        {
            "metadata": {},
            "cell_type": "code",
            "source": "contents = !ls",
            "execution_count": 55,
            "outputs": []
        },
        {
            "metadata": {},
            "cell_type": "code",
            "source": "print(contents)",
            "execution_count": 56,
            "outputs": [
                {
                    "output_type": "stream",
                    "text": "['output.txt']\n",
                    "name": "stdout"
                }
            ]
        },
        {
            "metadata": {},
            "cell_type": "code",
            "source": "directory = !pwd",
            "execution_count": 57,
            "outputs": []
        },
        {
            "metadata": {},
            "cell_type": "code",
            "source": "print(directory)",
            "execution_count": 58,
            "outputs": [
                {
                    "output_type": "stream",
                    "text": "['/home/dsxuser/work']\n",
                    "name": "stdout"
                }
            ]
        },
        {
            "metadata": {},
            "cell_type": "code",
            "source": "type(directory)",
            "execution_count": 59,
            "outputs": [
                {
                    "output_type": "execute_result",
                    "execution_count": 59,
                    "data": {
                        "text/plain": "IPython.utils.text.SList"
                    },
                    "metadata": {}
                }
            ]
        },
        {
            "metadata": {},
            "cell_type": "code",
            "source": "message = \"hello from Python\"",
            "execution_count": 60,
            "outputs": []
        },
        {
            "metadata": {},
            "cell_type": "code",
            "source": "!echo {message}",
            "execution_count": 61,
            "outputs": [
                {
                    "output_type": "stream",
                    "text": "hello from Python\r\n",
                    "name": "stdout"
                }
            ]
        },
        {
            "metadata": {},
            "cell_type": "markdown",
            "source": "#### Shell Related Magic Commands"
        },
        {
            "metadata": {},
            "cell_type": "code",
            "source": "%cd ..",
            "execution_count": 62,
            "outputs": [
                {
                    "output_type": "stream",
                    "text": "/home/dsxuser\n",
                    "name": "stdout"
                }
            ]
        },
        {
            "metadata": {},
            "cell_type": "code",
            "source": "cd work",
            "execution_count": 64,
            "outputs": [
                {
                    "output_type": "stream",
                    "text": "/home/dsxuser/work\n",
                    "name": "stdout"
                }
            ]
        },
        {
            "metadata": {},
            "cell_type": "code",
            "source": "mkdir tmp2",
            "execution_count": 65,
            "outputs": []
        },
        {
            "metadata": {},
            "cell_type": "code",
            "source": "cp output.txt tmp2/",
            "execution_count": 66,
            "outputs": []
        },
        {
            "metadata": {},
            "cell_type": "code",
            "source": "ls tmp2",
            "execution_count": 67,
            "outputs": [
                {
                    "output_type": "stream",
                    "text": "output.txt\r\n",
                    "name": "stdout"
                }
            ]
        },
        {
            "metadata": {},
            "cell_type": "code",
            "source": "rm -r tmp2",
            "execution_count": 68,
            "outputs": []
        },
        {
            "metadata": {},
            "cell_type": "markdown",
            "source": "### Errors and Debugging"
        },
        {
            "metadata": {},
            "cell_type": "markdown",
            "source": "#### Controlling Exceptions: %xmode"
        },
        {
            "metadata": {},
            "cell_type": "code",
            "source": "def func1(a, b):\n    return a / b\ndef func2(x):\n    a = x\n    b = x - 1\n    return func1(a, b)",
            "execution_count": 69,
            "outputs": []
        },
        {
            "metadata": {},
            "cell_type": "code",
            "source": "func2(1)",
            "execution_count": 70,
            "outputs": [
                {
                    "output_type": "error",
                    "ename": "ZeroDivisionError",
                    "evalue": "division by zero",
                    "traceback": [
                        "\u001b[0;31m---------------------------------------------------------------------------\u001b[0m",
                        "\u001b[0;31mZeroDivisionError\u001b[0m                         Traceback (most recent call last)",
                        "\u001b[0;32m<ipython-input-70-7cb498ea7ed1>\u001b[0m in \u001b[0;36m<module>\u001b[0;34m\u001b[0m\n\u001b[0;32m----> 1\u001b[0;31m \u001b[0mfunc2\u001b[0m\u001b[0;34m(\u001b[0m\u001b[0;36m1\u001b[0m\u001b[0;34m)\u001b[0m\u001b[0;34m\u001b[0m\u001b[0;34m\u001b[0m\u001b[0m\n\u001b[0m",
                        "\u001b[0;32m<ipython-input-69-40bcd8ad1a75>\u001b[0m in \u001b[0;36mfunc2\u001b[0;34m(x)\u001b[0m\n\u001b[1;32m      4\u001b[0m     \u001b[0ma\u001b[0m \u001b[0;34m=\u001b[0m \u001b[0mx\u001b[0m\u001b[0;34m\u001b[0m\u001b[0;34m\u001b[0m\u001b[0m\n\u001b[1;32m      5\u001b[0m     \u001b[0mb\u001b[0m \u001b[0;34m=\u001b[0m \u001b[0mx\u001b[0m \u001b[0;34m-\u001b[0m \u001b[0;36m1\u001b[0m\u001b[0;34m\u001b[0m\u001b[0;34m\u001b[0m\u001b[0m\n\u001b[0;32m----> 6\u001b[0;31m     \u001b[0;32mreturn\u001b[0m \u001b[0mfunc1\u001b[0m\u001b[0;34m(\u001b[0m\u001b[0ma\u001b[0m\u001b[0;34m,\u001b[0m \u001b[0mb\u001b[0m\u001b[0;34m)\u001b[0m\u001b[0;34m\u001b[0m\u001b[0;34m\u001b[0m\u001b[0m\n\u001b[0m",
                        "\u001b[0;32m<ipython-input-69-40bcd8ad1a75>\u001b[0m in \u001b[0;36mfunc1\u001b[0;34m(a, b)\u001b[0m\n\u001b[1;32m      1\u001b[0m \u001b[0;32mdef\u001b[0m \u001b[0mfunc1\u001b[0m\u001b[0;34m(\u001b[0m\u001b[0ma\u001b[0m\u001b[0;34m,\u001b[0m \u001b[0mb\u001b[0m\u001b[0;34m)\u001b[0m\u001b[0;34m:\u001b[0m\u001b[0;34m\u001b[0m\u001b[0;34m\u001b[0m\u001b[0m\n\u001b[0;32m----> 2\u001b[0;31m     \u001b[0;32mreturn\u001b[0m \u001b[0ma\u001b[0m \u001b[0;34m/\u001b[0m \u001b[0mb\u001b[0m\u001b[0;34m\u001b[0m\u001b[0;34m\u001b[0m\u001b[0m\n\u001b[0m\u001b[1;32m      3\u001b[0m \u001b[0;32mdef\u001b[0m \u001b[0mfunc2\u001b[0m\u001b[0;34m(\u001b[0m\u001b[0mx\u001b[0m\u001b[0;34m)\u001b[0m\u001b[0;34m:\u001b[0m\u001b[0;34m\u001b[0m\u001b[0;34m\u001b[0m\u001b[0m\n\u001b[1;32m      4\u001b[0m     \u001b[0ma\u001b[0m \u001b[0;34m=\u001b[0m \u001b[0mx\u001b[0m\u001b[0;34m\u001b[0m\u001b[0;34m\u001b[0m\u001b[0m\n\u001b[1;32m      5\u001b[0m     \u001b[0mb\u001b[0m \u001b[0;34m=\u001b[0m \u001b[0mx\u001b[0m \u001b[0;34m-\u001b[0m \u001b[0;36m1\u001b[0m\u001b[0;34m\u001b[0m\u001b[0;34m\u001b[0m\u001b[0m\n",
                        "\u001b[0;31mZeroDivisionError\u001b[0m: division by zero"
                    ]
                }
            ]
        },
        {
            "metadata": {},
            "cell_type": "code",
            "source": "%xmode Plain ## Plain simplifies the way in which the error is reported",
            "execution_count": 71,
            "outputs": [
                {
                    "output_type": "stream",
                    "text": "/opt/conda/envs/Python36/lib/python3.6/site-packages/IPython/core/magics/basic.py:372: UserWarning: Error changing user exception modes.\nUnrecognized mode in FormattedTB: <Plain ## plain simplifies the way in which the error is reported>\nValid modes: ['Plain', 'Context', 'Verbose', 'Minimal']\n  (name,sys.exc_info()[1]))\n",
                    "name": "stderr"
                }
            ]
        },
        {
            "metadata": {},
            "cell_type": "code",
            "source": "func2(1)",
            "execution_count": 72,
            "outputs": [
                {
                    "output_type": "error",
                    "ename": "ZeroDivisionError",
                    "evalue": "division by zero",
                    "traceback": [
                        "\u001b[0;31m---------------------------------------------------------------------------\u001b[0m",
                        "\u001b[0;31mZeroDivisionError\u001b[0m                         Traceback (most recent call last)",
                        "\u001b[0;32m<ipython-input-72-7cb498ea7ed1>\u001b[0m in \u001b[0;36m<module>\u001b[0;34m\u001b[0m\n\u001b[0;32m----> 1\u001b[0;31m \u001b[0mfunc2\u001b[0m\u001b[0;34m(\u001b[0m\u001b[0;36m1\u001b[0m\u001b[0;34m)\u001b[0m\u001b[0;34m\u001b[0m\u001b[0;34m\u001b[0m\u001b[0m\n\u001b[0m",
                        "\u001b[0;32m<ipython-input-69-40bcd8ad1a75>\u001b[0m in \u001b[0;36mfunc2\u001b[0;34m(x)\u001b[0m\n\u001b[1;32m      4\u001b[0m     \u001b[0ma\u001b[0m \u001b[0;34m=\u001b[0m \u001b[0mx\u001b[0m\u001b[0;34m\u001b[0m\u001b[0;34m\u001b[0m\u001b[0m\n\u001b[1;32m      5\u001b[0m     \u001b[0mb\u001b[0m \u001b[0;34m=\u001b[0m \u001b[0mx\u001b[0m \u001b[0;34m-\u001b[0m \u001b[0;36m1\u001b[0m\u001b[0;34m\u001b[0m\u001b[0;34m\u001b[0m\u001b[0m\n\u001b[0;32m----> 6\u001b[0;31m     \u001b[0;32mreturn\u001b[0m \u001b[0mfunc1\u001b[0m\u001b[0;34m(\u001b[0m\u001b[0ma\u001b[0m\u001b[0;34m,\u001b[0m \u001b[0mb\u001b[0m\u001b[0;34m)\u001b[0m\u001b[0;34m\u001b[0m\u001b[0;34m\u001b[0m\u001b[0m\n\u001b[0m",
                        "\u001b[0;32m<ipython-input-69-40bcd8ad1a75>\u001b[0m in \u001b[0;36mfunc1\u001b[0;34m(a, b)\u001b[0m\n\u001b[1;32m      1\u001b[0m \u001b[0;32mdef\u001b[0m \u001b[0mfunc1\u001b[0m\u001b[0;34m(\u001b[0m\u001b[0ma\u001b[0m\u001b[0;34m,\u001b[0m \u001b[0mb\u001b[0m\u001b[0;34m)\u001b[0m\u001b[0;34m:\u001b[0m\u001b[0;34m\u001b[0m\u001b[0;34m\u001b[0m\u001b[0m\n\u001b[0;32m----> 2\u001b[0;31m     \u001b[0;32mreturn\u001b[0m \u001b[0ma\u001b[0m \u001b[0;34m/\u001b[0m \u001b[0mb\u001b[0m\u001b[0;34m\u001b[0m\u001b[0;34m\u001b[0m\u001b[0m\n\u001b[0m\u001b[1;32m      3\u001b[0m \u001b[0;32mdef\u001b[0m \u001b[0mfunc2\u001b[0m\u001b[0;34m(\u001b[0m\u001b[0mx\u001b[0m\u001b[0;34m)\u001b[0m\u001b[0;34m:\u001b[0m\u001b[0;34m\u001b[0m\u001b[0;34m\u001b[0m\u001b[0m\n\u001b[1;32m      4\u001b[0m     \u001b[0ma\u001b[0m \u001b[0;34m=\u001b[0m \u001b[0mx\u001b[0m\u001b[0;34m\u001b[0m\u001b[0;34m\u001b[0m\u001b[0m\n\u001b[1;32m      5\u001b[0m     \u001b[0mb\u001b[0m \u001b[0;34m=\u001b[0m \u001b[0mx\u001b[0m \u001b[0;34m-\u001b[0m \u001b[0;36m1\u001b[0m\u001b[0;34m\u001b[0m\u001b[0;34m\u001b[0m\u001b[0m\n",
                        "\u001b[0;31mZeroDivisionError\u001b[0m: division by zero"
                    ]
                }
            ]
        },
        {
            "metadata": {},
            "cell_type": "code",
            "source": "%xmode Verbose",
            "execution_count": 73,
            "outputs": [
                {
                    "output_type": "stream",
                    "text": "Exception reporting mode: Verbose\n",
                    "name": "stdout"
                }
            ]
        },
        {
            "metadata": {},
            "cell_type": "code",
            "source": "func2(1)",
            "execution_count": 74,
            "outputs": [
                {
                    "output_type": "error",
                    "ename": "ZeroDivisionError",
                    "evalue": "division by zero",
                    "traceback": [
                        "\u001b[0;31m---------------------------------------------------------------------------\u001b[0m",
                        "\u001b[0;31mZeroDivisionError\u001b[0m                         Traceback (most recent call last)",
                        "\u001b[0;32m<ipython-input-74-7cb498ea7ed1>\u001b[0m in \u001b[0;36m<module>\u001b[0;34m\u001b[0m\n\u001b[0;32m----> 1\u001b[0;31m \u001b[0mfunc2\u001b[0m\u001b[0;34m(\u001b[0m\u001b[0;36m1\u001b[0m\u001b[0;34m)\u001b[0m\u001b[0;34m\u001b[0m\u001b[0;34m\u001b[0m\u001b[0m\n\u001b[0m        \u001b[0;36mglobal\u001b[0m \u001b[0;36mfunc2\u001b[0m \u001b[0;34m= <function func2 at 0x7fdae0aabbf8>\u001b[0m\n",
                        "\u001b[0;32m<ipython-input-69-40bcd8ad1a75>\u001b[0m in \u001b[0;36mfunc2\u001b[0;34m(x=1)\u001b[0m\n\u001b[1;32m      4\u001b[0m     \u001b[0ma\u001b[0m \u001b[0;34m=\u001b[0m \u001b[0mx\u001b[0m\u001b[0;34m\u001b[0m\u001b[0;34m\u001b[0m\u001b[0m\n\u001b[1;32m      5\u001b[0m     \u001b[0mb\u001b[0m \u001b[0;34m=\u001b[0m \u001b[0mx\u001b[0m \u001b[0;34m-\u001b[0m \u001b[0;36m1\u001b[0m\u001b[0;34m\u001b[0m\u001b[0;34m\u001b[0m\u001b[0m\n\u001b[0;32m----> 6\u001b[0;31m     \u001b[0;32mreturn\u001b[0m \u001b[0mfunc1\u001b[0m\u001b[0;34m(\u001b[0m\u001b[0ma\u001b[0m\u001b[0;34m,\u001b[0m \u001b[0mb\u001b[0m\u001b[0;34m)\u001b[0m\u001b[0;34m\u001b[0m\u001b[0;34m\u001b[0m\u001b[0m\n\u001b[0m        \u001b[0;36mglobal\u001b[0m \u001b[0;36mfunc1\u001b[0m \u001b[0;34m= <function func1 at 0x7fdadc0311e0>\u001b[0m\u001b[0;34m\n        \u001b[0m\u001b[0;36ma\u001b[0m \u001b[0;34m= 1\u001b[0m\u001b[0;34m\n        \u001b[0m\u001b[0;36mb\u001b[0m \u001b[0;34m= 0\u001b[0m\n",
                        "\u001b[0;32m<ipython-input-69-40bcd8ad1a75>\u001b[0m in \u001b[0;36mfunc1\u001b[0;34m(a=1, b=0)\u001b[0m\n\u001b[1;32m      1\u001b[0m \u001b[0;32mdef\u001b[0m \u001b[0mfunc1\u001b[0m\u001b[0;34m(\u001b[0m\u001b[0ma\u001b[0m\u001b[0;34m,\u001b[0m \u001b[0mb\u001b[0m\u001b[0;34m)\u001b[0m\u001b[0;34m:\u001b[0m\u001b[0;34m\u001b[0m\u001b[0;34m\u001b[0m\u001b[0m\n\u001b[0;32m----> 2\u001b[0;31m     \u001b[0;32mreturn\u001b[0m \u001b[0ma\u001b[0m \u001b[0;34m/\u001b[0m \u001b[0mb\u001b[0m\u001b[0;34m\u001b[0m\u001b[0;34m\u001b[0m\u001b[0m\n\u001b[0m        \u001b[0;36ma\u001b[0m \u001b[0;34m= 1\u001b[0m\u001b[0;34m\n        \u001b[0m\u001b[0;36mb\u001b[0m \u001b[0;34m= 0\u001b[0m\n\u001b[1;32m      3\u001b[0m \u001b[0;32mdef\u001b[0m \u001b[0mfunc2\u001b[0m\u001b[0;34m(\u001b[0m\u001b[0mx\u001b[0m\u001b[0;34m)\u001b[0m\u001b[0;34m:\u001b[0m\u001b[0;34m\u001b[0m\u001b[0;34m\u001b[0m\u001b[0m\n\u001b[1;32m      4\u001b[0m     \u001b[0ma\u001b[0m \u001b[0;34m=\u001b[0m \u001b[0mx\u001b[0m\u001b[0;34m\u001b[0m\u001b[0;34m\u001b[0m\u001b[0m\n\u001b[1;32m      5\u001b[0m     \u001b[0mb\u001b[0m \u001b[0;34m=\u001b[0m \u001b[0mx\u001b[0m \u001b[0;34m-\u001b[0m \u001b[0;36m1\u001b[0m\u001b[0;34m\u001b[0m\u001b[0;34m\u001b[0m\u001b[0m\n",
                        "\u001b[0;31mZeroDivisionError\u001b[0m: division by zero"
                    ]
                }
            ]
        },
        {
            "metadata": {},
            "cell_type": "markdown",
            "source": "#### Debugging: When Reading Tracebacks Is Not Enough"
        },
        {
            "metadata": {},
            "cell_type": "code",
            "source": "%debug ## This makes it possible to navigate through the error message",
            "execution_count": 75,
            "outputs": [
                {
                    "output_type": "stream",
                    "text": "NOTE: Enter 'c' at the ipdb>  prompt to continue execution.\n> \u001b[0;32m<string>\u001b[0m(2)\u001b[0;36m<module>\u001b[0;34m()\u001b[0m\n\nipdb> quit\n",
                    "name": "stdout"
                }
            ]
        },
        {
            "metadata": {},
            "cell_type": "code",
            "source": "%debug",
            "execution_count": 76,
            "outputs": [
                {
                    "output_type": "stream",
                    "text": "> \u001b[0;32m<ipython-input-69-40bcd8ad1a75>\u001b[0m(2)\u001b[0;36mfunc1\u001b[0;34m()\u001b[0m\n\u001b[0;32m      1 \u001b[0;31m\u001b[0;32mdef\u001b[0m \u001b[0mfunc1\u001b[0m\u001b[0;34m(\u001b[0m\u001b[0ma\u001b[0m\u001b[0;34m,\u001b[0m \u001b[0mb\u001b[0m\u001b[0;34m)\u001b[0m\u001b[0;34m:\u001b[0m\u001b[0;34m\u001b[0m\u001b[0;34m\u001b[0m\u001b[0m\n\u001b[0m\u001b[0;32m----> 2 \u001b[0;31m    \u001b[0;32mreturn\u001b[0m \u001b[0ma\u001b[0m \u001b[0;34m/\u001b[0m \u001b[0mb\u001b[0m\u001b[0;34m\u001b[0m\u001b[0;34m\u001b[0m\u001b[0m\n\u001b[0m\u001b[0;32m      3 \u001b[0;31m\u001b[0;32mdef\u001b[0m \u001b[0mfunc2\u001b[0m\u001b[0;34m(\u001b[0m\u001b[0mx\u001b[0m\u001b[0;34m)\u001b[0m\u001b[0;34m:\u001b[0m\u001b[0;34m\u001b[0m\u001b[0;34m\u001b[0m\u001b[0m\n\u001b[0m\u001b[0;32m      4 \u001b[0;31m    \u001b[0ma\u001b[0m \u001b[0;34m=\u001b[0m \u001b[0mx\u001b[0m\u001b[0;34m\u001b[0m\u001b[0;34m\u001b[0m\u001b[0m\n\u001b[0m\u001b[0;32m      5 \u001b[0;31m    \u001b[0mb\u001b[0m \u001b[0;34m=\u001b[0m \u001b[0mx\u001b[0m \u001b[0;34m-\u001b[0m \u001b[0;36m1\u001b[0m\u001b[0;34m\u001b[0m\u001b[0;34m\u001b[0m\u001b[0m\n\u001b[0m\nipdb> print(a)\n1\nipdb> print(b)\n0\nipdb> quit\n",
                    "name": "stdout"
                }
            ]
        },
        {
            "metadata": {},
            "cell_type": "code",
            "source": "%xmode Plain\n%pdb on\nfunc2(1)",
            "execution_count": 77,
            "outputs": [
                {
                    "output_type": "stream",
                    "text": "Exception reporting mode: Plain\nAutomatic pdb calling has been turned ON\n",
                    "name": "stdout"
                },
                {
                    "output_type": "error",
                    "ename": "ZeroDivisionError",
                    "evalue": "division by zero",
                    "traceback": [
                        "Traceback \u001b[0;36m(most recent call last)\u001b[0m:\n",
                        "  File \u001b[1;32m\"<ipython-input-77-f80f6b5cecf3>\"\u001b[0m, line \u001b[1;32m3\u001b[0m, in \u001b[1;35m<module>\u001b[0m\n    func2(1)\n",
                        "  File \u001b[1;32m\"<ipython-input-69-40bcd8ad1a75>\"\u001b[0m, line \u001b[1;32m6\u001b[0m, in \u001b[1;35mfunc2\u001b[0m\n    return func1(a, b)\n",
                        "\u001b[0;36m  File \u001b[0;32m\"<ipython-input-69-40bcd8ad1a75>\"\u001b[0;36m, line \u001b[0;32m2\u001b[0;36m, in \u001b[0;35mfunc1\u001b[0;36m\u001b[0m\n\u001b[0;31m    return a / b\u001b[0m\n",
                        "\u001b[0;31mZeroDivisionError\u001b[0m\u001b[0;31m:\u001b[0m division by zero\n"
                    ]
                },
                {
                    "output_type": "stream",
                    "text": "> \u001b[0;32m<ipython-input-69-40bcd8ad1a75>\u001b[0m(2)\u001b[0;36mfunc1\u001b[0;34m()\u001b[0m\n\u001b[0;32m      1 \u001b[0;31m\u001b[0;32mdef\u001b[0m \u001b[0mfunc1\u001b[0m\u001b[0;34m(\u001b[0m\u001b[0ma\u001b[0m\u001b[0;34m,\u001b[0m \u001b[0mb\u001b[0m\u001b[0;34m)\u001b[0m\u001b[0;34m:\u001b[0m\u001b[0;34m\u001b[0m\u001b[0;34m\u001b[0m\u001b[0m\n\u001b[0m\u001b[0;32m----> 2 \u001b[0;31m    \u001b[0;32mreturn\u001b[0m \u001b[0ma\u001b[0m \u001b[0;34m/\u001b[0m \u001b[0mb\u001b[0m\u001b[0;34m\u001b[0m\u001b[0;34m\u001b[0m\u001b[0m\n\u001b[0m\u001b[0;32m      3 \u001b[0;31m\u001b[0;32mdef\u001b[0m \u001b[0mfunc2\u001b[0m\u001b[0;34m(\u001b[0m\u001b[0mx\u001b[0m\u001b[0;34m)\u001b[0m\u001b[0;34m:\u001b[0m\u001b[0;34m\u001b[0m\u001b[0;34m\u001b[0m\u001b[0m\n\u001b[0m\u001b[0;32m      4 \u001b[0;31m    \u001b[0ma\u001b[0m \u001b[0;34m=\u001b[0m \u001b[0mx\u001b[0m\u001b[0;34m\u001b[0m\u001b[0;34m\u001b[0m\u001b[0m\n\u001b[0m\u001b[0;32m      5 \u001b[0;31m    \u001b[0mb\u001b[0m \u001b[0;34m=\u001b[0m \u001b[0mx\u001b[0m \u001b[0;34m-\u001b[0m \u001b[0;36m1\u001b[0m\u001b[0;34m\u001b[0m\u001b[0;34m\u001b[0m\u001b[0m\n\u001b[0m\nipdb> up\n> \u001b[0;32m<ipython-input-69-40bcd8ad1a75>\u001b[0m(6)\u001b[0;36mfunc2\u001b[0;34m()\u001b[0m\n\u001b[0;32m      2 \u001b[0;31m    \u001b[0;32mreturn\u001b[0m \u001b[0ma\u001b[0m \u001b[0;34m/\u001b[0m \u001b[0mb\u001b[0m\u001b[0;34m\u001b[0m\u001b[0;34m\u001b[0m\u001b[0m\n\u001b[0m\u001b[0;32m      3 \u001b[0;31m\u001b[0;32mdef\u001b[0m \u001b[0mfunc2\u001b[0m\u001b[0;34m(\u001b[0m\u001b[0mx\u001b[0m\u001b[0;34m)\u001b[0m\u001b[0;34m:\u001b[0m\u001b[0;34m\u001b[0m\u001b[0;34m\u001b[0m\u001b[0m\n\u001b[0m\u001b[0;32m      4 \u001b[0;31m    \u001b[0ma\u001b[0m \u001b[0;34m=\u001b[0m \u001b[0mx\u001b[0m\u001b[0;34m\u001b[0m\u001b[0;34m\u001b[0m\u001b[0m\n\u001b[0m\u001b[0;32m      5 \u001b[0;31m    \u001b[0mb\u001b[0m \u001b[0;34m=\u001b[0m \u001b[0mx\u001b[0m \u001b[0;34m-\u001b[0m \u001b[0;36m1\u001b[0m\u001b[0;34m\u001b[0m\u001b[0;34m\u001b[0m\u001b[0m\n\u001b[0m\u001b[0;32m----> 6 \u001b[0;31m    \u001b[0;32mreturn\u001b[0m \u001b[0mfunc1\u001b[0m\u001b[0;34m(\u001b[0m\u001b[0ma\u001b[0m\u001b[0;34m,\u001b[0m \u001b[0mb\u001b[0m\u001b[0;34m)\u001b[0m\u001b[0;34m\u001b[0m\u001b[0;34m\u001b[0m\u001b[0m\n\u001b[0m\nipdb> print(x)\n1\nipdb> quit\n",
                    "name": "stdout"
                }
            ]
        },
        {
            "metadata": {},
            "cell_type": "markdown",
            "source": "### Profiling and Timing of the code"
        },
        {
            "metadata": {},
            "cell_type": "markdown",
            "source": "#### Timing Code Snippets: %timeit and %time"
        },
        {
            "metadata": {},
            "cell_type": "code",
            "source": "%timeit sum(range(100))",
            "execution_count": 78,
            "outputs": [
                {
                    "output_type": "stream",
                    "text": "1.38 \u00b5s \u00b1 15 ns per loop (mean \u00b1 std. dev. of 7 runs, 1000000 loops each)\n",
                    "name": "stdout"
                }
            ]
        },
        {
            "metadata": {},
            "cell_type": "code",
            "source": "%%timeit\ntotal = 0\nfor i in range(1000): \n    for j in range(1000):\n        total += i * (-1) ** j",
            "execution_count": 79,
            "outputs": [
                {
                    "output_type": "stream",
                    "text": "420 ms \u00b1 4.28 ms per loop (mean \u00b1 std. dev. of 7 runs, 1 loop each)\n",
                    "name": "stdout"
                }
            ]
        },
        {
            "metadata": {},
            "cell_type": "code",
            "source": "import random\nL = [random.random() for i in range(100000)]\n%timeit L.sort()",
            "execution_count": 80,
            "outputs": [
                {
                    "output_type": "stream",
                    "text": "2.21 ms \u00b1 48 \u00b5s per loop (mean \u00b1 std. dev. of 7 runs, 100 loops each)\n",
                    "name": "stdout"
                }
            ]
        },
        {
            "metadata": {},
            "cell_type": "code",
            "source": "import random\nL = [random.random() for i in range(100000)]\nprint(\"sorting an unsorted list:\")\n%time L.sort()",
            "execution_count": 81,
            "outputs": [
                {
                    "output_type": "stream",
                    "text": "sorting an unsorted list:\nCPU times: user 52 ms, sys: 0 ns, total: 52 ms\nWall time: 50.9 ms\n",
                    "name": "stdout"
                }
            ]
        },
        {
            "metadata": {},
            "cell_type": "code",
            "source": "print(\"sorting an already sorted list:\")\n%time L.sort()\n",
            "execution_count": 82,
            "outputs": [
                {
                    "output_type": "stream",
                    "text": "sorting an already sorted list:\nCPU times: user 4 ms, sys: 0 ns, total: 4 ms\nWall time: 11.1 ms\n",
                    "name": "stdout"
                }
            ]
        },
        {
            "metadata": {},
            "cell_type": "code",
            "source": "%%time\ntotal = 0\nfor i in range(1000):\n    for j in range(1000):\n        total += i * (-1) ** j",
            "execution_count": 83,
            "outputs": [
                {
                    "output_type": "stream",
                    "text": "CPU times: user 512 ms, sys: 0 ns, total: 512 ms\nWall time: 523 ms\n",
                    "name": "stdout"
                }
            ]
        },
        {
            "metadata": {},
            "cell_type": "markdown",
            "source": "### Profiling Full Scripts: %prun"
        },
        {
            "metadata": {},
            "cell_type": "code",
            "source": "def sum_of_lists(N):\n    total = 0\n    for i in range(5):\n        L = [j ^ (j >> i) for j in range(N)]\n        total += sum(L)\n    return total",
            "execution_count": 84,
            "outputs": []
        },
        {
            "metadata": {},
            "cell_type": "code",
            "source": "%prun sum_of_lists(1000000)",
            "execution_count": 85,
            "outputs": [
                {
                    "output_type": "stream",
                    "text": " ",
                    "name": "stdout"
                }
            ]
        },
        {
            "metadata": {},
            "cell_type": "markdown",
            "source": "#### Line-by-line profiling with %lprun"
        },
        {
            "metadata": {},
            "cell_type": "code",
            "source": "! pip install line_profiler",
            "execution_count": 86,
            "outputs": [
                {
                    "output_type": "stream",
                    "text": "Collecting line_profiler\n\u001b[?25l  Downloading https://files.pythonhosted.org/packages/d8/cc/4237472dd5c9a1a4079a89df7ba3d2924eed2696d68b91886743c728a9df/line_profiler-3.0.2-cp36-cp36m-manylinux2010_x86_64.whl (68kB)\n\u001b[K     |\u2588\u2588\u2588\u2588\u2588\u2588\u2588\u2588\u2588\u2588\u2588\u2588\u2588\u2588\u2588\u2588\u2588\u2588\u2588\u2588\u2588\u2588\u2588\u2588\u2588\u2588\u2588\u2588\u2588\u2588\u2588\u2588| 71kB 15.1MB/s eta 0:00:01\n\u001b[?25hRequirement already satisfied: IPython in /opt/conda/envs/Python36/lib/python3.6/site-packages (from line_profiler) (7.2.0)\nRequirement already satisfied: setuptools>=18.5 in /opt/conda/envs/Python36/lib/python3.6/site-packages (from IPython->line_profiler) (40.8.0)\nRequirement already satisfied: pexpect; sys_platform != \"win32\" in /opt/conda/envs/Python36/lib/python3.6/site-packages (from IPython->line_profiler) (4.6.0)\nRequirement already satisfied: jedi>=0.10 in /opt/conda/envs/Python36/lib/python3.6/site-packages (from IPython->line_profiler) (0.13.2)\nRequirement already satisfied: prompt-toolkit<2.1.0,>=2.0.0 in /opt/conda/envs/Python36/lib/python3.6/site-packages (from IPython->line_profiler) (2.0.8)\nRequirement already satisfied: pickleshare in /opt/conda/envs/Python36/lib/python3.6/site-packages (from IPython->line_profiler) (0.7.5)\nRequirement already satisfied: decorator in /opt/conda/envs/Python36/lib/python3.6/site-packages (from IPython->line_profiler) (4.3.2)\nRequirement already satisfied: backcall in /opt/conda/envs/Python36/lib/python3.6/site-packages (from IPython->line_profiler) (0.1.0)\nRequirement already satisfied: pygments in /opt/conda/envs/Python36/lib/python3.6/site-packages (from IPython->line_profiler) (2.3.1)\nRequirement already satisfied: traitlets>=4.2 in /opt/conda/envs/Python36/lib/python3.6/site-packages (from IPython->line_profiler) (4.3.2)\nRequirement already satisfied: ptyprocess>=0.5 in /opt/conda/envs/Python36/lib/python3.6/site-packages (from pexpect; sys_platform != \"win32\"->IPython->line_profiler) (0.6.0)\nRequirement already satisfied: parso>=0.3.0 in /opt/conda/envs/Python36/lib/python3.6/site-packages (from jedi>=0.10->IPython->line_profiler) (0.3.2)\nRequirement already satisfied: six>=1.9.0 in /opt/conda/envs/Python36/lib/python3.6/site-packages (from prompt-toolkit<2.1.0,>=2.0.0->IPython->line_profiler) (1.12.0)\nRequirement already satisfied: wcwidth in /opt/conda/envs/Python36/lib/python3.6/site-packages (from prompt-toolkit<2.1.0,>=2.0.0->IPython->line_profiler) (0.1.7)\nRequirement already satisfied: ipython-genutils in /opt/conda/envs/Python36/lib/python3.6/site-packages (from traitlets>=4.2->IPython->line_profiler) (0.2.0)\nInstalling collected packages: line-profiler\nSuccessfully installed line-profiler-3.0.2\n",
                    "name": "stdout"
                }
            ]
        },
        {
            "metadata": {},
            "cell_type": "code",
            "source": "%load_ext line_profiler",
            "execution_count": 87,
            "outputs": []
        },
        {
            "metadata": {},
            "cell_type": "code",
            "source": "%lprun -f sum_of_lists sum_of_lists(5000)",
            "execution_count": 88,
            "outputs": []
        },
        {
            "metadata": {},
            "cell_type": "markdown",
            "source": "#### Profile Memory Use: %memit and %mprun"
        },
        {
            "metadata": {},
            "cell_type": "code",
            "source": "! pip install memory_profiler",
            "execution_count": 89,
            "outputs": [
                {
                    "output_type": "stream",
                    "text": "Collecting memory_profiler\n  Downloading https://files.pythonhosted.org/packages/f4/03/175d380294b2333b9b79c2f2aa235eb90ee95e3ddef644497a9455404312/memory_profiler-0.57.0.tar.gz\nRequirement already satisfied: psutil in /opt/conda/envs/Python36/lib/python3.6/site-packages (from memory_profiler) (5.5.0)\nBuilding wheels for collected packages: memory-profiler\n  Building wheel for memory-profiler (setup.py) ... \u001b[?25ldone\n\u001b[?25h  Stored in directory: /home/dsxuser/.cache/pip/wheels/74/20/b5/20964ef97be73d2c3a695c9cad7bccd96d1e3e737a8163861f\nSuccessfully built memory-profiler\nInstalling collected packages: memory-profiler\nSuccessfully installed memory-profiler-0.57.0\n",
                    "name": "stdout"
                }
            ]
        },
        {
            "metadata": {},
            "cell_type": "code",
            "source": "%load_ext memory_profiler",
            "execution_count": 90,
            "outputs": []
        },
        {
            "metadata": {},
            "cell_type": "code",
            "source": "%memit sum_of_lists(1000000)",
            "execution_count": 91,
            "outputs": [
                {
                    "output_type": "stream",
                    "text": "peak memory: 133.25 MiB, increment: 75.50 MiB\n",
                    "name": "stdout"
                }
            ]
        },
        {
            "metadata": {},
            "cell_type": "code",
            "source": "%%file mprun_demo.py\ndef sum_of_lists(N):\n    total = 0\n    for i in range(5):\n        L = [j ^ (j >> i) for j in range(N)]\n        total += sum(L)\n        del L # remove reference to L\n    return total",
            "execution_count": 92,
            "outputs": [
                {
                    "output_type": "stream",
                    "text": "Writing mprun_demo.py\n",
                    "name": "stdout"
                }
            ]
        },
        {
            "metadata": {},
            "cell_type": "code",
            "source": "%run mprun_demo.py",
            "execution_count": 93,
            "outputs": []
        },
        {
            "metadata": {},
            "cell_type": "code",
            "source": "from mprun_demo import sum_of_lists",
            "execution_count": 94,
            "outputs": []
        },
        {
            "metadata": {},
            "cell_type": "code",
            "source": "",
            "execution_count": null,
            "outputs": []
        }
    ],
    "metadata": {
        "kernelspec": {
            "name": "python3",
            "display_name": "Python 3.6",
            "language": "python"
        },
        "language_info": {
            "name": "python",
            "version": "3.6.9",
            "mimetype": "text/x-python",
            "codemirror_mode": {
                "name": "ipython",
                "version": 3
            },
            "pygments_lexer": "ipython3",
            "nbconvert_exporter": "python",
            "file_extension": ".py"
        }
    },
    "nbformat": 4,
    "nbformat_minor": 1
}