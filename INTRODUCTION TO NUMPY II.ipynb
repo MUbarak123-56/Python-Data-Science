{
    "cells": [
        {
            "metadata": {
                "collapsed": true
            },
            "cell_type": "markdown",
            "source": "# INTRODUCTION TO NUMPY II"
        },
        {
            "metadata": {},
            "cell_type": "markdown",
            "source": "## COMPUTATION ON ARRAYS: BROADCASTING"
        },
        {
            "metadata": {},
            "cell_type": "markdown",
            "source": "### INTRODUCING BROADCASTING"
        },
        {
            "metadata": {},
            "cell_type": "code",
            "source": "import numpy as np",
            "execution_count": 1,
            "outputs": []
        },
        {
            "metadata": {},
            "cell_type": "code",
            "source": "a = np.array([0,1,2])\nb = np.array([5,5,5])\na + b",
            "execution_count": 2,
            "outputs": [
                {
                    "output_type": "execute_result",
                    "execution_count": 2,
                    "data": {
                        "text/plain": "array([5, 6, 7])"
                    },
                    "metadata": {}
                }
            ]
        },
        {
            "metadata": {},
            "cell_type": "code",
            "source": "a+ 5",
            "execution_count": 3,
            "outputs": [
                {
                    "output_type": "execute_result",
                    "execution_count": 3,
                    "data": {
                        "text/plain": "array([5, 6, 7])"
                    },
                    "metadata": {}
                }
            ]
        },
        {
            "metadata": {},
            "cell_type": "code",
            "source": "M = np.ones((3,3))\nM",
            "execution_count": 4,
            "outputs": [
                {
                    "output_type": "execute_result",
                    "execution_count": 4,
                    "data": {
                        "text/plain": "array([[1., 1., 1.],\n       [1., 1., 1.],\n       [1., 1., 1.]])"
                    },
                    "metadata": {}
                }
            ]
        },
        {
            "metadata": {},
            "cell_type": "code",
            "source": "M + a",
            "execution_count": 5,
            "outputs": [
                {
                    "output_type": "execute_result",
                    "execution_count": 5,
                    "data": {
                        "text/plain": "array([[1., 2., 3.],\n       [1., 2., 3.],\n       [1., 2., 3.]])"
                    },
                    "metadata": {}
                }
            ]
        },
        {
            "metadata": {},
            "cell_type": "code",
            "source": "a = np.arange(3)\nb = np.arange(3)[:, np.newaxis]\nprint(a)\nprint(b)",
            "execution_count": 6,
            "outputs": [
                {
                    "output_type": "stream",
                    "text": "[0 1 2]\n[[0]\n [1]\n [2]]\n",
                    "name": "stdout"
                }
            ]
        },
        {
            "metadata": {},
            "cell_type": "code",
            "source": "a + b",
            "execution_count": 7,
            "outputs": [
                {
                    "output_type": "execute_result",
                    "execution_count": 7,
                    "data": {
                        "text/plain": "array([[0, 1, 2],\n       [1, 2, 3],\n       [2, 3, 4]])"
                    },
                    "metadata": {}
                }
            ]
        },
        {
            "metadata": {},
            "cell_type": "markdown",
            "source": "#### Broadcasting example 1"
        },
        {
            "metadata": {},
            "cell_type": "code",
            "source": "M = np.ones((2,3))\na = np.arange(3)",
            "execution_count": 8,
            "outputs": []
        },
        {
            "metadata": {},
            "cell_type": "code",
            "source": "M + a",
            "execution_count": 9,
            "outputs": [
                {
                    "output_type": "execute_result",
                    "execution_count": 9,
                    "data": {
                        "text/plain": "array([[1., 2., 3.],\n       [1., 2., 3.]])"
                    },
                    "metadata": {}
                }
            ]
        },
        {
            "metadata": {},
            "cell_type": "markdown",
            "source": "#### Broadcasting example 2"
        },
        {
            "metadata": {},
            "cell_type": "code",
            "source": "a = np.arange(3).reshape((3,1))\nb = np.arange(3)",
            "execution_count": 10,
            "outputs": []
        },
        {
            "metadata": {},
            "cell_type": "code",
            "source": "a + b",
            "execution_count": 11,
            "outputs": [
                {
                    "output_type": "execute_result",
                    "execution_count": 11,
                    "data": {
                        "text/plain": "array([[0, 1, 2],\n       [1, 2, 3],\n       [2, 3, 4]])"
                    },
                    "metadata": {}
                }
            ]
        },
        {
            "metadata": {},
            "cell_type": "markdown",
            "source": "#### Broadcasting example 3"
        },
        {
            "metadata": {},
            "cell_type": "code",
            "source": "M = np.ones((3,2))\na = np.arange(3)",
            "execution_count": 12,
            "outputs": []
        },
        {
            "metadata": {},
            "cell_type": "code",
            "source": "## M + a results in an error when a tries to get broadcasted to match with M",
            "execution_count": 13,
            "outputs": []
        },
        {
            "metadata": {},
            "cell_type": "code",
            "source": "a[:, np.newaxis].shape",
            "execution_count": 15,
            "outputs": [
                {
                    "output_type": "execute_result",
                    "execution_count": 15,
                    "data": {
                        "text/plain": "(3, 1)"
                    },
                    "metadata": {}
                }
            ]
        },
        {
            "metadata": {},
            "cell_type": "code",
            "source": "M + a[:, np.newaxis]",
            "execution_count": 16,
            "outputs": [
                {
                    "output_type": "execute_result",
                    "execution_count": 16,
                    "data": {
                        "text/plain": "array([[1., 1.],\n       [2., 2.],\n       [3., 3.]])"
                    },
                    "metadata": {}
                }
            ]
        },
        {
            "metadata": {},
            "cell_type": "code",
            "source": "np.logaddexp(M, a[:, np.newaxis])",
            "execution_count": 17,
            "outputs": [
                {
                    "output_type": "execute_result",
                    "execution_count": 17,
                    "data": {
                        "text/plain": "array([[1.31326169, 1.31326169],\n       [1.69314718, 1.69314718],\n       [2.31326169, 2.31326169]])"
                    },
                    "metadata": {}
                }
            ]
        },
        {
            "metadata": {},
            "cell_type": "markdown",
            "source": "### BROADCASTING IN PRACTICE"
        },
        {
            "metadata": {},
            "cell_type": "markdown",
            "source": "#### Centering an array"
        },
        {
            "metadata": {},
            "cell_type": "code",
            "source": "X = np.random.random((10,3))",
            "execution_count": 18,
            "outputs": []
        },
        {
            "metadata": {},
            "cell_type": "code",
            "source": "Xmean = X.mean(0) ## finding the mean across columns\nXmean",
            "execution_count": 19,
            "outputs": [
                {
                    "output_type": "execute_result",
                    "execution_count": 19,
                    "data": {
                        "text/plain": "array([0.38250799, 0.45378627, 0.60743352])"
                    },
                    "metadata": {}
                }
            ]
        },
        {
            "metadata": {},
            "cell_type": "code",
            "source": "X_centered = X - Xmean",
            "execution_count": 20,
            "outputs": []
        },
        {
            "metadata": {},
            "cell_type": "code",
            "source": "X_centered_mean = X_centered.mean(0)",
            "execution_count": 21,
            "outputs": []
        },
        {
            "metadata": {},
            "cell_type": "markdown",
            "source": "### PLOTTING TWO DIMENSIONAL FUNCTIONS"
        },
        {
            "metadata": {},
            "cell_type": "code",
            "source": "# x and y have 50 steps from 0 to 5\nx = np.linspace(0,5,50)\ny = np.linspace(0,5,50)[:,np.newaxis]\nz = np.sin(x)**10 + np.cos(10+ y*x)*np.cos(x)",
            "execution_count": 22,
            "outputs": []
        },
        {
            "metadata": {},
            "cell_type": "code",
            "source": "%matplotlib inline\nimport matplotlib.pyplot as plt\nplt.imshow(z, origin = 'lower', extent = [0,5,0,5], cmap = 'viridis')\nplt.colorbar();",
            "execution_count": 25,
            "outputs": [
                {
                    "output_type": "display_data",
                    "data": {
                        "text/plain": "<Figure size 432x288 with 2 Axes>",
                        "image/png": "[encoded data removed]"
                    },
                    "metadata": {
                        "needs_background": "light"
                    }
                }
            ]
        },
        {
            "metadata": {},
            "cell_type": "markdown",
            "source": "## COMPARISONS, MASKS AND BOOLEAN LOGIC"
        },
        {
            "metadata": {},
            "cell_type": "markdown",
            "source": "### EXAMPLE: COUNTING RAINY DAYS"
        },
        {
            "metadata": {},
            "cell_type": "code",
            "source": "import numpy as np\nimport pandas as pd",
            "execution_count": 26,
            "outputs": []
        },
        {
            "metadata": {},
            "cell_type": "code",
            "source": "\nimport types\nimport pandas as pd\nfrom botocore.client import Config\nimport ibm_boto3\n\ndef __iter__(self): return 0\n\n# @hidden_cell\n# The following code accesses a file in your IBM Cloud Object Storage. It includes your credentials.\n# You might want to remove those credentials before you share the notebook.\nclient_e62b6c1bb76c4710b1d1cc5aeab9a929 = ibm_boto3.client(service_name='s3',\n    ibm_api_key_id='jrrJQsEKOGRWXFFklEuKojnR9F8od1xlka6pEowHgzxY',\n    ibm_auth_endpoint=\"https://iam.cloud.ibm.com/oidc/token\",\n    config=Config(signature_version='oauth'),\n    endpoint_url='https://s3-api.us-geo.objectstorage.service.networklayer.com')\n\nbody = client_e62b6c1bb76c4710b1d1cc5aeab9a929.get_object(Bucket='pythondatascience-donotdelete-pr-jl8wcvlzsg1qfd',Key='FIFA 19.csv')['Body']\n# add missing __iter__ method, so pandas accepts body as file-like object\nif not hasattr(body, \"__iter__\"): body.__iter__ = types.MethodType( __iter__, body )\n\ndf_data_1 = pd.read_csv(body)\ndf_data_1.head()\n",
            "execution_count": 27,
            "outputs": [
                {
                    "output_type": "execute_result",
                    "execution_count": 27,
                    "data": {
                        "text/plain": "   sofifa_id                                         player_url  \\\n0      20801  https://sofifa.com/player/20801/c-ronaldo-dos-...   \n1     158023  https://sofifa.com/player/158023/lionel-messi/...   \n2     190871  https://sofifa.com/player/190871/neymar-da-sil...   \n3     193080  https://sofifa.com/player/193080/david-de-gea-...   \n4     192985  https://sofifa.com/player/192985/kevin-de-bruy...   \n\n          short_name                            Full Name  age        dob  \\\n0  Cristiano Ronaldo  Cristiano Ronaldo dos Santos Aveiro   33   2/5/1985   \n1           L. Messi       Lionel Andr\u00e9s Messi Cuccittini   31  6/24/1987   \n2          Neymar Jr        Neymar da Silva Santos Junior   26   2/5/1992   \n3             De Gea                David De Gea Quintana   27  11/7/1990   \n4       K. De Bruyne                      Kevin De Bruyne   27  6/28/1991   \n\n   height_cm  weight_kg nationality                 club  ...   lwb   ldm  \\\n0        187         83    Portugal             Juventus  ...  65+3  61+3   \n1        170         72   Argentina         FC Barcelona  ...  63+2  61+2   \n2        175         68      Brazil  Paris Saint-Germain  ...  65+3  60+3   \n3        193         76       Spain    Manchester United  ...   NaN   NaN   \n4        181         70     Belgium      Manchester City  ...  77+3  77+3   \n\n    cdm   rdm   rwb    lb   lcb    cb   rcb    rb  \n0  61+3  61+3  65+3  61+3  53+3  53+3  53+3  61+3  \n1  61+2  61+2  63+2  58+2  47+2  47+2  47+2  58+2  \n2  60+3  60+3  65+3  60+3  47+3  47+3  47+3  60+3  \n3   NaN   NaN   NaN   NaN   NaN   NaN   NaN   NaN  \n4  77+3  77+3  77+3  73+3  66+3  66+3  66+3  73+3  \n\n[5 rows x 104 columns]",
                        "text/html": "<div>\n<style scoped>\n    .dataframe tbody tr th:only-of-type {\n        vertical-align: middle;\n    }\n\n    .dataframe tbody tr th {\n        vertical-align: top;\n    }\n\n    .dataframe thead th {\n        text-align: right;\n    }\n</style>\n<table border=\"1\" class=\"dataframe\">\n  <thead>\n    <tr style=\"text-align: right;\">\n      <th></th>\n      <th>sofifa_id</th>\n      <th>player_url</th>\n      <th>short_name</th>\n      <th>Full Name</th>\n      <th>age</th>\n      <th>dob</th>\n      <th>height_cm</th>\n      <th>weight_kg</th>\n      <th>nationality</th>\n      <th>club</th>\n      <th>...</th>\n      <th>lwb</th>\n      <th>ldm</th>\n      <th>cdm</th>\n      <th>rdm</th>\n      <th>rwb</th>\n      <th>lb</th>\n      <th>lcb</th>\n      <th>cb</th>\n      <th>rcb</th>\n      <th>rb</th>\n    </tr>\n  </thead>\n  <tbody>\n    <tr>\n      <th>0</th>\n      <td>20801</td>\n      <td>https://sofifa.com/player/20801/c-ronaldo-dos-...</td>\n      <td>Cristiano Ronaldo</td>\n      <td>Cristiano Ronaldo dos Santos Aveiro</td>\n      <td>33</td>\n      <td>2/5/1985</td>\n      <td>187</td>\n      <td>83</td>\n      <td>Portugal</td>\n      <td>Juventus</td>\n      <td>...</td>\n      <td>65+3</td>\n      <td>61+3</td>\n      <td>61+3</td>\n      <td>61+3</td>\n      <td>65+3</td>\n      <td>61+3</td>\n      <td>53+3</td>\n      <td>53+3</td>\n      <td>53+3</td>\n      <td>61+3</td>\n    </tr>\n    <tr>\n      <th>1</th>\n      <td>158023</td>\n      <td>https://sofifa.com/player/158023/lionel-messi/...</td>\n      <td>L. Messi</td>\n      <td>Lionel Andr\u00e9s Messi Cuccittini</td>\n      <td>31</td>\n      <td>6/24/1987</td>\n      <td>170</td>\n      <td>72</td>\n      <td>Argentina</td>\n      <td>FC Barcelona</td>\n      <td>...</td>\n      <td>63+2</td>\n      <td>61+2</td>\n      <td>61+2</td>\n      <td>61+2</td>\n      <td>63+2</td>\n      <td>58+2</td>\n      <td>47+2</td>\n      <td>47+2</td>\n      <td>47+2</td>\n      <td>58+2</td>\n    </tr>\n    <tr>\n      <th>2</th>\n      <td>190871</td>\n      <td>https://sofifa.com/player/190871/neymar-da-sil...</td>\n      <td>Neymar Jr</td>\n      <td>Neymar da Silva Santos Junior</td>\n      <td>26</td>\n      <td>2/5/1992</td>\n      <td>175</td>\n      <td>68</td>\n      <td>Brazil</td>\n      <td>Paris Saint-Germain</td>\n      <td>...</td>\n      <td>65+3</td>\n      <td>60+3</td>\n      <td>60+3</td>\n      <td>60+3</td>\n      <td>65+3</td>\n      <td>60+3</td>\n      <td>47+3</td>\n      <td>47+3</td>\n      <td>47+3</td>\n      <td>60+3</td>\n    </tr>\n    <tr>\n      <th>3</th>\n      <td>193080</td>\n      <td>https://sofifa.com/player/193080/david-de-gea-...</td>\n      <td>De Gea</td>\n      <td>David De Gea Quintana</td>\n      <td>27</td>\n      <td>11/7/1990</td>\n      <td>193</td>\n      <td>76</td>\n      <td>Spain</td>\n      <td>Manchester United</td>\n      <td>...</td>\n      <td>NaN</td>\n      <td>NaN</td>\n      <td>NaN</td>\n      <td>NaN</td>\n      <td>NaN</td>\n      <td>NaN</td>\n      <td>NaN</td>\n      <td>NaN</td>\n      <td>NaN</td>\n      <td>NaN</td>\n    </tr>\n    <tr>\n      <th>4</th>\n      <td>192985</td>\n      <td>https://sofifa.com/player/192985/kevin-de-bruy...</td>\n      <td>K. De Bruyne</td>\n      <td>Kevin De Bruyne</td>\n      <td>27</td>\n      <td>6/28/1991</td>\n      <td>181</td>\n      <td>70</td>\n      <td>Belgium</td>\n      <td>Manchester City</td>\n      <td>...</td>\n      <td>77+3</td>\n      <td>77+3</td>\n      <td>77+3</td>\n      <td>77+3</td>\n      <td>77+3</td>\n      <td>73+3</td>\n      <td>66+3</td>\n      <td>66+3</td>\n      <td>66+3</td>\n      <td>73+3</td>\n    </tr>\n  </tbody>\n</table>\n<p>5 rows \u00d7 104 columns</p>\n</div>"
                    },
                    "metadata": {}
                }
            ]
        },
        {
            "metadata": {},
            "cell_type": "code",
            "source": "df = df_data_1['overall'].values",
            "execution_count": 29,
            "outputs": []
        },
        {
            "metadata": {},
            "cell_type": "code",
            "source": "import seaborn; seaborn.set()  # set plot styles",
            "execution_count": 30,
            "outputs": []
        },
        {
            "metadata": {},
            "cell_type": "code",
            "source": "plt.hist(df, 10)",
            "execution_count": 31,
            "outputs": [
                {
                    "output_type": "execute_result",
                    "execution_count": 31,
                    "data": {
                        "text/plain": "(array([ 312., 1251., 2688., 3854., 4994., 3064., 1057.,  439.,   96.,\n          15.]),\n array([47. , 51.7, 56.4, 61.1, 65.8, 70.5, 75.2, 79.9, 84.6, 89.3, 94. ]),\n <a list of 10 Patch objects>)"
                    },
                    "metadata": {}
                },
                {
                    "output_type": "display_data",
                    "data": {
                        "text/plain": "<Figure size 432x288 with 1 Axes>",
                        "image/png": "[encoded data removed]"
                    },
                    "metadata": {}
                }
            ]
        },
        {
            "metadata": {},
            "cell_type": "markdown",
            "source": "### COMPARISON OPERATORS AS UFUNCS"
        },
        {
            "metadata": {},
            "cell_type": "code",
            "source": "x = np.array([1,2,3,4,5])",
            "execution_count": 32,
            "outputs": []
        },
        {
            "metadata": {},
            "cell_type": "code",
            "source": "x < 3",
            "execution_count": 33,
            "outputs": [
                {
                    "output_type": "execute_result",
                    "execution_count": 33,
                    "data": {
                        "text/plain": "array([ True,  True, False, False, False])"
                    },
                    "metadata": {}
                }
            ]
        },
        {
            "metadata": {},
            "cell_type": "code",
            "source": "x > 3",
            "execution_count": 34,
            "outputs": [
                {
                    "output_type": "execute_result",
                    "execution_count": 34,
                    "data": {
                        "text/plain": "array([False, False, False,  True,  True])"
                    },
                    "metadata": {}
                }
            ]
        },
        {
            "metadata": {},
            "cell_type": "code",
            "source": "x <= 3",
            "execution_count": 35,
            "outputs": [
                {
                    "output_type": "execute_result",
                    "execution_count": 35,
                    "data": {
                        "text/plain": "array([ True,  True,  True, False, False])"
                    },
                    "metadata": {}
                }
            ]
        },
        {
            "metadata": {},
            "cell_type": "code",
            "source": "x >= 3",
            "execution_count": 36,
            "outputs": [
                {
                    "output_type": "execute_result",
                    "execution_count": 36,
                    "data": {
                        "text/plain": "array([False, False,  True,  True,  True])"
                    },
                    "metadata": {}
                }
            ]
        },
        {
            "metadata": {},
            "cell_type": "code",
            "source": "x != 3",
            "execution_count": 37,
            "outputs": [
                {
                    "output_type": "execute_result",
                    "execution_count": 37,
                    "data": {
                        "text/plain": "array([ True,  True, False,  True,  True])"
                    },
                    "metadata": {}
                }
            ]
        },
        {
            "metadata": {},
            "cell_type": "code",
            "source": "(2 ** x) == (x ** 2)",
            "execution_count": 38,
            "outputs": [
                {
                    "output_type": "execute_result",
                    "execution_count": 38,
                    "data": {
                        "text/plain": "array([False,  True, False,  True, False])"
                    },
                    "metadata": {}
                }
            ]
        },
        {
            "metadata": {},
            "cell_type": "code",
            "source": "rng = np.random.RandomState(0)\nx = rng.randint(10, size = (3,4))\nx",
            "execution_count": 39,
            "outputs": [
                {
                    "output_type": "execute_result",
                    "execution_count": 39,
                    "data": {
                        "text/plain": "array([[5, 0, 3, 3],\n       [7, 9, 3, 5],\n       [2, 4, 7, 6]])"
                    },
                    "metadata": {}
                }
            ]
        },
        {
            "metadata": {},
            "cell_type": "code",
            "source": "x < 6",
            "execution_count": 40,
            "outputs": [
                {
                    "output_type": "execute_result",
                    "execution_count": 40,
                    "data": {
                        "text/plain": "array([[ True,  True,  True,  True],\n       [False, False,  True,  True],\n       [ True,  True, False, False]])"
                    },
                    "metadata": {}
                }
            ]
        },
        {
            "metadata": {},
            "cell_type": "markdown",
            "source": "### WORKING WITH BOOLEAN ARRAYS"
        },
        {
            "metadata": {},
            "cell_type": "code",
            "source": "print(x)",
            "execution_count": 41,
            "outputs": [
                {
                    "output_type": "stream",
                    "text": "[[5 0 3 3]\n [7 9 3 5]\n [2 4 7 6]]\n",
                    "name": "stdout"
                }
            ]
        },
        {
            "metadata": {},
            "cell_type": "markdown",
            "source": "#### COUNTING ENTRIES"
        },
        {
            "metadata": {},
            "cell_type": "code",
            "source": "np.count_nonzero(x < 6) # counting the nonzero values lesser than 6",
            "execution_count": 42,
            "outputs": [
                {
                    "output_type": "execute_result",
                    "execution_count": 42,
                    "data": {
                        "text/plain": "8"
                    },
                    "metadata": {}
                }
            ]
        },
        {
            "metadata": {},
            "cell_type": "code",
            "source": "np.sum(x < 6) # how many values are lesser than 6",
            "execution_count": 43,
            "outputs": [
                {
                    "output_type": "execute_result",
                    "execution_count": 43,
                    "data": {
                        "text/plain": "8"
                    },
                    "metadata": {}
                }
            ]
        },
        {
            "metadata": {},
            "cell_type": "code",
            "source": "np.sum(x < 6, axis = 1) # how many values are lesser than 6 by rows",
            "execution_count": 44,
            "outputs": [
                {
                    "output_type": "execute_result",
                    "execution_count": 44,
                    "data": {
                        "text/plain": "array([4, 2, 2])"
                    },
                    "metadata": {}
                }
            ]
        },
        {
            "metadata": {},
            "cell_type": "code",
            "source": "np.any(x > 8) # are there any values greater than 8",
            "execution_count": 45,
            "outputs": [
                {
                    "output_type": "execute_result",
                    "execution_count": 45,
                    "data": {
                        "text/plain": "True"
                    },
                    "metadata": {}
                }
            ]
        },
        {
            "metadata": {},
            "cell_type": "code",
            "source": "np.any(x < 0) # are there any values less than 0",
            "execution_count": 46,
            "outputs": [
                {
                    "output_type": "execute_result",
                    "execution_count": 46,
                    "data": {
                        "text/plain": "False"
                    },
                    "metadata": {}
                }
            ]
        },
        {
            "metadata": {},
            "cell_type": "code",
            "source": "np.all(x < 10) # are all values less than 10",
            "execution_count": 47,
            "outputs": [
                {
                    "output_type": "execute_result",
                    "execution_count": 47,
                    "data": {
                        "text/plain": "True"
                    },
                    "metadata": {}
                }
            ]
        },
        {
            "metadata": {},
            "cell_type": "code",
            "source": "np.all(x == 6) # are all values equal to 6",
            "execution_count": 48,
            "outputs": [
                {
                    "output_type": "execute_result",
                    "execution_count": 48,
                    "data": {
                        "text/plain": "False"
                    },
                    "metadata": {}
                }
            ]
        },
        {
            "metadata": {},
            "cell_type": "code",
            "source": "np.all(x < 8, axis = 1) # are all values lesser than 8 by rows",
            "execution_count": 50,
            "outputs": [
                {
                    "output_type": "execute_result",
                    "execution_count": 50,
                    "data": {
                        "text/plain": "array([ True, False,  True])"
                    },
                    "metadata": {}
                }
            ]
        },
        {
            "metadata": {},
            "cell_type": "markdown",
            "source": "#### BOOLEAN OPERATORS"
        },
        {
            "metadata": {},
            "cell_type": "code",
            "source": "np.sum((df < 90) & (df > 60))",
            "execution_count": 54,
            "outputs": [
                {
                    "output_type": "execute_result",
                    "execution_count": 54,
                    "data": {
                        "text/plain": "14210"
                    },
                    "metadata": {}
                }
            ]
        },
        {
            "metadata": {},
            "cell_type": "code",
            "source": "np.sum(~((df <= 60) | (df >= 90)))",
            "execution_count": 56,
            "outputs": [
                {
                    "output_type": "execute_result",
                    "execution_count": 56,
                    "data": {
                        "text/plain": "14210"
                    },
                    "metadata": {}
                }
            ]
        },
        {
            "metadata": {},
            "cell_type": "code",
            "source": "print(\"Number of players with ratings equal to 90:\", np.sum(df == 90))\nprint(\"Number of players with ratings greater than 90:\", np.sum(df > 90))",
            "execution_count": 58,
            "outputs": [
                {
                    "output_type": "stream",
                    "text": "Number of players with ratings equal to 90: 6\nNumber of players with ratings greater than 90: 9\n",
                    "name": "stdout"
                }
            ]
        },
        {
            "metadata": {},
            "cell_type": "markdown",
            "source": "#### BOOLEAN ARRAYS AS MASKS"
        },
        {
            "metadata": {},
            "cell_type": "code",
            "source": "x",
            "execution_count": 59,
            "outputs": [
                {
                    "output_type": "execute_result",
                    "execution_count": 59,
                    "data": {
                        "text/plain": "array([[5, 0, 3, 3],\n       [7, 9, 3, 5],\n       [2, 4, 7, 6]])"
                    },
                    "metadata": {}
                }
            ]
        },
        {
            "metadata": {},
            "cell_type": "code",
            "source": "x < 5",
            "execution_count": 60,
            "outputs": [
                {
                    "output_type": "execute_result",
                    "execution_count": 60,
                    "data": {
                        "text/plain": "array([[False,  True,  True,  True],\n       [False, False,  True, False],\n       [ True,  True, False, False]])"
                    },
                    "metadata": {}
                }
            ]
        },
        {
            "metadata": {},
            "cell_type": "code",
            "source": "x[x < 5]",
            "execution_count": 61,
            "outputs": [
                {
                    "output_type": "execute_result",
                    "execution_count": 61,
                    "data": {
                        "text/plain": "array([0, 3, 3, 3, 2, 4])"
                    },
                    "metadata": {}
                }
            ]
        },
        {
            "metadata": {},
            "cell_type": "code",
            "source": "# constructing a mask for footballers' ratings greater than 80\ndf_foot = (df >= 80)\ndf_foot2 = ((df < 88) & (df > 82))\nprint(\"Median ratings for players with 80+ ratings:\", np.median(df[df_foot]))\nprint(\"Median ratings for players with ratings between 82 and 88:\", np.median(df[df_foot2]))\nprint(\"Max rating of all players:\", np.max(df[df_foot]))\nprint(\"Median ratings for players with ratings greater than 80 but not within 82 and 88:\", np.median(df[df_foot & ~df_foot2]))",
            "execution_count": 65,
            "outputs": [
                {
                    "output_type": "stream",
                    "text": "Median ratings for players with 80+ ratings: 82.0\nMedian ratings for players with ratings between 82 and 88: 84.0\nMax rating of all players: 94\nMedian ratings for players with ratings greater than 80 but not within 82 and 88: 81.0\n",
                    "name": "stdout"
                }
            ]
        },
        {
            "metadata": {},
            "cell_type": "markdown",
            "source": "### ASIDE USING THE KEYWORDS AND/OR VERSUS THE OPERATORS &/|"
        },
        {
            "metadata": {},
            "cell_type": "code",
            "source": "bool(42),bool(0)",
            "execution_count": 66,
            "outputs": [
                {
                    "output_type": "execute_result",
                    "execution_count": 66,
                    "data": {
                        "text/plain": "(True, False)"
                    },
                    "metadata": {}
                }
            ]
        },
        {
            "metadata": {},
            "cell_type": "code",
            "source": "bool(42 and 0)",
            "execution_count": 67,
            "outputs": [
                {
                    "output_type": "execute_result",
                    "execution_count": 67,
                    "data": {
                        "text/plain": "False"
                    },
                    "metadata": {}
                }
            ]
        },
        {
            "metadata": {},
            "cell_type": "code",
            "source": "bool(42 or 0)",
            "execution_count": 68,
            "outputs": [
                {
                    "output_type": "execute_result",
                    "execution_count": 68,
                    "data": {
                        "text/plain": "True"
                    },
                    "metadata": {}
                }
            ]
        },
        {
            "metadata": {},
            "cell_type": "code",
            "source": "bin(42) ## when & or | is used, the bits of the numbers are expressed",
            "execution_count": 69,
            "outputs": [
                {
                    "output_type": "execute_result",
                    "execution_count": 69,
                    "data": {
                        "text/plain": "'0b101010'"
                    },
                    "metadata": {}
                }
            ]
        },
        {
            "metadata": {},
            "cell_type": "code",
            "source": "bin(59)",
            "execution_count": 70,
            "outputs": [
                {
                    "output_type": "execute_result",
                    "execution_count": 70,
                    "data": {
                        "text/plain": "'0b111011'"
                    },
                    "metadata": {}
                }
            ]
        },
        {
            "metadata": {},
            "cell_type": "code",
            "source": "bin(42 & 59)",
            "execution_count": 71,
            "outputs": [
                {
                    "output_type": "execute_result",
                    "execution_count": 71,
                    "data": {
                        "text/plain": "'0b101010'"
                    },
                    "metadata": {}
                }
            ]
        },
        {
            "metadata": {},
            "cell_type": "code",
            "source": "bin(42|59)",
            "execution_count": 72,
            "outputs": [
                {
                    "output_type": "execute_result",
                    "execution_count": 72,
                    "data": {
                        "text/plain": "'0b111011'"
                    },
                    "metadata": {}
                }
            ]
        },
        {
            "metadata": {},
            "cell_type": "code",
            "source": "A = np.array([1, 0, 1, 0, 1, 0], dtype=bool)\nB = np.array([1, 1, 1, 0, 1, 1], dtype=bool)\nA | B",
            "execution_count": 73,
            "outputs": [
                {
                    "output_type": "execute_result",
                    "execution_count": 73,
                    "data": {
                        "text/plain": "array([ True,  True,  True, False,  True,  True])"
                    },
                    "metadata": {}
                }
            ]
        },
        {
            "metadata": {},
            "cell_type": "code",
            "source": "x = np.arange(10)\n(x > 4) & (x < 8)",
            "execution_count": 75,
            "outputs": [
                {
                    "output_type": "execute_result",
                    "execution_count": 75,
                    "data": {
                        "text/plain": "array([False, False, False, False, False,  True,  True,  True, False,\n       False])"
                    },
                    "metadata": {}
                }
            ]
        },
        {
            "metadata": {},
            "cell_type": "markdown",
            "source": "## EXPLORING FANCY INDEXING"
        },
        {
            "metadata": {},
            "cell_type": "code",
            "source": "import numpy as np\nrand = np.random.RandomState(42)\nx = rand.randint(100, size = 10)\nprint(x)",
            "execution_count": 77,
            "outputs": [
                {
                    "output_type": "stream",
                    "text": "[51 92 14 71 60 20 82 86 74 74]\n",
                    "name": "stdout"
                }
            ]
        },
        {
            "metadata": {},
            "cell_type": "code",
            "source": "[x[3],x[7],x[2]]",
            "execution_count": 78,
            "outputs": [
                {
                    "output_type": "execute_result",
                    "execution_count": 78,
                    "data": {
                        "text/plain": "[71, 86, 14]"
                    },
                    "metadata": {}
                }
            ]
        },
        {
            "metadata": {},
            "cell_type": "code",
            "source": "ind = [3,7,4]\nx[ind]",
            "execution_count": 79,
            "outputs": [
                {
                    "output_type": "execute_result",
                    "execution_count": 79,
                    "data": {
                        "text/plain": "array([71, 86, 60])"
                    },
                    "metadata": {}
                }
            ]
        },
        {
            "metadata": {},
            "cell_type": "code",
            "source": "ind = np.array([[3,7],[4,5]])\nx[ind]",
            "execution_count": 81,
            "outputs": [
                {
                    "output_type": "execute_result",
                    "execution_count": 81,
                    "data": {
                        "text/plain": "array([[71, 86],\n       [60, 20]])"
                    },
                    "metadata": {}
                }
            ]
        },
        {
            "metadata": {},
            "cell_type": "code",
            "source": "X = np.arange(12).reshape(3,4)\nX",
            "execution_count": 96,
            "outputs": [
                {
                    "output_type": "execute_result",
                    "execution_count": 96,
                    "data": {
                        "text/plain": "array([[ 0,  1,  2,  3],\n       [ 4,  5,  6,  7],\n       [ 8,  9, 10, 11]])"
                    },
                    "metadata": {}
                }
            ]
        },
        {
            "metadata": {},
            "cell_type": "code",
            "source": "row = np.array([0,1,2])\ncol = np.array([2,1,3])\nX[row,col]",
            "execution_count": 83,
            "outputs": [
                {
                    "output_type": "execute_result",
                    "execution_count": 83,
                    "data": {
                        "text/plain": "array([ 2,  5, 11])"
                    },
                    "metadata": {}
                }
            ]
        },
        {
            "metadata": {},
            "cell_type": "code",
            "source": "X[row[:,np.newaxis],col]",
            "execution_count": 84,
            "outputs": [
                {
                    "output_type": "execute_result",
                    "execution_count": 84,
                    "data": {
                        "text/plain": "array([[ 2,  1,  3],\n       [ 6,  5,  7],\n       [10,  9, 11]])"
                    },
                    "metadata": {}
                }
            ]
        },
        {
            "metadata": {},
            "cell_type": "code",
            "source": "row[:,np.newaxis]*col",
            "execution_count": 85,
            "outputs": [
                {
                    "output_type": "execute_result",
                    "execution_count": 85,
                    "data": {
                        "text/plain": "array([[0, 0, 0],\n       [2, 1, 3],\n       [4, 2, 6]])"
                    },
                    "metadata": {}
                }
            ]
        },
        {
            "metadata": {},
            "cell_type": "markdown",
            "source": "### COMBINED INDEXING"
        },
        {
            "metadata": {},
            "cell_type": "code",
            "source": "print(X)",
            "execution_count": 86,
            "outputs": [
                {
                    "output_type": "stream",
                    "text": "[[ 0  1  2  3]\n [ 4  5  6  7]\n [ 8  9 10 11]]\n",
                    "name": "stdout"
                }
            ]
        },
        {
            "metadata": {},
            "cell_type": "code",
            "source": "X[2, [2, 0, 1]]",
            "execution_count": 87,
            "outputs": [
                {
                    "output_type": "execute_result",
                    "execution_count": 87,
                    "data": {
                        "text/plain": "array([10,  8,  9])"
                    },
                    "metadata": {}
                }
            ]
        },
        {
            "metadata": {},
            "cell_type": "code",
            "source": "X[1:, [2, 0, 1]]",
            "execution_count": 98,
            "outputs": [
                {
                    "output_type": "execute_result",
                    "execution_count": 98,
                    "data": {
                        "text/plain": "array([[ 6,  4,  5],\n       [10,  8,  9]])"
                    },
                    "metadata": {}
                }
            ]
        },
        {
            "metadata": {},
            "cell_type": "code",
            "source": "mask = np.array([1,0,1,0], dtype = bool)\nX[row[:, np.newaxis], mask]",
            "execution_count": 90,
            "outputs": [
                {
                    "output_type": "execute_result",
                    "execution_count": 90,
                    "data": {
                        "text/plain": "array([[ 0,  2],\n       [ 4,  6],\n       [ 8, 10]])"
                    },
                    "metadata": {}
                }
            ]
        },
        {
            "metadata": {},
            "cell_type": "markdown",
            "source": "#### Example: Selecting Data Points"
        },
        {
            "metadata": {},
            "cell_type": "code",
            "source": "mean = [0, 0]\ncov = [[1, 2],\n       [2, 5]]\nX = rand.multivariate_normal(mean, cov, 100)\nX.shape",
            "execution_count": 106,
            "outputs": [
                {
                    "output_type": "execute_result",
                    "execution_count": 106,
                    "data": {
                        "text/plain": "(100, 2)"
                    },
                    "metadata": {}
                }
            ]
        },
        {
            "metadata": {},
            "cell_type": "code",
            "source": "plt.scatter(X[:, 0], X[:, 1]);",
            "execution_count": 107,
            "outputs": [
                {
                    "output_type": "display_data",
                    "data": {
                        "text/plain": "<Figure size 432x288 with 1 Axes>",
                        "image/png": "[encoded data removed]"
                    },
                    "metadata": {}
                }
            ]
        },
        {
            "metadata": {},
            "cell_type": "code",
            "source": "indices = np.random.choice(X.shape[0],20, replace = True)\nindices",
            "execution_count": 108,
            "outputs": [
                {
                    "output_type": "execute_result",
                    "execution_count": 108,
                    "data": {
                        "text/plain": "array([61, 47, 44, 98, 16, 17, 20, 36, 78, 75, 26, 41, 61, 94, 45, 71, 28,\n       48, 74, 49])"
                    },
                    "metadata": {}
                }
            ]
        },
        {
            "metadata": {},
            "cell_type": "code",
            "source": "selection = X[indices]\nselection.shape",
            "execution_count": 109,
            "outputs": [
                {
                    "output_type": "execute_result",
                    "execution_count": 109,
                    "data": {
                        "text/plain": "(20, 2)"
                    },
                    "metadata": {}
                }
            ]
        },
        {
            "metadata": {},
            "cell_type": "code",
            "source": "plt.scatter(X[:, 0], X[:, 1], alpha=0.3)\nplt.scatter(selection[:, 0], selection[:, 1],\n            facecolor='none', s=200);",
            "execution_count": 110,
            "outputs": [
                {
                    "output_type": "display_data",
                    "data": {
                        "text/plain": "<Figure size 432x288 with 1 Axes>",
                        "image/png": "[encoded data removed]"
                    },
                    "metadata": {}
                }
            ]
        },
        {
            "metadata": {},
            "cell_type": "markdown",
            "source": "#### Modifying values with Fancy Indexing"
        },
        {
            "metadata": {},
            "cell_type": "code",
            "source": "x = np.arange(10)\ni = np.array([2,1,8,4])\nx[i] = 99\nprint(x)",
            "execution_count": 111,
            "outputs": [
                {
                    "output_type": "stream",
                    "text": "[ 0 99 99  3 99  5  6  7 99  9]\n",
                    "name": "stdout"
                }
            ]
        },
        {
            "metadata": {},
            "cell_type": "code",
            "source": "x[i] -= 10\nprint(x)",
            "execution_count": 112,
            "outputs": [
                {
                    "output_type": "stream",
                    "text": "[ 0 89 89  3 89  5  6  7 89  9]\n",
                    "name": "stdout"
                }
            ]
        },
        {
            "metadata": {},
            "cell_type": "code",
            "source": "x = np.zeros(10)\nx[[0,0]] = [4,6]\nprint(x)",
            "execution_count": 113,
            "outputs": [
                {
                    "output_type": "stream",
                    "text": "[6. 0. 0. 0. 0. 0. 0. 0. 0. 0.]\n",
                    "name": "stdout"
                }
            ]
        },
        {
            "metadata": {},
            "cell_type": "code",
            "source": "i = [2, 3, 3, 4, 4, 4]\nx[i] += 1\nx",
            "execution_count": 114,
            "outputs": [
                {
                    "output_type": "execute_result",
                    "execution_count": 114,
                    "data": {
                        "text/plain": "array([6., 0., 1., 1., 1., 0., 0., 0., 0., 0.])"
                    },
                    "metadata": {}
                }
            ]
        },
        {
            "metadata": {},
            "cell_type": "code",
            "source": "x = np.zeros(10)\nnp.add.at(x, i, 1)\nprint(x)",
            "execution_count": 115,
            "outputs": [
                {
                    "output_type": "stream",
                    "text": "[0. 0. 1. 2. 3. 0. 0. 0. 0. 0.]\n",
                    "name": "stdout"
                }
            ]
        },
        {
            "metadata": {},
            "cell_type": "markdown",
            "source": "#### Example: Bining Data"
        },
        {
            "metadata": {},
            "cell_type": "code",
            "source": "np.random.seed(42)\nx = np.random.randn(100)\n\n# compute a histogram by hand\nbins = np.linspace(-5, 5, 20)\ncounts = np.zeros_like(bins)\n\n# find the appropriate bin for each x\ni = np.searchsorted(bins, x)\n\n# add 1 to each of these bins\nnp.add.at(counts, i, 1)",
            "execution_count": 116,
            "outputs": []
        },
        {
            "metadata": {},
            "cell_type": "code",
            "source": "# plot the results\nplt.plot(bins, counts, linestyle='steps');",
            "execution_count": 118,
            "outputs": [
                {
                    "output_type": "display_data",
                    "data": {
                        "text/plain": "<Figure size 432x288 with 1 Axes>",
                        "image/png": "[encoded data removed]"
                    },
                    "metadata": {}
                }
            ]
        },
        {
            "metadata": {},
            "cell_type": "code",
            "source": "plt.hist(x, bins, histtype='step');",
            "execution_count": 119,
            "outputs": [
                {
                    "output_type": "display_data",
                    "data": {
                        "text/plain": "<Figure size 432x288 with 1 Axes>",
                        "image/png": "[encoded data removed]"
                    },
                    "metadata": {}
                }
            ]
        },
        {
            "metadata": {},
            "cell_type": "code",
            "source": "print(\"NumPy routine:\")\n%timeit counts, edges = np.histogram(x, bins)\n\nprint(\"Custom routine:\")\n%timeit np.add.at(counts, np.searchsorted(bins, x), 1)",
            "execution_count": 120,
            "outputs": [
                {
                    "output_type": "stream",
                    "text": "NumPy routine:\n29.3 \u00b5s \u00b1 642 ns per loop (mean \u00b1 std. dev. of 7 runs, 10000 loops each)\nCustom routine:\n15.8 \u00b5s \u00b1 533 ns per loop (mean \u00b1 std. dev. of 7 runs, 100000 loops each)\n",
                    "name": "stdout"
                }
            ]
        },
        {
            "metadata": {},
            "cell_type": "code",
            "source": "x = np.random.randn(1000000)\nprint(\"NumPy routine:\")\n%timeit counts, edges = np.histogram(x, bins)\n\nprint(\"Custom routine:\")\n%timeit np.add.at(counts, np.searchsorted(bins, x), 1)",
            "execution_count": 121,
            "outputs": [
                {
                    "output_type": "stream",
                    "text": "NumPy routine:\n78.2 ms \u00b1 1.77 ms per loop (mean \u00b1 std. dev. of 7 runs, 10 loops each)\nCustom routine:\n124 ms \u00b1 2.41 ms per loop (mean \u00b1 std. dev. of 7 runs, 10 loops each)\n",
                    "name": "stdout"
                }
            ]
        },
        {
            "metadata": {},
            "cell_type": "markdown",
            "source": "## SORTING ARRAYS"
        },
        {
            "metadata": {},
            "cell_type": "code",
            "source": "def selection_sort(x):\n    for i in range(len(x)):\n        swap = i + np.argmin(x[i:])\n        (x[i], x[swap]) = (x[swap], x[i])\n    return x",
            "execution_count": 122,
            "outputs": []
        },
        {
            "metadata": {},
            "cell_type": "code",
            "source": "x = np.array([2, 1, 4, 3, 5])\nselection_sort(x)",
            "execution_count": 123,
            "outputs": [
                {
                    "output_type": "execute_result",
                    "execution_count": 123,
                    "data": {
                        "text/plain": "array([1, 2, 3, 4, 5])"
                    },
                    "metadata": {}
                }
            ]
        },
        {
            "metadata": {},
            "cell_type": "code",
            "source": "def bogosort(x):\n    while np.any(x[:-1] > x[1:]):\n        np.random.shuffle(x)\n    return x",
            "execution_count": 124,
            "outputs": []
        },
        {
            "metadata": {},
            "cell_type": "code",
            "source": "x = np.array([2, 1, 4, 3, 5])\nbogosort(x)",
            "execution_count": 125,
            "outputs": [
                {
                    "output_type": "execute_result",
                    "execution_count": 125,
                    "data": {
                        "text/plain": "array([1, 2, 3, 4, 5])"
                    },
                    "metadata": {}
                }
            ]
        },
        {
            "metadata": {},
            "cell_type": "markdown",
            "source": "### Fast sorting in NumPy: np.sort and np.agsort"
        },
        {
            "metadata": {},
            "cell_type": "code",
            "source": "np.sort(x)",
            "execution_count": 126,
            "outputs": [
                {
                    "output_type": "execute_result",
                    "execution_count": 126,
                    "data": {
                        "text/plain": "array([1, 2, 3, 4, 5])"
                    },
                    "metadata": {}
                }
            ]
        },
        {
            "metadata": {},
            "cell_type": "code",
            "source": "x.sort()\nprint(x)",
            "execution_count": 128,
            "outputs": [
                {
                    "output_type": "stream",
                    "text": "[1 2 3 4 5]\n",
                    "name": "stdout"
                }
            ]
        },
        {
            "metadata": {},
            "cell_type": "code",
            "source": "x = np.array([2, 1, 4, 3, 5])\ni = np.argsort(x) ## argsort returns the indices\nprint(i)",
            "execution_count": 129,
            "outputs": [
                {
                    "output_type": "stream",
                    "text": "[1 0 3 2 4]\n",
                    "name": "stdout"
                }
            ]
        },
        {
            "metadata": {},
            "cell_type": "code",
            "source": "x[i]",
            "execution_count": 130,
            "outputs": [
                {
                    "output_type": "execute_result",
                    "execution_count": 130,
                    "data": {
                        "text/plain": "array([1, 2, 3, 4, 5])"
                    },
                    "metadata": {}
                }
            ]
        },
        {
            "metadata": {},
            "cell_type": "markdown",
            "source": "#### Sorting along rows and columns"
        },
        {
            "metadata": {},
            "cell_type": "code",
            "source": "rand = np.random.RandomState(42)\nX = rand.randint(0, 10, (4, 6))\nprint(X)",
            "execution_count": 131,
            "outputs": [
                {
                    "output_type": "stream",
                    "text": "[[6 3 7 4 6 9]\n [2 6 7 4 3 7]\n [7 2 5 4 1 7]\n [5 1 4 0 9 5]]\n",
                    "name": "stdout"
                }
            ]
        },
        {
            "metadata": {},
            "cell_type": "code",
            "source": "# sort each column of X\nnp.sort(X, axis =0)",
            "execution_count": 132,
            "outputs": [
                {
                    "output_type": "execute_result",
                    "execution_count": 132,
                    "data": {
                        "text/plain": "array([[2, 1, 4, 0, 1, 5],\n       [5, 2, 5, 4, 3, 7],\n       [6, 3, 7, 4, 6, 7],\n       [7, 6, 7, 4, 9, 9]])"
                    },
                    "metadata": {}
                }
            ]
        },
        {
            "metadata": {},
            "cell_type": "code",
            "source": "np.sort(X, axis = 1)",
            "execution_count": 133,
            "outputs": [
                {
                    "output_type": "execute_result",
                    "execution_count": 133,
                    "data": {
                        "text/plain": "array([[3, 4, 6, 6, 7, 9],\n       [2, 3, 4, 6, 7, 7],\n       [1, 2, 4, 5, 7, 7],\n       [0, 1, 4, 5, 5, 9]])"
                    },
                    "metadata": {}
                }
            ]
        },
        {
            "metadata": {},
            "cell_type": "markdown",
            "source": "### Partial Sorts: Partitioning"
        },
        {
            "metadata": {},
            "cell_type": "code",
            "source": "x = np.array([7, 2, 3, 1, 6, 5, 4])\nnp.partition(x, 3)",
            "execution_count": 134,
            "outputs": [
                {
                    "output_type": "execute_result",
                    "execution_count": 134,
                    "data": {
                        "text/plain": "array([2, 1, 3, 4, 6, 5, 7])"
                    },
                    "metadata": {}
                }
            ]
        },
        {
            "metadata": {},
            "cell_type": "code",
            "source": "np.partition(X, 2,axis = 1)",
            "execution_count": 135,
            "outputs": [
                {
                    "output_type": "execute_result",
                    "execution_count": 135,
                    "data": {
                        "text/plain": "array([[3, 4, 6, 7, 6, 9],\n       [2, 3, 4, 7, 6, 7],\n       [1, 2, 4, 5, 7, 7],\n       [0, 1, 4, 5, 9, 5]])"
                    },
                    "metadata": {}
                }
            ]
        },
        {
            "metadata": {},
            "cell_type": "code",
            "source": "np.argpartition(x,2) ## argpartition like argsort but it outputs indices",
            "execution_count": 136,
            "outputs": [
                {
                    "output_type": "execute_result",
                    "execution_count": 136,
                    "data": {
                        "text/plain": "array([3, 1, 2, 0, 4, 5, 6])"
                    },
                    "metadata": {}
                }
            ]
        },
        {
            "metadata": {},
            "cell_type": "markdown",
            "source": "### Example : K-Nearest Neighbors"
        },
        {
            "metadata": {},
            "cell_type": "code",
            "source": "X = rand.rand(10,2)",
            "execution_count": 138,
            "outputs": []
        },
        {
            "metadata": {},
            "cell_type": "code",
            "source": "plt.scatter(X[:, 0], X[:, 1], s=100);",
            "execution_count": 139,
            "outputs": [
                {
                    "output_type": "display_data",
                    "data": {
                        "text/plain": "<Figure size 432x288 with 1 Axes>",
                        "image/png": "[encoded data removed]"
                    },
                    "metadata": {}
                }
            ]
        },
        {
            "metadata": {},
            "cell_type": "code",
            "source": "dist_sq = np.sum((X[:, np.newaxis, :] - X[np.newaxis, :, :]) ** 2, axis=-1)",
            "execution_count": 140,
            "outputs": []
        },
        {
            "metadata": {},
            "cell_type": "code",
            "source": "# for each pair of points, compute differences in their coordinates\ndifferences = X[:, np.newaxis, :] - X[np.newaxis, :, :]\ndifferences.shape",
            "execution_count": 141,
            "outputs": [
                {
                    "output_type": "execute_result",
                    "execution_count": 141,
                    "data": {
                        "text/plain": "(10, 10, 2)"
                    },
                    "metadata": {}
                }
            ]
        },
        {
            "metadata": {},
            "cell_type": "code",
            "source": "sq_differences = differences ** 2\nsq_differences.shape",
            "execution_count": 143,
            "outputs": [
                {
                    "output_type": "execute_result",
                    "execution_count": 143,
                    "data": {
                        "text/plain": "(10, 10, 2)"
                    },
                    "metadata": {}
                }
            ]
        },
        {
            "metadata": {},
            "cell_type": "code",
            "source": "# sum the coordinate differences to get the squared distance\ndist_sq = sq_differences.sum(-1)\ndist_sq.shape",
            "execution_count": 144,
            "outputs": [
                {
                    "output_type": "execute_result",
                    "execution_count": 144,
                    "data": {
                        "text/plain": "(10, 10)"
                    },
                    "metadata": {}
                }
            ]
        },
        {
            "metadata": {},
            "cell_type": "code",
            "source": "dist_sq.diagonal()",
            "execution_count": 145,
            "outputs": [
                {
                    "output_type": "execute_result",
                    "execution_count": 145,
                    "data": {
                        "text/plain": "array([0., 0., 0., 0., 0., 0., 0., 0., 0., 0.])"
                    },
                    "metadata": {}
                }
            ]
        },
        {
            "metadata": {},
            "cell_type": "code",
            "source": "nearest = np.argsort(dist_sq, axis=1)\nprint(nearest)",
            "execution_count": 146,
            "outputs": [
                {
                    "output_type": "stream",
                    "text": "[[0 3 9 1 7 6 8 2 4 5]\n [1 3 6 0 9 7 8 5 2 4]\n [2 4 8 5 7 9 6 0 3 1]\n [3 0 1 9 6 7 8 2 4 5]\n [4 2 8 5 7 9 6 0 3 1]\n [5 8 4 2 9 6 7 1 3 0]\n [6 1 9 3 0 7 8 5 2 4]\n [7 9 0 3 2 8 6 4 1 5]\n [8 4 5 2 9 7 6 0 3 1]\n [9 6 0 3 7 1 8 2 4 5]]\n",
                    "name": "stdout"
                }
            ]
        },
        {
            "metadata": {},
            "cell_type": "code",
            "source": "K = 2\nnearest_partition = np.argpartition(dist_sq, K + 1, axis=1)",
            "execution_count": 147,
            "outputs": []
        },
        {
            "metadata": {},
            "cell_type": "code",
            "source": "plt.scatter(X[:, 0], X[:, 1], s=100)\n\n# draw lines from each point to its two nearest neighbors\nK = 2\n\nfor i in range(X.shape[0]):\n    for j in nearest_partition[i, :K+1]:\n        # plot a line from X[i] to X[j]\n        # use some zip magic to make it happen:\n        plt.plot(*zip(X[j], X[i]), color='black')",
            "execution_count": 148,
            "outputs": [
                {
                    "output_type": "display_data",
                    "data": {
                        "text/plain": "<Figure size 432x288 with 1 Axes>",
                        "image/png": "[encoded data removed]"
                    },
                    "metadata": {}
                }
            ]
        },
        {
            "metadata": {},
            "cell_type": "markdown",
            "source": "## STRUCTURED DATA: NUMPY's STRUCTURED ARRAYS"
        },
        {
            "metadata": {},
            "cell_type": "code",
            "source": "name = ['Alice', 'Bob', 'Cathy', 'Doug']\nage = [25, 45, 37, 19]\nweight = [55.0, 85.5, 68.0, 61.5]",
            "execution_count": 149,
            "outputs": []
        },
        {
            "metadata": {},
            "cell_type": "code",
            "source": "x = np.zeros(4, dtype = int)",
            "execution_count": 150,
            "outputs": []
        },
        {
            "metadata": {},
            "cell_type": "code",
            "source": "data = np.zeros(4, dtype = {\"names\": ('name', 'age', 'weight'),\n                            \"formats\": ('U10','i4', 'f8')})\nprint(data.dtype)",
            "execution_count": 151,
            "outputs": [
                {
                    "output_type": "stream",
                    "text": "[('name', '<U10'), ('age', '<i4'), ('weight', '<f8')]\n",
                    "name": "stdout"
                }
            ]
        },
        {
            "metadata": {},
            "cell_type": "code",
            "source": "data['name'] = name\ndata['age'] = age\ndata['weight'] = weight\nprint(data)",
            "execution_count": 152,
            "outputs": [
                {
                    "output_type": "stream",
                    "text": "[('Alice', 25, 55. ) ('Bob', 45, 85.5) ('Cathy', 37, 68. )\n ('Doug', 19, 61.5)]\n",
                    "name": "stdout"
                }
            ]
        },
        {
            "metadata": {},
            "cell_type": "code",
            "source": "# Get all names\ndata['name']",
            "execution_count": 153,
            "outputs": [
                {
                    "output_type": "execute_result",
                    "execution_count": 153,
                    "data": {
                        "text/plain": "array(['Alice', 'Bob', 'Cathy', 'Doug'], dtype='<U10')"
                    },
                    "metadata": {}
                }
            ]
        },
        {
            "metadata": {},
            "cell_type": "code",
            "source": "# Get first row of data\ndata[0]",
            "execution_count": 154,
            "outputs": [
                {
                    "output_type": "execute_result",
                    "execution_count": 154,
                    "data": {
                        "text/plain": "('Alice', 25, 55.)"
                    },
                    "metadata": {}
                }
            ]
        },
        {
            "metadata": {},
            "cell_type": "code",
            "source": "# Get the name from the last row\ndata[-1]['name']",
            "execution_count": 155,
            "outputs": [
                {
                    "output_type": "execute_result",
                    "execution_count": 155,
                    "data": {
                        "text/plain": "'Doug'"
                    },
                    "metadata": {}
                }
            ]
        },
        {
            "metadata": {},
            "cell_type": "code",
            "source": "# Get names where age is under 30\ndata[data['age'] < 30]['name']",
            "execution_count": 156,
            "outputs": [
                {
                    "output_type": "execute_result",
                    "execution_count": 156,
                    "data": {
                        "text/plain": "array(['Alice', 'Doug'], dtype='<U10')"
                    },
                    "metadata": {}
                }
            ]
        },
        {
            "metadata": {},
            "cell_type": "markdown",
            "source": "### Creating Structured Arrays"
        },
        {
            "metadata": {},
            "cell_type": "code",
            "source": "np.dtype({'names':('name', 'age', 'weight'),\n          'formats':('U10', 'i4', 'f8')})",
            "execution_count": 157,
            "outputs": [
                {
                    "output_type": "execute_result",
                    "execution_count": 157,
                    "data": {
                        "text/plain": "dtype([('name', '<U10'), ('age', '<i4'), ('weight', '<f8')])"
                    },
                    "metadata": {}
                }
            ]
        },
        {
            "metadata": {},
            "cell_type": "code",
            "source": "np.dtype({'names':('name', 'age', 'weight'),\n          'formats':((np.str_, 10), int, np.float32)})",
            "execution_count": 158,
            "outputs": [
                {
                    "output_type": "execute_result",
                    "execution_count": 158,
                    "data": {
                        "text/plain": "dtype([('name', '<U10'), ('age', '<i8'), ('weight', '<f4')])"
                    },
                    "metadata": {}
                }
            ]
        },
        {
            "metadata": {},
            "cell_type": "code",
            "source": "np.dtype([('name','S10'), ('age', 'i4'), ('weight', 'f8')])",
            "execution_count": 159,
            "outputs": [
                {
                    "output_type": "execute_result",
                    "execution_count": 159,
                    "data": {
                        "text/plain": "dtype([('name', 'S10'), ('age', '<i4'), ('weight', '<f8')])"
                    },
                    "metadata": {}
                }
            ]
        },
        {
            "metadata": {},
            "cell_type": "code",
            "source": "np.dtype('S10,i4,f8')",
            "execution_count": 160,
            "outputs": [
                {
                    "output_type": "execute_result",
                    "execution_count": 160,
                    "data": {
                        "text/plain": "dtype([('f0', 'S10'), ('f1', '<i4'), ('f2', '<f8')])"
                    },
                    "metadata": {}
                }
            ]
        },
        {
            "metadata": {},
            "cell_type": "markdown",
            "source": "### More Advanced Compound Arrays"
        },
        {
            "metadata": {},
            "cell_type": "code",
            "source": "tp = np.dtype([('id', 'i8'), ('mat', 'f8', (3, 3))])\nX = np.zeros(1, dtype=tp)\nprint(X[0])\nprint(X['mat'][0])",
            "execution_count": 161,
            "outputs": [
                {
                    "output_type": "stream",
                    "text": "(0, [[0., 0., 0.], [0., 0., 0.], [0., 0., 0.]])\n[[0. 0. 0.]\n [0. 0. 0.]\n [0. 0. 0.]]\n",
                    "name": "stdout"
                }
            ]
        },
        {
            "metadata": {},
            "cell_type": "markdown",
            "source": "### Record Arrays: Structured Arrays with a Twist"
        },
        {
            "metadata": {},
            "cell_type": "code",
            "source": "data['age']",
            "execution_count": 162,
            "outputs": [
                {
                    "output_type": "execute_result",
                    "execution_count": 162,
                    "data": {
                        "text/plain": "array([25, 45, 37, 19], dtype=int32)"
                    },
                    "metadata": {}
                }
            ]
        },
        {
            "metadata": {},
            "cell_type": "code",
            "source": "data_rec = data.view(np.recarray)\ndata_rec.age",
            "execution_count": 163,
            "outputs": [
                {
                    "output_type": "execute_result",
                    "execution_count": 163,
                    "data": {
                        "text/plain": "array([25, 45, 37, 19], dtype=int32)"
                    },
                    "metadata": {}
                }
            ]
        },
        {
            "metadata": {},
            "cell_type": "code",
            "source": "%timeit data['age']\n%timeit data_rec['age']\n%timeit data_rec.age",
            "execution_count": 164,
            "outputs": [
                {
                    "output_type": "stream",
                    "text": "195 ns \u00b1 5 ns per loop (mean \u00b1 std. dev. of 7 runs, 10000000 loops each)\n4.12 \u00b5s \u00b1 191 ns per loop (mean \u00b1 std. dev. of 7 runs, 100000 loops each)\n5.32 \u00b5s \u00b1 240 ns per loop (mean \u00b1 std. dev. of 7 runs, 100000 loops each)\n",
                    "name": "stdout"
                }
            ]
        },
        {
            "metadata": {},
            "cell_type": "code",
            "source": "data = pd.DataFrame({'age':age,'weight':weight}, index = name)",
            "execution_count": 166,
            "outputs": []
        },
        {
            "metadata": {},
            "cell_type": "code",
            "source": "data['age']",
            "execution_count": 167,
            "outputs": [
                {
                    "output_type": "execute_result",
                    "execution_count": 167,
                    "data": {
                        "text/plain": "Alice    25\nBob      45\nCathy    37\nDoug     19\nName: age, dtype: int64"
                    },
                    "metadata": {}
                }
            ]
        },
        {
            "metadata": {},
            "cell_type": "code",
            "source": "data['weight']",
            "execution_count": 168,
            "outputs": [
                {
                    "output_type": "execute_result",
                    "execution_count": 168,
                    "data": {
                        "text/plain": "Alice    55.0\nBob      85.5\nCathy    68.0\nDoug     61.5\nName: weight, dtype: float64"
                    },
                    "metadata": {}
                }
            ]
        },
        {
            "metadata": {},
            "cell_type": "code",
            "source": "data['weight'].dtype",
            "execution_count": 170,
            "outputs": [
                {
                    "output_type": "execute_result",
                    "execution_count": 170,
                    "data": {
                        "text/plain": "dtype('float64')"
                    },
                    "metadata": {}
                }
            ]
        },
        {
            "metadata": {},
            "cell_type": "code",
            "source": "data.size",
            "execution_count": 171,
            "outputs": [
                {
                    "output_type": "execute_result",
                    "execution_count": 171,
                    "data": {
                        "text/plain": "8"
                    },
                    "metadata": {}
                }
            ]
        },
        {
            "metadata": {},
            "cell_type": "code",
            "source": "data.shape",
            "execution_count": 172,
            "outputs": [
                {
                    "output_type": "execute_result",
                    "execution_count": 172,
                    "data": {
                        "text/plain": "(4, 2)"
                    },
                    "metadata": {}
                }
            ]
        },
        {
            "metadata": {},
            "cell_type": "code",
            "source": "data.ndim",
            "execution_count": 173,
            "outputs": [
                {
                    "output_type": "execute_result",
                    "execution_count": 173,
                    "data": {
                        "text/plain": "2"
                    },
                    "metadata": {}
                }
            ]
        },
        {
            "metadata": {},
            "cell_type": "code",
            "source": "",
            "execution_count": null,
            "outputs": []
        }
    ],
    "metadata": {
        "kernelspec": {
            "name": "python3",
            "display_name": "Python 3.6",
            "language": "python"
        },
        "language_info": {
            "name": "python",
            "version": "3.6.9",
            "mimetype": "text/x-python",
            "codemirror_mode": {
                "name": "ipython",
                "version": 3
            },
            "pygments_lexer": "ipython3",
            "nbconvert_exporter": "python",
            "file_extension": ".py"
        }
    },
    "nbformat": 4,
    "nbformat_minor": 1
}